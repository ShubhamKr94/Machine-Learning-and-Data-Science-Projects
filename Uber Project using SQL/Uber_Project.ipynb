{
 "cells": [
  {
   "cell_type": "code",
   "execution_count": 0,
   "metadata": {
    "application/vnd.databricks.v1+cell": {
     "cellMetadata": {
      "byteLimit": 2048000,
      "rowLimit": 10000
     },
     "inputWidgets": {},
     "nuid": "293e5e15-ca78-48a4-9d0d-fa9114b7939d",
     "showTitle": false,
     "title": ""
    }
   },
   "outputs": [],
   "source": [
    "# Read the CSV file using Spark\n",
    "#df_spark = spark.read.csv(\"/FileStore/tables/uber.csv\", header=True, inferSchema=True)\n",
    "\n",
    "# Convert the Spark DataFrame to a pandas DataFrame\n",
    "#df_pandas = df_spark.toPandas()"
   ]
  },
  {
   "cell_type": "code",
   "execution_count": 0,
   "metadata": {
    "application/vnd.databricks.v1+cell": {
     "cellMetadata": {
      "byteLimit": 2048000,
      "rowLimit": 10000
     },
     "inputWidgets": {},
     "nuid": "e88fb0cb-b126-4056-b6cd-e977a2257d38",
     "showTitle": false,
     "title": ""
    }
   },
   "outputs": [],
   "source": [
    "# Display basic information about the DataFrame\n",
    "#print(df_pandas.info())"
   ]
  },
  {
   "cell_type": "code",
   "execution_count": 0,
   "metadata": {
    "application/vnd.databricks.v1+cell": {
     "cellMetadata": {
      "byteLimit": 2048000,
      "rowLimit": 10000
     },
     "inputWidgets": {},
     "nuid": "bb1e3a36-a74a-4861-9257-a00c32aeec46",
     "showTitle": false,
     "title": ""
    }
   },
   "outputs": [
    {
     "output_type": "stream",
     "name": "stdout",
     "output_type": "stream",
     "text": [
      "Out[90]: True"
     ]
    }
   ],
   "source": [
    "dbutils.fs.rm('dbfs:/user/hive/warehouse/taxi_trips', recurse=True)"
   ]
  },
  {
   "cell_type": "markdown",
   "metadata": {
    "application/vnd.databricks.v1+cell": {
     "cellMetadata": {
      "byteLimit": 2048000,
      "rowLimit": 10000
     },
     "inputWidgets": {},
     "nuid": "b2148141-431c-4d72-a88c-d93790ed3b4c",
     "showTitle": false,
     "title": ""
    }
   },
   "source": [
    "# Creating a SQL Table"
   ]
  },
  {
   "cell_type": "code",
   "execution_count": 0,
   "metadata": {
    "application/vnd.databricks.v1+cell": {
     "cellMetadata": {
      "byteLimit": 2048000,
      "implicitDf": true,
      "rowLimit": 10000
     },
     "inputWidgets": {},
     "nuid": "634e817c-c7cb-40ed-8cc8-972d0b5162c2",
     "showTitle": false,
     "title": ""
    }
   },
   "outputs": [
    {
     "output_type": "display_data",
     "data": {
      "text/html": [
       "<style scoped>\n",
       "  .table-result-container {\n",
       "    max-height: 300px;\n",
       "    overflow: auto;\n",
       "  }\n",
       "  table, th, td {\n",
       "    border: 1px solid black;\n",
       "    border-collapse: collapse;\n",
       "  }\n",
       "  th, td {\n",
       "    padding: 5px;\n",
       "  }\n",
       "  th {\n",
       "    text-align: left;\n",
       "  }\n",
       "</style><div class='table-result-container'><table class='table-result'><thead style='background-color: white'><tr></tr></thead><tbody></tbody></table></div>"
      ]
     },
     "metadata": {
      "application/vnd.databricks.v1+output": {
       "addedWidgets": {},
       "aggData": [],
       "aggError": "",
       "aggOverflow": false,
       "aggSchema": [],
       "aggSeriesLimitReached": false,
       "aggType": "",
       "arguments": {},
       "columnCustomDisplayInfos": {},
       "data": [],
       "datasetInfos": [],
       "dbfsResultPath": null,
       "isJsonSchema": true,
       "metadata": {},
       "overflow": false,
       "plotOptions": {
        "customPlotOptions": {},
        "displayType": "table",
        "pivotAggregation": null,
        "pivotColumns": null,
        "xColumns": null,
        "yColumns": null
       },
       "removedWidgets": [],
       "schema": [],
       "type": "table"
      }
     },
     "output_type": "display_data"
    }
   ],
   "source": [
    "%sql\n",
    "DROP TABLE IF EXISTS taxi_trips;\n",
    "CREATE TABLE taxi_trips (\n",
    "  VendorID INT,\n",
    "  tpep_pickup_datetime TIMESTAMP,\n",
    "  tpep_dropoff_datetime TIMESTAMP,\n",
    "  passenger_count INT,\n",
    "  trip_distance FLOAT,\n",
    "  pickup_longitude FLOAT,\n",
    "  pickup_latitude FLOAT,\n",
    "  RatecodeID INT,\n",
    "  store_and_fwd_flag STRING,\n",
    "  dropoff_longitude FLOAT,\n",
    "  dropoff_latitude FLOAT,\n",
    "  payment_type INT,\n",
    "  fare_amount FLOAT,\n",
    "  extra FLOAT,\n",
    "  mta_tax FLOAT,\n",
    "  tip_amount FLOAT,\n",
    "  tolls_amount FLOAT,\n",
    "  improvement_surcharge FLOAT,\n",
    "  total_amount FLOAT\n",
    ");\n"
   ]
  },
  {
   "cell_type": "markdown",
   "metadata": {
    "application/vnd.databricks.v1+cell": {
     "cellMetadata": {
      "byteLimit": 2048000,
      "rowLimit": 10000
     },
     "inputWidgets": {},
     "nuid": "6f655bdd-ef55-4f12-8d87-8ec76e1ba855",
     "showTitle": false,
     "title": ""
    }
   },
   "source": [
    "# Loading Data from CSV file to SQL Table"
   ]
  },
  {
   "cell_type": "code",
   "execution_count": 0,
   "metadata": {
    "application/vnd.databricks.v1+cell": {
     "cellMetadata": {
      "byteLimit": 2048000,
      "implicitDf": true,
      "rowLimit": 10000
     },
     "inputWidgets": {},
     "nuid": "6870bcd8-7e30-453a-b32f-4f643794421d",
     "showTitle": false,
     "title": ""
    }
   },
   "outputs": [
    {
     "output_type": "display_data",
     "data": {
      "text/html": [
       "<style scoped>\n",
       "  .table-result-container {\n",
       "    max-height: 300px;\n",
       "    overflow: auto;\n",
       "  }\n",
       "  table, th, td {\n",
       "    border: 1px solid black;\n",
       "    border-collapse: collapse;\n",
       "  }\n",
       "  th, td {\n",
       "    padding: 5px;\n",
       "  }\n",
       "  th {\n",
       "    text-align: left;\n",
       "  }\n",
       "</style><div class='table-result-container'><table class='table-result'><thead style='background-color: white'><tr><th>num_affected_rows</th><th>num_inserted_rows</th></tr></thead><tbody><tr><td>100000</td><td>100000</td></tr></tbody></table></div>"
      ]
     },
     "metadata": {
      "application/vnd.databricks.v1+output": {
       "addedWidgets": {},
       "aggData": [],
       "aggError": "",
       "aggOverflow": false,
       "aggSchema": [],
       "aggSeriesLimitReached": false,
       "aggType": "",
       "arguments": {},
       "columnCustomDisplayInfos": {},
       "data": [
        [
         100000,
         100000
        ]
       ],
       "datasetInfos": [],
       "dbfsResultPath": null,
       "isJsonSchema": true,
       "metadata": {},
       "overflow": false,
       "plotOptions": {
        "customPlotOptions": {},
        "displayType": "table",
        "pivotAggregation": null,
        "pivotColumns": null,
        "xColumns": null,
        "yColumns": null
       },
       "removedWidgets": [],
       "schema": [
        {
         "metadata": "{}",
         "name": "num_affected_rows",
         "type": "\"long\""
        },
        {
         "metadata": "{}",
         "name": "num_inserted_rows",
         "type": "\"long\""
        }
       ],
       "type": "table"
      }
     },
     "output_type": "display_data"
    }
   ],
   "source": [
    "%sql\n",
    "-- Load CSV data into a temporary table\n",
    "CREATE OR REPLACE TEMPORARY VIEW temp_uber_data\n",
    "USING csv\n",
    "OPTIONS (\n",
    "  path 'dbfs:/FileStore/tables/uber.csv',\n",
    "  header 'true',\n",
    "  inferSchema 'true'\n",
    ");\n",
    "\n",
    "-- Insert data from the temporary table into the taxi_trips table\n",
    "INSERT INTO taxi_trips\n",
    "SELECT\n",
    "  VendorID,\n",
    "  tpep_pickup_datetime,\n",
    "  tpep_dropoff_datetime,\n",
    "  passenger_count,\n",
    "  trip_distance,\n",
    "  pickup_longitude,\n",
    "  pickup_latitude,\n",
    "  RatecodeID,\n",
    "  store_and_fwd_flag,\n",
    "  dropoff_longitude,\n",
    "  dropoff_latitude,\n",
    "  payment_type,\n",
    "  fare_amount,\n",
    "  extra,\n",
    "  mta_tax,\n",
    "  tip_amount,\n",
    "  tolls_amount,\n",
    "  improvement_surcharge,\n",
    "  total_amount\n",
    "FROM temp_uber_data;\n"
   ]
  },
  {
   "cell_type": "markdown",
   "metadata": {
    "application/vnd.databricks.v1+cell": {
     "cellMetadata": {
      "byteLimit": 2048000,
      "rowLimit": 10000
     },
     "inputWidgets": {},
     "nuid": "50731a0f-e708-4734-a31a-07c462c83034",
     "showTitle": false,
     "title": ""
    }
   },
   "source": [
    "# Displaying first 10 Rows"
   ]
  },
  {
   "cell_type": "code",
   "execution_count": 0,
   "metadata": {
    "application/vnd.databricks.v1+cell": {
     "cellMetadata": {
      "byteLimit": 2048000,
      "implicitDf": true,
      "rowLimit": 10000
     },
     "inputWidgets": {},
     "nuid": "82caa096-cb82-411f-afa5-a7857265f801",
     "showTitle": false,
     "title": ""
    }
   },
   "outputs": [
    {
     "output_type": "display_data",
     "data": {
      "text/html": [
       "<style scoped>\n",
       "  .table-result-container {\n",
       "    max-height: 300px;\n",
       "    overflow: auto;\n",
       "  }\n",
       "  table, th, td {\n",
       "    border: 1px solid black;\n",
       "    border-collapse: collapse;\n",
       "  }\n",
       "  th, td {\n",
       "    padding: 5px;\n",
       "  }\n",
       "  th {\n",
       "    text-align: left;\n",
       "  }\n",
       "</style><div class='table-result-container'><table class='table-result'><thead style='background-color: white'><tr><th>VendorID</th><th>tpep_pickup_datetime</th><th>tpep_dropoff_datetime</th><th>passenger_count</th><th>trip_distance</th><th>pickup_longitude</th><th>pickup_latitude</th><th>RatecodeID</th><th>store_and_fwd_flag</th><th>dropoff_longitude</th><th>dropoff_latitude</th><th>payment_type</th><th>fare_amount</th><th>extra</th><th>mta_tax</th><th>tip_amount</th><th>tolls_amount</th><th>improvement_surcharge</th><th>total_amount</th></tr></thead><tbody><tr><td>1</td><td>2016-03-01T00:00:00.000+0000</td><td>2016-03-01T00:07:55.000+0000</td><td>1</td><td>2.5</td><td>-73.976746</td><td>40.765152</td><td>1</td><td>N</td><td>-74.004265</td><td>40.746128</td><td>1</td><td>9.0</td><td>0.5</td><td>0.5</td><td>2.05</td><td>0.0</td><td>0.3</td><td>12.35</td></tr><tr><td>1</td><td>2016-03-01T00:00:00.000+0000</td><td>2016-03-01T00:11:06.000+0000</td><td>1</td><td>2.9</td><td>-73.98348</td><td>40.767925</td><td>1</td><td>N</td><td>-74.00594</td><td>40.733166</td><td>1</td><td>11.0</td><td>0.5</td><td>0.5</td><td>3.05</td><td>0.0</td><td>0.3</td><td>15.35</td></tr><tr><td>2</td><td>2016-03-01T00:00:00.000+0000</td><td>2016-03-01T00:31:06.000+0000</td><td>2</td><td>19.98</td><td>-73.78202</td><td>40.64481</td><td>1</td><td>N</td><td>-73.97454</td><td>40.67577</td><td>1</td><td>54.5</td><td>0.5</td><td>0.5</td><td>8.0</td><td>0.0</td><td>0.3</td><td>63.8</td></tr><tr><td>2</td><td>2016-03-01T00:00:00.000+0000</td><td>2016-03-01T00:00:00.000+0000</td><td>3</td><td>10.78</td><td>-73.86342</td><td>40.769814</td><td>1</td><td>N</td><td>-73.96965</td><td>40.757767</td><td>1</td><td>31.5</td><td>0.0</td><td>0.5</td><td>3.78</td><td>5.54</td><td>0.3</td><td>41.62</td></tr><tr><td>2</td><td>2016-03-01T00:00:00.000+0000</td><td>2016-03-01T00:00:00.000+0000</td><td>5</td><td>30.43</td><td>-73.97174</td><td>40.792183</td><td>3</td><td>N</td><td>-74.17717</td><td>40.695053</td><td>1</td><td>98.0</td><td>0.0</td><td>0.0</td><td>0.0</td><td>15.5</td><td>0.3</td><td>113.8</td></tr><tr><td>2</td><td>2016-03-01T00:00:00.000+0000</td><td>2016-03-01T00:00:00.000+0000</td><td>5</td><td>5.92</td><td>-74.0172</td><td>40.705383</td><td>1</td><td>N</td><td>-73.97807</td><td>40.755787</td><td>1</td><td>23.5</td><td>1.0</td><td>0.5</td><td>5.06</td><td>0.0</td><td>0.3</td><td>30.36</td></tr><tr><td>2</td><td>2016-03-01T00:00:00.000+0000</td><td>2016-03-01T00:00:00.000+0000</td><td>6</td><td>5.72</td><td>-73.99458</td><td>40.727848</td><td>1</td><td>N</td><td>0.0</td><td>0.0</td><td>2</td><td>23.0</td><td>0.5</td><td>0.5</td><td>0.0</td><td>0.0</td><td>0.3</td><td>24.3</td></tr><tr><td>1</td><td>2016-03-01T00:00:01.000+0000</td><td>2016-03-01T00:16:04.000+0000</td><td>1</td><td>6.2</td><td>-73.78877</td><td>40.64776</td><td>1</td><td>N</td><td>-73.82921</td><td>40.712345</td><td>3</td><td>20.5</td><td>0.5</td><td>0.5</td><td>0.0</td><td>0.0</td><td>0.3</td><td>21.8</td></tr><tr><td>1</td><td>2016-03-01T00:00:01.000+0000</td><td>2016-03-01T00:05:00.000+0000</td><td>1</td><td>0.7</td><td>-73.95822</td><td>40.76464</td><td>1</td><td>N</td><td>-73.967896</td><td>40.7629</td><td>1</td><td>5.5</td><td>0.5</td><td>0.5</td><td>2.0</td><td>0.0</td><td>0.3</td><td>8.8</td></tr><tr><td>2</td><td>2016-03-01T00:00:01.000+0000</td><td>2016-03-01T00:24:06.000+0000</td><td>3</td><td>7.18</td><td>-73.98578</td><td>40.74119</td><td>1</td><td>N</td><td>-73.94635</td><td>40.79788</td><td>1</td><td>23.5</td><td>0.5</td><td>0.5</td><td>3.2</td><td>0.0</td><td>0.3</td><td>28.0</td></tr></tbody></table></div>"
      ]
     },
     "metadata": {
      "application/vnd.databricks.v1+output": {
       "addedWidgets": {},
       "aggData": [],
       "aggError": "",
       "aggOverflow": false,
       "aggSchema": [],
       "aggSeriesLimitReached": false,
       "aggType": "",
       "arguments": {},
       "columnCustomDisplayInfos": {},
       "data": [
        [
         1,
         "2016-03-01T00:00:00.000+0000",
         "2016-03-01T00:07:55.000+0000",
         1,
         2.5,
         -73.976746,
         40.765152,
         1,
         "N",
         -74.004265,
         40.746128,
         1,
         9.0,
         0.5,
         0.5,
         2.05,
         0.0,
         0.3,
         12.35
        ],
        [
         1,
         "2016-03-01T00:00:00.000+0000",
         "2016-03-01T00:11:06.000+0000",
         1,
         2.9,
         -73.98348,
         40.767925,
         1,
         "N",
         -74.00594,
         40.733166,
         1,
         11.0,
         0.5,
         0.5,
         3.05,
         0.0,
         0.3,
         15.35
        ],
        [
         2,
         "2016-03-01T00:00:00.000+0000",
         "2016-03-01T00:31:06.000+0000",
         2,
         19.98,
         -73.78202,
         40.64481,
         1,
         "N",
         -73.97454,
         40.67577,
         1,
         54.5,
         0.5,
         0.5,
         8.0,
         0.0,
         0.3,
         63.8
        ],
        [
         2,
         "2016-03-01T00:00:00.000+0000",
         "2016-03-01T00:00:00.000+0000",
         3,
         10.78,
         -73.86342,
         40.769814,
         1,
         "N",
         -73.96965,
         40.757767,
         1,
         31.5,
         0.0,
         0.5,
         3.78,
         5.54,
         0.3,
         41.62
        ],
        [
         2,
         "2016-03-01T00:00:00.000+0000",
         "2016-03-01T00:00:00.000+0000",
         5,
         30.43,
         -73.97174,
         40.792183,
         3,
         "N",
         -74.17717,
         40.695053,
         1,
         98.0,
         0.0,
         0.0,
         0.0,
         15.5,
         0.3,
         113.8
        ],
        [
         2,
         "2016-03-01T00:00:00.000+0000",
         "2016-03-01T00:00:00.000+0000",
         5,
         5.92,
         -74.0172,
         40.705383,
         1,
         "N",
         -73.97807,
         40.755787,
         1,
         23.5,
         1.0,
         0.5,
         5.06,
         0.0,
         0.3,
         30.36
        ],
        [
         2,
         "2016-03-01T00:00:00.000+0000",
         "2016-03-01T00:00:00.000+0000",
         6,
         5.72,
         -73.99458,
         40.727848,
         1,
         "N",
         0.0,
         0.0,
         2,
         23.0,
         0.5,
         0.5,
         0.0,
         0.0,
         0.3,
         24.3
        ],
        [
         1,
         "2016-03-01T00:00:01.000+0000",
         "2016-03-01T00:16:04.000+0000",
         1,
         6.2,
         -73.78877,
         40.64776,
         1,
         "N",
         -73.82921,
         40.712345,
         3,
         20.5,
         0.5,
         0.5,
         0.0,
         0.0,
         0.3,
         21.8
        ],
        [
         1,
         "2016-03-01T00:00:01.000+0000",
         "2016-03-01T00:05:00.000+0000",
         1,
         0.7,
         -73.95822,
         40.76464,
         1,
         "N",
         -73.967896,
         40.7629,
         1,
         5.5,
         0.5,
         0.5,
         2.0,
         0.0,
         0.3,
         8.8
        ],
        [
         2,
         "2016-03-01T00:00:01.000+0000",
         "2016-03-01T00:24:06.000+0000",
         3,
         7.18,
         -73.98578,
         40.74119,
         1,
         "N",
         -73.94635,
         40.79788,
         1,
         23.5,
         0.5,
         0.5,
         3.2,
         0.0,
         0.3,
         28.0
        ]
       ],
       "datasetInfos": [],
       "dbfsResultPath": null,
       "isJsonSchema": true,
       "metadata": {},
       "overflow": false,
       "plotOptions": {
        "customPlotOptions": {},
        "displayType": "table",
        "pivotAggregation": null,
        "pivotColumns": null,
        "xColumns": null,
        "yColumns": null
       },
       "removedWidgets": [],
       "schema": [
        {
         "metadata": "{}",
         "name": "VendorID",
         "type": "\"integer\""
        },
        {
         "metadata": "{}",
         "name": "tpep_pickup_datetime",
         "type": "\"timestamp\""
        },
        {
         "metadata": "{}",
         "name": "tpep_dropoff_datetime",
         "type": "\"timestamp\""
        },
        {
         "metadata": "{}",
         "name": "passenger_count",
         "type": "\"integer\""
        },
        {
         "metadata": "{}",
         "name": "trip_distance",
         "type": "\"float\""
        },
        {
         "metadata": "{}",
         "name": "pickup_longitude",
         "type": "\"float\""
        },
        {
         "metadata": "{}",
         "name": "pickup_latitude",
         "type": "\"float\""
        },
        {
         "metadata": "{}",
         "name": "RatecodeID",
         "type": "\"integer\""
        },
        {
         "metadata": "{}",
         "name": "store_and_fwd_flag",
         "type": "\"string\""
        },
        {
         "metadata": "{}",
         "name": "dropoff_longitude",
         "type": "\"float\""
        },
        {
         "metadata": "{}",
         "name": "dropoff_latitude",
         "type": "\"float\""
        },
        {
         "metadata": "{}",
         "name": "payment_type",
         "type": "\"integer\""
        },
        {
         "metadata": "{}",
         "name": "fare_amount",
         "type": "\"float\""
        },
        {
         "metadata": "{}",
         "name": "extra",
         "type": "\"float\""
        },
        {
         "metadata": "{}",
         "name": "mta_tax",
         "type": "\"float\""
        },
        {
         "metadata": "{}",
         "name": "tip_amount",
         "type": "\"float\""
        },
        {
         "metadata": "{}",
         "name": "tolls_amount",
         "type": "\"float\""
        },
        {
         "metadata": "{}",
         "name": "improvement_surcharge",
         "type": "\"float\""
        },
        {
         "metadata": "{}",
         "name": "total_amount",
         "type": "\"float\""
        }
       ],
       "type": "table"
      }
     },
     "output_type": "display_data"
    }
   ],
   "source": [
    "%sql\n",
    "SELECT * FROM taxi_trips LIMIT 10;"
   ]
  },
  {
   "cell_type": "markdown",
   "metadata": {
    "application/vnd.databricks.v1+cell": {
     "cellMetadata": {
      "byteLimit": 2048000,
      "rowLimit": 10000
     },
     "inputWidgets": {},
     "nuid": "188e8d2b-abcf-45a3-9553-29f154760ff7",
     "showTitle": false,
     "title": ""
    }
   },
   "source": [
    "# Normal Queries"
   ]
  },
  {
   "cell_type": "markdown",
   "metadata": {
    "application/vnd.databricks.v1+cell": {
     "cellMetadata": {
      "byteLimit": 2048000,
      "rowLimit": 10000
     },
     "inputWidgets": {},
     "nuid": "b1453a25-9dd3-4582-a75c-e99472558d91",
     "showTitle": false,
     "title": ""
    }
   },
   "source": [
    "###Q1. Find the total number of trips for each VendorID and the average trip distance for each vendor."
   ]
  },
  {
   "cell_type": "code",
   "execution_count": 0,
   "metadata": {
    "application/vnd.databricks.v1+cell": {
     "cellMetadata": {
      "byteLimit": 2048000,
      "implicitDf": true,
      "rowLimit": 10000
     },
     "inputWidgets": {},
     "nuid": "38c47e7d-b7f6-4919-8a58-290a68824142",
     "showTitle": false,
     "title": ""
    }
   },
   "outputs": [
    {
     "output_type": "display_data",
     "data": {
      "text/html": [
       "<style scoped>\n",
       "  .table-result-container {\n",
       "    max-height: 300px;\n",
       "    overflow: auto;\n",
       "  }\n",
       "  table, th, td {\n",
       "    border: 1px solid black;\n",
       "    border-collapse: collapse;\n",
       "  }\n",
       "  th, td {\n",
       "    padding: 5px;\n",
       "  }\n",
       "  th {\n",
       "    text-align: left;\n",
       "  }\n",
       "</style><div class='table-result-container'><table class='table-result'><thead style='background-color: white'><tr><th>VendorID</th><th>total_trips</th><th>avg_trip_distance</th></tr></thead><tbody><tr><td>1</td><td>11673</td><td>3.8564550658838104</td></tr><tr><td>2</td><td>88327</td><td>2.9256132325404023</td></tr></tbody></table></div>"
      ]
     },
     "metadata": {
      "application/vnd.databricks.v1+output": {
       "addedWidgets": {},
       "aggData": [],
       "aggError": "",
       "aggOverflow": false,
       "aggSchema": [],
       "aggSeriesLimitReached": false,
       "aggType": "",
       "arguments": {},
       "columnCustomDisplayInfos": {},
       "data": [
        [
         1,
         11673,
         3.8564550658838104
        ],
        [
         2,
         88327,
         2.9256132325404023
        ]
       ],
       "datasetInfos": [],
       "dbfsResultPath": null,
       "isJsonSchema": true,
       "metadata": {},
       "overflow": false,
       "plotOptions": {
        "customPlotOptions": {},
        "displayType": "table",
        "pivotAggregation": null,
        "pivotColumns": null,
        "xColumns": null,
        "yColumns": null
       },
       "removedWidgets": [],
       "schema": [
        {
         "metadata": "{}",
         "name": "VendorID",
         "type": "\"integer\""
        },
        {
         "metadata": "{}",
         "name": "total_trips",
         "type": "\"long\""
        },
        {
         "metadata": "{}",
         "name": "avg_trip_distance",
         "type": "\"double\""
        }
       ],
       "type": "table"
      }
     },
     "output_type": "display_data"
    }
   ],
   "source": [
    "%sql\n",
    "SELECT VendorID, COUNT(*) AS total_trips, AVG(trip_distance) AS avg_trip_distance\n",
    "FROM taxi_trips\n",
    "GROUP BY VendorID;\n"
   ]
  },
  {
   "cell_type": "markdown",
   "metadata": {
    "application/vnd.databricks.v1+cell": {
     "cellMetadata": {
      "byteLimit": 2048000,
      "rowLimit": 10000
     },
     "inputWidgets": {},
     "nuid": "3a719148-23e0-4910-97a9-06ab61f99385",
     "showTitle": false,
     "title": ""
    }
   },
   "source": [
    "###Q2. Retrieve the trips where the pickup_longitude and pickup_latitude fall within a specific geographical bounding box (e.g., Manhattan)."
   ]
  },
  {
   "cell_type": "code",
   "execution_count": 0,
   "metadata": {
    "application/vnd.databricks.v1+cell": {
     "cellMetadata": {
      "byteLimit": 2048000,
      "implicitDf": true,
      "rowLimit": 10000
     },
     "inputWidgets": {},
     "nuid": "9f45f8bd-f299-47a9-a4f9-eed681282e48",
     "showTitle": false,
     "title": ""
    }
   },
   "outputs": [
    {
     "output_type": "display_data",
     "data": {
      "text/html": [
       "<style scoped>\n",
       "  .table-result-container {\n",
       "    max-height: 300px;\n",
       "    overflow: auto;\n",
       "  }\n",
       "  table, th, td {\n",
       "    border: 1px solid black;\n",
       "    border-collapse: collapse;\n",
       "  }\n",
       "  th, td {\n",
       "    padding: 5px;\n",
       "  }\n",
       "  th {\n",
       "    text-align: left;\n",
       "  }\n",
       "</style><div class='table-result-container'><table class='table-result'><thead style='background-color: white'><tr><th>VendorID</th><th>tpep_pickup_datetime</th><th>tpep_dropoff_datetime</th><th>passenger_count</th><th>trip_distance</th><th>pickup_longitude</th><th>pickup_latitude</th><th>RatecodeID</th><th>store_and_fwd_flag</th><th>dropoff_longitude</th><th>dropoff_latitude</th><th>payment_type</th><th>fare_amount</th><th>extra</th><th>mta_tax</th><th>tip_amount</th><th>tolls_amount</th><th>improvement_surcharge</th><th>total_amount</th></tr></thead><tbody><tr><td>2</td><td>2016-03-10T12:09:34.000+0000</td><td>2016-03-10T12:25:32.000+0000</td><td>1</td><td>0.79</td><td>-73.97768</td><td>40.75142</td><td>1</td><td>N</td><td>-73.96891</td><td>40.75761</td><td>1</td><td>10.5</td><td>0.0</td><td>0.5</td><td>2.26</td><td>0.0</td><td>0.3</td><td>13.56</td></tr><tr><td>2</td><td>2016-03-10T12:09:35.000+0000</td><td>2016-03-10T12:33:06.000+0000</td><td>2</td><td>2.4</td><td>-73.99571</td><td>40.73891</td><td>1</td><td>N</td><td>-73.98696</td><td>40.76433</td><td>1</td><td>15.5</td><td>0.0</td><td>0.5</td><td>0.0</td><td>0.0</td><td>0.3</td><td>16.3</td></tr><tr><td>2</td><td>2016-03-10T12:09:35.000+0000</td><td>2016-03-10T12:16:00.000+0000</td><td>5</td><td>0.96</td><td>-73.97769</td><td>40.74956</td><td>1</td><td>N</td><td>-73.98399</td><td>40.737904</td><td>1</td><td>6.0</td><td>0.0</td><td>0.5</td><td>1.7</td><td>0.0</td><td>0.3</td><td>8.5</td></tr><tr><td>2</td><td>2016-03-10T12:09:36.000+0000</td><td>2016-03-10T12:32:29.000+0000</td><td>6</td><td>2.69</td><td>-73.98179</td><td>40.76834</td><td>1</td><td>N</td><td>-73.99035</td><td>40.73728</td><td>1</td><td>15.5</td><td>0.0</td><td>0.5</td><td>3.26</td><td>0.0</td><td>0.3</td><td>19.56</td></tr><tr><td>2</td><td>2016-03-10T12:09:37.000+0000</td><td>2016-03-10T12:18:52.000+0000</td><td>2</td><td>1.33</td><td>-73.96703</td><td>40.76683</td><td>1</td><td>N</td><td>-73.95391</td><td>40.78219</td><td>1</td><td>8.0</td><td>0.0</td><td>0.5</td><td>1.0</td><td>0.0</td><td>0.3</td><td>9.8</td></tr><tr><td>2</td><td>2016-03-10T12:09:37.000+0000</td><td>2016-03-10T12:47:02.000+0000</td><td>1</td><td>4.03</td><td>-73.97481</td><td>40.741806</td><td>1</td><td>N</td><td>-73.97063</td><td>40.785896</td><td>1</td><td>24.0</td><td>0.0</td><td>0.5</td><td>4.96</td><td>0.0</td><td>0.3</td><td>29.76</td></tr><tr><td>2</td><td>2016-03-10T12:09:37.000+0000</td><td>2016-03-10T12:13:21.000+0000</td><td>1</td><td>0.38</td><td>-73.998535</td><td>40.7136</td><td>1</td><td>N</td><td>-74.004234</td><td>40.716015</td><td>2</td><td>4.5</td><td>0.0</td><td>0.5</td><td>0.0</td><td>0.0</td><td>0.3</td><td>5.3</td></tr><tr><td>2</td><td>2016-03-10T12:09:38.000+0000</td><td>2016-03-10T12:12:06.000+0000</td><td>1</td><td>0.63</td><td>-73.95909</td><td>40.815033</td><td>1</td><td>N</td><td>-73.959656</td><td>40.808716</td><td>2</td><td>4.0</td><td>0.0</td><td>0.5</td><td>0.0</td><td>0.0</td><td>0.3</td><td>4.8</td></tr><tr><td>2</td><td>2016-03-10T12:09:38.000+0000</td><td>2016-03-10T12:13:43.000+0000</td><td>3</td><td>0.64</td><td>-73.99911</td><td>40.744713</td><td>1</td><td>N</td><td>-74.002304</td><td>40.7503</td><td>1</td><td>5.0</td><td>0.0</td><td>0.5</td><td>1.16</td><td>0.0</td><td>0.3</td><td>6.96</td></tr><tr><td>2</td><td>2016-03-10T12:09:38.000+0000</td><td>2016-03-10T12:17:44.000+0000</td><td>4</td><td>1.51</td><td>-73.962524</td><td>40.77582</td><td>1</td><td>N</td><td>-73.98126</td><td>40.778423</td><td>2</td><td>7.5</td><td>0.0</td><td>0.5</td><td>0.0</td><td>0.0</td><td>0.3</td><td>8.3</td></tr></tbody></table></div>"
      ]
     },
     "metadata": {
      "application/vnd.databricks.v1+output": {
       "addedWidgets": {},
       "aggData": [],
       "aggError": "",
       "aggOverflow": false,
       "aggSchema": [],
       "aggSeriesLimitReached": false,
       "aggType": "",
       "arguments": {},
       "columnCustomDisplayInfos": {},
       "data": [
        [
         2,
         "2016-03-10T12:09:34.000+0000",
         "2016-03-10T12:25:32.000+0000",
         1,
         0.79,
         -73.97768,
         40.75142,
         1,
         "N",
         -73.96891,
         40.75761,
         1,
         10.5,
         0.0,
         0.5,
         2.26,
         0.0,
         0.3,
         13.56
        ],
        [
         2,
         "2016-03-10T12:09:35.000+0000",
         "2016-03-10T12:33:06.000+0000",
         2,
         2.4,
         -73.99571,
         40.73891,
         1,
         "N",
         -73.98696,
         40.76433,
         1,
         15.5,
         0.0,
         0.5,
         0.0,
         0.0,
         0.3,
         16.3
        ],
        [
         2,
         "2016-03-10T12:09:35.000+0000",
         "2016-03-10T12:16:00.000+0000",
         5,
         0.96,
         -73.97769,
         40.74956,
         1,
         "N",
         -73.98399,
         40.737904,
         1,
         6.0,
         0.0,
         0.5,
         1.7,
         0.0,
         0.3,
         8.5
        ],
        [
         2,
         "2016-03-10T12:09:36.000+0000",
         "2016-03-10T12:32:29.000+0000",
         6,
         2.69,
         -73.98179,
         40.76834,
         1,
         "N",
         -73.99035,
         40.73728,
         1,
         15.5,
         0.0,
         0.5,
         3.26,
         0.0,
         0.3,
         19.56
        ],
        [
         2,
         "2016-03-10T12:09:37.000+0000",
         "2016-03-10T12:18:52.000+0000",
         2,
         1.33,
         -73.96703,
         40.76683,
         1,
         "N",
         -73.95391,
         40.78219,
         1,
         8.0,
         0.0,
         0.5,
         1.0,
         0.0,
         0.3,
         9.8
        ],
        [
         2,
         "2016-03-10T12:09:37.000+0000",
         "2016-03-10T12:47:02.000+0000",
         1,
         4.03,
         -73.97481,
         40.741806,
         1,
         "N",
         -73.97063,
         40.785896,
         1,
         24.0,
         0.0,
         0.5,
         4.96,
         0.0,
         0.3,
         29.76
        ],
        [
         2,
         "2016-03-10T12:09:37.000+0000",
         "2016-03-10T12:13:21.000+0000",
         1,
         0.38,
         -73.998535,
         40.7136,
         1,
         "N",
         -74.004234,
         40.716015,
         2,
         4.5,
         0.0,
         0.5,
         0.0,
         0.0,
         0.3,
         5.3
        ],
        [
         2,
         "2016-03-10T12:09:38.000+0000",
         "2016-03-10T12:12:06.000+0000",
         1,
         0.63,
         -73.95909,
         40.815033,
         1,
         "N",
         -73.959656,
         40.808716,
         2,
         4.0,
         0.0,
         0.5,
         0.0,
         0.0,
         0.3,
         4.8
        ],
        [
         2,
         "2016-03-10T12:09:38.000+0000",
         "2016-03-10T12:13:43.000+0000",
         3,
         0.64,
         -73.99911,
         40.744713,
         1,
         "N",
         -74.002304,
         40.7503,
         1,
         5.0,
         0.0,
         0.5,
         1.16,
         0.0,
         0.3,
         6.96
        ],
        [
         2,
         "2016-03-10T12:09:38.000+0000",
         "2016-03-10T12:17:44.000+0000",
         4,
         1.51,
         -73.962524,
         40.77582,
         1,
         "N",
         -73.98126,
         40.778423,
         2,
         7.5,
         0.0,
         0.5,
         0.0,
         0.0,
         0.3,
         8.3
        ]
       ],
       "datasetInfos": [],
       "dbfsResultPath": null,
       "isJsonSchema": true,
       "metadata": {},
       "overflow": false,
       "plotOptions": {
        "customPlotOptions": {},
        "displayType": "table",
        "pivotAggregation": null,
        "pivotColumns": null,
        "xColumns": null,
        "yColumns": null
       },
       "removedWidgets": [],
       "schema": [
        {
         "metadata": "{}",
         "name": "VendorID",
         "type": "\"integer\""
        },
        {
         "metadata": "{}",
         "name": "tpep_pickup_datetime",
         "type": "\"timestamp\""
        },
        {
         "metadata": "{}",
         "name": "tpep_dropoff_datetime",
         "type": "\"timestamp\""
        },
        {
         "metadata": "{}",
         "name": "passenger_count",
         "type": "\"integer\""
        },
        {
         "metadata": "{}",
         "name": "trip_distance",
         "type": "\"float\""
        },
        {
         "metadata": "{}",
         "name": "pickup_longitude",
         "type": "\"float\""
        },
        {
         "metadata": "{}",
         "name": "pickup_latitude",
         "type": "\"float\""
        },
        {
         "metadata": "{}",
         "name": "RatecodeID",
         "type": "\"integer\""
        },
        {
         "metadata": "{}",
         "name": "store_and_fwd_flag",
         "type": "\"string\""
        },
        {
         "metadata": "{}",
         "name": "dropoff_longitude",
         "type": "\"float\""
        },
        {
         "metadata": "{}",
         "name": "dropoff_latitude",
         "type": "\"float\""
        },
        {
         "metadata": "{}",
         "name": "payment_type",
         "type": "\"integer\""
        },
        {
         "metadata": "{}",
         "name": "fare_amount",
         "type": "\"float\""
        },
        {
         "metadata": "{}",
         "name": "extra",
         "type": "\"float\""
        },
        {
         "metadata": "{}",
         "name": "mta_tax",
         "type": "\"float\""
        },
        {
         "metadata": "{}",
         "name": "tip_amount",
         "type": "\"float\""
        },
        {
         "metadata": "{}",
         "name": "tolls_amount",
         "type": "\"float\""
        },
        {
         "metadata": "{}",
         "name": "improvement_surcharge",
         "type": "\"float\""
        },
        {
         "metadata": "{}",
         "name": "total_amount",
         "type": "\"float\""
        }
       ],
       "type": "table"
      }
     },
     "output_type": "display_data"
    }
   ],
   "source": [
    "%sql\n",
    "SELECT * \n",
    "FROM taxi_trips\n",
    "WHERE pickup_longitude BETWEEN -74.00 AND -73.95\n",
    "  AND pickup_latitude BETWEEN 40.70 AND 40.85\n",
    "  LIMIT 10;\n"
   ]
  },
  {
   "cell_type": "markdown",
   "metadata": {
    "application/vnd.databricks.v1+cell": {
     "cellMetadata": {
      "byteLimit": 2048000,
      "rowLimit": 10000
     },
     "inputWidgets": {},
     "nuid": "0f2274fa-4ceb-4fbe-af96-e7848e96011c",
     "showTitle": false,
     "title": ""
    }
   },
   "source": [
    "###Q3. Find the top 5 longest trips (in terms of trip_distance) that were paid in cash (payment_type = 2)."
   ]
  },
  {
   "cell_type": "code",
   "execution_count": 0,
   "metadata": {
    "application/vnd.databricks.v1+cell": {
     "cellMetadata": {
      "byteLimit": 2048000,
      "implicitDf": true,
      "rowLimit": 10000
     },
     "inputWidgets": {},
     "nuid": "7417308c-997b-4977-a7c1-aaed98c5dd19",
     "showTitle": false,
     "title": ""
    }
   },
   "outputs": [
    {
     "output_type": "display_data",
     "data": {
      "text/html": [
       "<style scoped>\n",
       "  .table-result-container {\n",
       "    max-height: 300px;\n",
       "    overflow: auto;\n",
       "  }\n",
       "  table, th, td {\n",
       "    border: 1px solid black;\n",
       "    border-collapse: collapse;\n",
       "  }\n",
       "  th, td {\n",
       "    padding: 5px;\n",
       "  }\n",
       "  th {\n",
       "    text-align: left;\n",
       "  }\n",
       "</style><div class='table-result-container'><table class='table-result'><thead style='background-color: white'><tr><th>VendorID</th><th>tpep_pickup_datetime</th><th>tpep_dropoff_datetime</th><th>passenger_count</th><th>trip_distance</th><th>pickup_longitude</th><th>pickup_latitude</th><th>RatecodeID</th><th>store_and_fwd_flag</th><th>dropoff_longitude</th><th>dropoff_latitude</th><th>payment_type</th><th>fare_amount</th><th>extra</th><th>mta_tax</th><th>tip_amount</th><th>tolls_amount</th><th>improvement_surcharge</th><th>total_amount</th></tr></thead><tbody><tr><td>1</td><td>2016-03-01T01:02:58.000+0000</td><td>2016-03-01T03:54:52.000+0000</td><td>1</td><td>160.8</td><td>-73.90559</td><td>40.874123</td><td>4</td><td>N</td><td>-73.71071</td><td>42.666893</td><td>2</td><td>819.5</td><td>0.5</td><td>0.5</td><td>0.0</td><td>12.0</td><td>0.3</td><td>832.8</td></tr><tr><td>2</td><td>2016-03-10T13:59:29.000+0000</td><td>2016-03-10T16:25:37.000+0000</td><td>1</td><td>55.01</td><td>-73.98124</td><td>40.75799</td><td>5</td><td>N</td><td>-73.978355</td><td>40.7568</td><td>2</td><td>200.0</td><td>0.0</td><td>0.0</td><td>0.0</td><td>5.54</td><td>0.3</td><td>205.84</td></tr><tr><td>2</td><td>2016-03-10T10:18:12.000+0000</td><td>2016-03-10T18:32:00.000+0000</td><td>2</td><td>51.27</td><td>-73.94728</td><td>40.78394</td><td>1</td><td>N</td><td>-73.95114</td><td>40.78518</td><td>2</td><td>314.5</td><td>0.0</td><td>0.5</td><td>0.0</td><td>0.0</td><td>0.3</td><td>315.3</td></tr><tr><td>2</td><td>2016-03-10T11:37:01.000+0000</td><td>2016-03-10T13:54:55.000+0000</td><td>1</td><td>49.56</td><td>-73.995636</td><td>40.725056</td><td>1</td><td>N</td><td>-73.99563</td><td>40.724884</td><td>2</td><td>155.0</td><td>0.0</td><td>0.5</td><td>0.0</td><td>11.08</td><td>0.3</td><td>166.88</td></tr><tr><td>2</td><td>2016-03-10T08:59:54.000+0000</td><td>2016-03-10T12:11:54.000+0000</td><td>1</td><td>48.18</td><td>-73.776726</td><td>40.64535</td><td>2</td><td>N</td><td>-73.806946</td><td>40.68551</td><td>2</td><td>52.0</td><td>0.0</td><td>0.5</td><td>0.0</td><td>0.0</td><td>0.3</td><td>52.8</td></tr></tbody></table></div>"
      ]
     },
     "metadata": {
      "application/vnd.databricks.v1+output": {
       "addedWidgets": {},
       "aggData": [],
       "aggError": "",
       "aggOverflow": false,
       "aggSchema": [],
       "aggSeriesLimitReached": false,
       "aggType": "",
       "arguments": {},
       "columnCustomDisplayInfos": {},
       "data": [
        [
         1,
         "2016-03-01T01:02:58.000+0000",
         "2016-03-01T03:54:52.000+0000",
         1,
         160.8,
         -73.90559,
         40.874123,
         4,
         "N",
         -73.71071,
         42.666893,
         2,
         819.5,
         0.5,
         0.5,
         0.0,
         12.0,
         0.3,
         832.8
        ],
        [
         2,
         "2016-03-10T13:59:29.000+0000",
         "2016-03-10T16:25:37.000+0000",
         1,
         55.01,
         -73.98124,
         40.75799,
         5,
         "N",
         -73.978355,
         40.7568,
         2,
         200.0,
         0.0,
         0.0,
         0.0,
         5.54,
         0.3,
         205.84
        ],
        [
         2,
         "2016-03-10T10:18:12.000+0000",
         "2016-03-10T18:32:00.000+0000",
         2,
         51.27,
         -73.94728,
         40.78394,
         1,
         "N",
         -73.95114,
         40.78518,
         2,
         314.5,
         0.0,
         0.5,
         0.0,
         0.0,
         0.3,
         315.3
        ],
        [
         2,
         "2016-03-10T11:37:01.000+0000",
         "2016-03-10T13:54:55.000+0000",
         1,
         49.56,
         -73.995636,
         40.725056,
         1,
         "N",
         -73.99563,
         40.724884,
         2,
         155.0,
         0.0,
         0.5,
         0.0,
         11.08,
         0.3,
         166.88
        ],
        [
         2,
         "2016-03-10T08:59:54.000+0000",
         "2016-03-10T12:11:54.000+0000",
         1,
         48.18,
         -73.776726,
         40.64535,
         2,
         "N",
         -73.806946,
         40.68551,
         2,
         52.0,
         0.0,
         0.5,
         0.0,
         0.0,
         0.3,
         52.8
        ]
       ],
       "datasetInfos": [],
       "dbfsResultPath": null,
       "isJsonSchema": true,
       "metadata": {},
       "overflow": false,
       "plotOptions": {
        "customPlotOptions": {},
        "displayType": "table",
        "pivotAggregation": null,
        "pivotColumns": null,
        "xColumns": null,
        "yColumns": null
       },
       "removedWidgets": [],
       "schema": [
        {
         "metadata": "{}",
         "name": "VendorID",
         "type": "\"integer\""
        },
        {
         "metadata": "{}",
         "name": "tpep_pickup_datetime",
         "type": "\"timestamp\""
        },
        {
         "metadata": "{}",
         "name": "tpep_dropoff_datetime",
         "type": "\"timestamp\""
        },
        {
         "metadata": "{}",
         "name": "passenger_count",
         "type": "\"integer\""
        },
        {
         "metadata": "{}",
         "name": "trip_distance",
         "type": "\"float\""
        },
        {
         "metadata": "{}",
         "name": "pickup_longitude",
         "type": "\"float\""
        },
        {
         "metadata": "{}",
         "name": "pickup_latitude",
         "type": "\"float\""
        },
        {
         "metadata": "{}",
         "name": "RatecodeID",
         "type": "\"integer\""
        },
        {
         "metadata": "{}",
         "name": "store_and_fwd_flag",
         "type": "\"string\""
        },
        {
         "metadata": "{}",
         "name": "dropoff_longitude",
         "type": "\"float\""
        },
        {
         "metadata": "{}",
         "name": "dropoff_latitude",
         "type": "\"float\""
        },
        {
         "metadata": "{}",
         "name": "payment_type",
         "type": "\"integer\""
        },
        {
         "metadata": "{}",
         "name": "fare_amount",
         "type": "\"float\""
        },
        {
         "metadata": "{}",
         "name": "extra",
         "type": "\"float\""
        },
        {
         "metadata": "{}",
         "name": "mta_tax",
         "type": "\"float\""
        },
        {
         "metadata": "{}",
         "name": "tip_amount",
         "type": "\"float\""
        },
        {
         "metadata": "{}",
         "name": "tolls_amount",
         "type": "\"float\""
        },
        {
         "metadata": "{}",
         "name": "improvement_surcharge",
         "type": "\"float\""
        },
        {
         "metadata": "{}",
         "name": "total_amount",
         "type": "\"float\""
        }
       ],
       "type": "table"
      }
     },
     "output_type": "display_data"
    }
   ],
   "source": [
    "%sql\n",
    "SELECT * \n",
    "FROM taxi_trips\n",
    "WHERE payment_type = 2\n",
    "ORDER BY trip_distance DESC\n",
    "LIMIT 5;\n"
   ]
  },
  {
   "cell_type": "markdown",
   "metadata": {
    "application/vnd.databricks.v1+cell": {
     "cellMetadata": {
      "byteLimit": 2048000,
      "rowLimit": 10000
     },
     "inputWidgets": {},
     "nuid": "cfa0f0ae-830d-4e77-8abb-f27311669e8d",
     "showTitle": false,
     "title": ""
    }
   },
   "source": [
    "###Q4. Calculate the total revenue (total_amount) generated per day."
   ]
  },
  {
   "cell_type": "code",
   "execution_count": 0,
   "metadata": {
    "application/vnd.databricks.v1+cell": {
     "cellMetadata": {
      "byteLimit": 2048000,
      "implicitDf": true,
      "rowLimit": 10000
     },
     "inputWidgets": {},
     "nuid": "17fa99de-e9f5-4c8b-9e88-c24420323097",
     "showTitle": false,
     "title": ""
    }
   },
   "outputs": [
    {
     "output_type": "display_data",
     "data": {
      "text/html": [
       "<style scoped>\n",
       "  .table-result-container {\n",
       "    max-height: 300px;\n",
       "    overflow: auto;\n",
       "  }\n",
       "  table, th, td {\n",
       "    border: 1px solid black;\n",
       "    border-collapse: collapse;\n",
       "  }\n",
       "  th, td {\n",
       "    padding: 5px;\n",
       "  }\n",
       "  th {\n",
       "    text-align: left;\n",
       "  }\n",
       "</style><div class='table-result-container'><table class='table-result'><thead style='background-color: white'><tr><th>pickup_date</th><th>total_revenue</th></tr></thead><tbody><tr><td>2016-03-01</td><td>405907.2987920642</td></tr><tr><td>2016-03-10</td><td>1233164.7891432047</td></tr></tbody></table></div>"
      ]
     },
     "metadata": {
      "application/vnd.databricks.v1+output": {
       "addedWidgets": {},
       "aggData": [],
       "aggError": "",
       "aggOverflow": false,
       "aggSchema": [],
       "aggSeriesLimitReached": false,
       "aggType": "",
       "arguments": {},
       "columnCustomDisplayInfos": {},
       "data": [
        [
         "2016-03-01",
         405907.2987920642
        ],
        [
         "2016-03-10",
         1233164.7891432047
        ]
       ],
       "datasetInfos": [],
       "dbfsResultPath": null,
       "isJsonSchema": true,
       "metadata": {},
       "overflow": false,
       "plotOptions": {
        "customPlotOptions": {},
        "displayType": "table",
        "pivotAggregation": null,
        "pivotColumns": null,
        "xColumns": null,
        "yColumns": null
       },
       "removedWidgets": [],
       "schema": [
        {
         "metadata": "{}",
         "name": "pickup_date",
         "type": "\"date\""
        },
        {
         "metadata": "{}",
         "name": "total_revenue",
         "type": "\"double\""
        }
       ],
       "type": "table"
      }
     },
     "output_type": "display_data"
    }
   ],
   "source": [
    "%sql\n",
    "SELECT DATE(tpep_pickup_datetime) AS pickup_date, SUM(total_amount) AS total_revenue\n",
    "FROM taxi_trips\n",
    "GROUP BY DATE(tpep_pickup_datetime)\n",
    "ORDER BY pickup_date;\n"
   ]
  },
  {
   "cell_type": "markdown",
   "metadata": {
    "application/vnd.databricks.v1+cell": {
     "cellMetadata": {
      "byteLimit": 2048000,
      "rowLimit": 10000
     },
     "inputWidgets": {},
     "nuid": "944f0494-7d63-471f-92f2-2e54fae6e4f4",
     "showTitle": false,
     "title": ""
    }
   },
   "source": [
    "###Q5. Identify the trips where the tip_amount is greater than 20% of the fare_amount."
   ]
  },
  {
   "cell_type": "code",
   "execution_count": 0,
   "metadata": {
    "application/vnd.databricks.v1+cell": {
     "cellMetadata": {
      "byteLimit": 2048000,
      "implicitDf": true,
      "rowLimit": 10000
     },
     "inputWidgets": {},
     "nuid": "fc49a93b-d1f9-4fc1-8646-102a3697d8d6",
     "showTitle": false,
     "title": ""
    }
   },
   "outputs": [
    {
     "output_type": "display_data",
     "data": {
      "text/html": [
       "<style scoped>\n",
       "  .table-result-container {\n",
       "    max-height: 300px;\n",
       "    overflow: auto;\n",
       "  }\n",
       "  table, th, td {\n",
       "    border: 1px solid black;\n",
       "    border-collapse: collapse;\n",
       "  }\n",
       "  th, td {\n",
       "    padding: 5px;\n",
       "  }\n",
       "  th {\n",
       "    text-align: left;\n",
       "  }\n",
       "</style><div class='table-result-container'><table class='table-result'><thead style='background-color: white'><tr><th>VendorID</th><th>tpep_pickup_datetime</th><th>tpep_dropoff_datetime</th><th>passenger_count</th><th>trip_distance</th><th>pickup_longitude</th><th>pickup_latitude</th><th>RatecodeID</th><th>store_and_fwd_flag</th><th>dropoff_longitude</th><th>dropoff_latitude</th><th>payment_type</th><th>fare_amount</th><th>extra</th><th>mta_tax</th><th>tip_amount</th><th>tolls_amount</th><th>improvement_surcharge</th><th>total_amount</th></tr></thead><tbody><tr><td>2</td><td>2016-03-10T12:09:34.000+0000</td><td>2016-03-10T12:25:32.000+0000</td><td>1</td><td>0.79</td><td>-73.97768</td><td>40.75142</td><td>1</td><td>N</td><td>-73.96891</td><td>40.75761</td><td>1</td><td>10.5</td><td>0.0</td><td>0.5</td><td>2.26</td><td>0.0</td><td>0.3</td><td>13.56</td></tr><tr><td>2</td><td>2016-03-10T12:09:35.000+0000</td><td>2016-03-10T12:16:00.000+0000</td><td>5</td><td>0.96</td><td>-73.97769</td><td>40.74956</td><td>1</td><td>N</td><td>-73.98399</td><td>40.737904</td><td>1</td><td>6.0</td><td>0.0</td><td>0.5</td><td>1.7</td><td>0.0</td><td>0.3</td><td>8.5</td></tr><tr><td>2</td><td>2016-03-10T12:09:36.000+0000</td><td>2016-03-10T12:32:29.000+0000</td><td>6</td><td>2.69</td><td>-73.98179</td><td>40.76834</td><td>1</td><td>N</td><td>-73.99035</td><td>40.73728</td><td>1</td><td>15.5</td><td>0.0</td><td>0.5</td><td>3.26</td><td>0.0</td><td>0.3</td><td>19.56</td></tr><tr><td>2</td><td>2016-03-10T12:09:36.000+0000</td><td>2016-03-10T12:25:57.000+0000</td><td>1</td><td>1.91</td><td>-74.00588</td><td>40.72489</td><td>1</td><td>N</td><td>-73.98872</td><td>40.73673</td><td>1</td><td>12.0</td><td>0.0</td><td>0.5</td><td>2.56</td><td>0.0</td><td>0.3</td><td>15.36</td></tr><tr><td>2</td><td>2016-03-10T12:09:37.000+0000</td><td>2016-03-10T12:22:44.000+0000</td><td>5</td><td>1.64</td><td>-74.00679</td><td>40.74871</td><td>1</td><td>N</td><td>-73.99342</td><td>40.73459</td><td>1</td><td>10.0</td><td>0.0</td><td>0.5</td><td>2.16</td><td>0.0</td><td>0.3</td><td>12.96</td></tr><tr><td>2</td><td>2016-03-10T12:09:37.000+0000</td><td>2016-03-10T12:47:02.000+0000</td><td>1</td><td>4.03</td><td>-73.97481</td><td>40.741806</td><td>1</td><td>N</td><td>-73.97063</td><td>40.785896</td><td>1</td><td>24.0</td><td>0.0</td><td>0.5</td><td>4.96</td><td>0.0</td><td>0.3</td><td>29.76</td></tr><tr><td>2</td><td>2016-03-10T12:09:38.000+0000</td><td>2016-03-10T12:13:43.000+0000</td><td>3</td><td>0.64</td><td>-73.99911</td><td>40.744713</td><td>1</td><td>N</td><td>-74.002304</td><td>40.7503</td><td>1</td><td>5.0</td><td>0.0</td><td>0.5</td><td>1.16</td><td>0.0</td><td>0.3</td><td>6.96</td></tr><tr><td>2</td><td>2016-03-10T12:09:39.000+0000</td><td>2016-03-10T12:14:27.000+0000</td><td>2</td><td>0.9</td><td>-73.99053</td><td>40.7187</td><td>1</td><td>N</td><td>-73.98977</td><td>40.728622</td><td>1</td><td>5.5</td><td>0.0</td><td>0.5</td><td>1.58</td><td>0.0</td><td>0.3</td><td>7.88</td></tr><tr><td>2</td><td>2016-03-10T12:09:39.000+0000</td><td>2016-03-10T12:32:20.000+0000</td><td>1</td><td>2.51</td><td>-73.980255</td><td>40.742622</td><td>1</td><td>N</td><td>-73.95927</td><td>40.742336</td><td>1</td><td>16.0</td><td>0.0</td><td>0.5</td><td>4.47</td><td>5.54</td><td>0.3</td><td>26.81</td></tr><tr><td>2</td><td>2016-03-10T12:09:39.000+0000</td><td>2016-03-10T12:25:51.000+0000</td><td>1</td><td>3.02</td><td>-73.962204</td><td>40.7792</td><td>1</td><td>N</td><td>-73.964165</td><td>40.80747</td><td>1</td><td>13.5</td><td>0.0</td><td>0.5</td><td>2.86</td><td>0.0</td><td>0.3</td><td>17.16</td></tr></tbody></table></div>"
      ]
     },
     "metadata": {
      "application/vnd.databricks.v1+output": {
       "addedWidgets": {},
       "aggData": [],
       "aggError": "",
       "aggOverflow": false,
       "aggSchema": [],
       "aggSeriesLimitReached": false,
       "aggType": "",
       "arguments": {},
       "columnCustomDisplayInfos": {},
       "data": [
        [
         2,
         "2016-03-10T12:09:34.000+0000",
         "2016-03-10T12:25:32.000+0000",
         1,
         0.79,
         -73.97768,
         40.75142,
         1,
         "N",
         -73.96891,
         40.75761,
         1,
         10.5,
         0.0,
         0.5,
         2.26,
         0.0,
         0.3,
         13.56
        ],
        [
         2,
         "2016-03-10T12:09:35.000+0000",
         "2016-03-10T12:16:00.000+0000",
         5,
         0.96,
         -73.97769,
         40.74956,
         1,
         "N",
         -73.98399,
         40.737904,
         1,
         6.0,
         0.0,
         0.5,
         1.7,
         0.0,
         0.3,
         8.5
        ],
        [
         2,
         "2016-03-10T12:09:36.000+0000",
         "2016-03-10T12:32:29.000+0000",
         6,
         2.69,
         -73.98179,
         40.76834,
         1,
         "N",
         -73.99035,
         40.73728,
         1,
         15.5,
         0.0,
         0.5,
         3.26,
         0.0,
         0.3,
         19.56
        ],
        [
         2,
         "2016-03-10T12:09:36.000+0000",
         "2016-03-10T12:25:57.000+0000",
         1,
         1.91,
         -74.00588,
         40.72489,
         1,
         "N",
         -73.98872,
         40.73673,
         1,
         12.0,
         0.0,
         0.5,
         2.56,
         0.0,
         0.3,
         15.36
        ],
        [
         2,
         "2016-03-10T12:09:37.000+0000",
         "2016-03-10T12:22:44.000+0000",
         5,
         1.64,
         -74.00679,
         40.74871,
         1,
         "N",
         -73.99342,
         40.73459,
         1,
         10.0,
         0.0,
         0.5,
         2.16,
         0.0,
         0.3,
         12.96
        ],
        [
         2,
         "2016-03-10T12:09:37.000+0000",
         "2016-03-10T12:47:02.000+0000",
         1,
         4.03,
         -73.97481,
         40.741806,
         1,
         "N",
         -73.97063,
         40.785896,
         1,
         24.0,
         0.0,
         0.5,
         4.96,
         0.0,
         0.3,
         29.76
        ],
        [
         2,
         "2016-03-10T12:09:38.000+0000",
         "2016-03-10T12:13:43.000+0000",
         3,
         0.64,
         -73.99911,
         40.744713,
         1,
         "N",
         -74.002304,
         40.7503,
         1,
         5.0,
         0.0,
         0.5,
         1.16,
         0.0,
         0.3,
         6.96
        ],
        [
         2,
         "2016-03-10T12:09:39.000+0000",
         "2016-03-10T12:14:27.000+0000",
         2,
         0.9,
         -73.99053,
         40.7187,
         1,
         "N",
         -73.98977,
         40.728622,
         1,
         5.5,
         0.0,
         0.5,
         1.58,
         0.0,
         0.3,
         7.88
        ],
        [
         2,
         "2016-03-10T12:09:39.000+0000",
         "2016-03-10T12:32:20.000+0000",
         1,
         2.51,
         -73.980255,
         40.742622,
         1,
         "N",
         -73.95927,
         40.742336,
         1,
         16.0,
         0.0,
         0.5,
         4.47,
         5.54,
         0.3,
         26.81
        ],
        [
         2,
         "2016-03-10T12:09:39.000+0000",
         "2016-03-10T12:25:51.000+0000",
         1,
         3.02,
         -73.962204,
         40.7792,
         1,
         "N",
         -73.964165,
         40.80747,
         1,
         13.5,
         0.0,
         0.5,
         2.86,
         0.0,
         0.3,
         17.16
        ]
       ],
       "datasetInfos": [],
       "dbfsResultPath": null,
       "isJsonSchema": true,
       "metadata": {},
       "overflow": false,
       "plotOptions": {
        "customPlotOptions": {},
        "displayType": "table",
        "pivotAggregation": null,
        "pivotColumns": null,
        "xColumns": null,
        "yColumns": null
       },
       "removedWidgets": [],
       "schema": [
        {
         "metadata": "{}",
         "name": "VendorID",
         "type": "\"integer\""
        },
        {
         "metadata": "{}",
         "name": "tpep_pickup_datetime",
         "type": "\"timestamp\""
        },
        {
         "metadata": "{}",
         "name": "tpep_dropoff_datetime",
         "type": "\"timestamp\""
        },
        {
         "metadata": "{}",
         "name": "passenger_count",
         "type": "\"integer\""
        },
        {
         "metadata": "{}",
         "name": "trip_distance",
         "type": "\"float\""
        },
        {
         "metadata": "{}",
         "name": "pickup_longitude",
         "type": "\"float\""
        },
        {
         "metadata": "{}",
         "name": "pickup_latitude",
         "type": "\"float\""
        },
        {
         "metadata": "{}",
         "name": "RatecodeID",
         "type": "\"integer\""
        },
        {
         "metadata": "{}",
         "name": "store_and_fwd_flag",
         "type": "\"string\""
        },
        {
         "metadata": "{}",
         "name": "dropoff_longitude",
         "type": "\"float\""
        },
        {
         "metadata": "{}",
         "name": "dropoff_latitude",
         "type": "\"float\""
        },
        {
         "metadata": "{}",
         "name": "payment_type",
         "type": "\"integer\""
        },
        {
         "metadata": "{}",
         "name": "fare_amount",
         "type": "\"float\""
        },
        {
         "metadata": "{}",
         "name": "extra",
         "type": "\"float\""
        },
        {
         "metadata": "{}",
         "name": "mta_tax",
         "type": "\"float\""
        },
        {
         "metadata": "{}",
         "name": "tip_amount",
         "type": "\"float\""
        },
        {
         "metadata": "{}",
         "name": "tolls_amount",
         "type": "\"float\""
        },
        {
         "metadata": "{}",
         "name": "improvement_surcharge",
         "type": "\"float\""
        },
        {
         "metadata": "{}",
         "name": "total_amount",
         "type": "\"float\""
        }
       ],
       "type": "table"
      }
     },
     "output_type": "display_data"
    }
   ],
   "source": [
    "%sql\n",
    "SELECT * \n",
    "FROM taxi_trips\n",
    "WHERE tip_amount > 0.2 * fare_amount\n",
    "LIMIT 10;\n"
   ]
  },
  {
   "cell_type": "markdown",
   "metadata": {
    "application/vnd.databricks.v1+cell": {
     "cellMetadata": {
      "byteLimit": 2048000,
      "rowLimit": 10000
     },
     "inputWidgets": {},
     "nuid": "96cfffbc-cb50-42c1-a500-599ff23dcd31",
     "showTitle": false,
     "title": ""
    }
   },
   "source": [
    "###Q6. Find the most common RatecodeID for trips with more than 4 passengers."
   ]
  },
  {
   "cell_type": "code",
   "execution_count": 0,
   "metadata": {
    "application/vnd.databricks.v1+cell": {
     "cellMetadata": {
      "byteLimit": 2048000,
      "implicitDf": true,
      "rowLimit": 10000
     },
     "inputWidgets": {},
     "nuid": "5fd45bcc-6888-4288-9cd7-a07dcefbf9d6",
     "showTitle": false,
     "title": ""
    }
   },
   "outputs": [
    {
     "output_type": "display_data",
     "data": {
      "text/html": [
       "<style scoped>\n",
       "  .table-result-container {\n",
       "    max-height: 300px;\n",
       "    overflow: auto;\n",
       "  }\n",
       "  table, th, td {\n",
       "    border: 1px solid black;\n",
       "    border-collapse: collapse;\n",
       "  }\n",
       "  th, td {\n",
       "    padding: 5px;\n",
       "  }\n",
       "  th {\n",
       "    text-align: left;\n",
       "  }\n",
       "</style><div class='table-result-container'><table class='table-result'><thead style='background-color: white'><tr><th>RatecodeID</th><th>count</th></tr></thead><tbody><tr><td>1</td><td>14453</td></tr></tbody></table></div>"
      ]
     },
     "metadata": {
      "application/vnd.databricks.v1+output": {
       "addedWidgets": {},
       "aggData": [],
       "aggError": "",
       "aggOverflow": false,
       "aggSchema": [],
       "aggSeriesLimitReached": false,
       "aggType": "",
       "arguments": {},
       "columnCustomDisplayInfos": {},
       "data": [
        [
         1,
         14453
        ]
       ],
       "datasetInfos": [],
       "dbfsResultPath": null,
       "isJsonSchema": true,
       "metadata": {},
       "overflow": false,
       "plotOptions": {
        "customPlotOptions": {},
        "displayType": "table",
        "pivotAggregation": null,
        "pivotColumns": null,
        "xColumns": null,
        "yColumns": null
       },
       "removedWidgets": [],
       "schema": [
        {
         "metadata": "{}",
         "name": "RatecodeID",
         "type": "\"integer\""
        },
        {
         "metadata": "{}",
         "name": "count",
         "type": "\"long\""
        }
       ],
       "type": "table"
      }
     },
     "output_type": "display_data"
    }
   ],
   "source": [
    "%sql\n",
    "SELECT RatecodeID, COUNT(*) AS count\n",
    "FROM taxi_trips\n",
    "WHERE passenger_count > 4\n",
    "GROUP BY RatecodeID\n",
    "ORDER BY count DESC\n",
    "LIMIT 1;\n"
   ]
  },
  {
   "cell_type": "markdown",
   "metadata": {
    "application/vnd.databricks.v1+cell": {
     "cellMetadata": {
      "byteLimit": 2048000,
      "rowLimit": 10000
     },
     "inputWidgets": {},
     "nuid": "c7992375-760c-4aa8-9061-068ef23d103a",
     "showTitle": false,
     "title": ""
    }
   },
   "source": [
    "###Q7. Determine the average trip distance and total fare amount for each hour of the day."
   ]
  },
  {
   "cell_type": "code",
   "execution_count": 0,
   "metadata": {
    "application/vnd.databricks.v1+cell": {
     "cellMetadata": {
      "byteLimit": 2048000,
      "implicitDf": true,
      "rowLimit": 10000
     },
     "inputWidgets": {},
     "nuid": "9bfd8c42-aab7-4f32-90b2-12d87e96696b",
     "showTitle": false,
     "title": ""
    }
   },
   "outputs": [
    {
     "output_type": "display_data",
     "data": {
      "text/html": [
       "<style scoped>\n",
       "  .table-result-container {\n",
       "    max-height: 300px;\n",
       "    overflow: auto;\n",
       "  }\n",
       "  table, th, td {\n",
       "    border: 1px solid black;\n",
       "    border-collapse: collapse;\n",
       "  }\n",
       "  th, td {\n",
       "    padding: 5px;\n",
       "  }\n",
       "  th {\n",
       "    text-align: left;\n",
       "  }\n",
       "</style><div class='table-result-container'><table class='table-result'><thead style='background-color: white'><tr><th>pickup_hour</th><th>avg_trip_distance</th><th>total_fare</th></tr></thead><tbody><tr><td>0</td><td>3.8484178543299215</td><td>123377.42957812548</td></tr><tr><td>1</td><td>3.757442145054691</td><td>70962.12978708744</td></tr><tr><td>2</td><td>3.4637701740276516</td><td>41108.14986854792</td></tr><tr><td>3</td><td>3.892290328560217</td><td>31724.87986242771</td></tr><tr><td>4</td><td>4.754800415107813</td><td>38209.58984684944</td></tr><tr><td>5</td><td>4.165872330395699</td><td>68055.14984869957</td></tr><tr><td>6</td><td>3.91125984055985</td><td>32469.970000326633</td></tr><tr><td>7</td><td>2.773499476292917</td><td>142396.04996085167</td></tr><tr><td>8</td><td>2.5475136651051384</td><td>177146.46985912323</td></tr><tr><td>9</td><td>2.6049337067023046</td><td>167358.04982948303</td></tr><tr><td>10</td><td>2.7186306467040793</td><td>154726.8498789072</td></tr><tr><td>11</td><td>2.7164491623890505</td><td>154918.1098678112</td></tr><tr><td>12</td><td>2.716497334991681</td><td>171311.51987075806</td></tr><tr><td>13</td><td>3.071694434481344</td><td>175717.6299238205</td></tr><tr><td>14</td><td>3.278696009977742</td><td>89590.1099524498</td></tr></tbody></table></div>"
      ]
     },
     "metadata": {
      "application/vnd.databricks.v1+output": {
       "addedWidgets": {},
       "aggData": [],
       "aggError": "",
       "aggOverflow": false,
       "aggSchema": [],
       "aggSeriesLimitReached": false,
       "aggType": "",
       "arguments": {},
       "columnCustomDisplayInfos": {},
       "data": [
        [
         0,
         3.8484178543299215,
         123377.42957812548
        ],
        [
         1,
         3.757442145054691,
         70962.12978708744
        ],
        [
         2,
         3.4637701740276516,
         41108.14986854792
        ],
        [
         3,
         3.892290328560217,
         31724.87986242771
        ],
        [
         4,
         4.754800415107813,
         38209.58984684944
        ],
        [
         5,
         4.165872330395699,
         68055.14984869957
        ],
        [
         6,
         3.91125984055985,
         32469.970000326633
        ],
        [
         7,
         2.773499476292917,
         142396.04996085167
        ],
        [
         8,
         2.5475136651051384,
         177146.46985912323
        ],
        [
         9,
         2.6049337067023046,
         167358.04982948303
        ],
        [
         10,
         2.7186306467040793,
         154726.8498789072
        ],
        [
         11,
         2.7164491623890505,
         154918.1098678112
        ],
        [
         12,
         2.716497334991681,
         171311.51987075806
        ],
        [
         13,
         3.071694434481344,
         175717.6299238205
        ],
        [
         14,
         3.278696009977742,
         89590.1099524498
        ]
       ],
       "datasetInfos": [],
       "dbfsResultPath": null,
       "isJsonSchema": true,
       "metadata": {},
       "overflow": false,
       "plotOptions": {
        "customPlotOptions": {},
        "displayType": "table",
        "pivotAggregation": null,
        "pivotColumns": null,
        "xColumns": null,
        "yColumns": null
       },
       "removedWidgets": [],
       "schema": [
        {
         "metadata": "{}",
         "name": "pickup_hour",
         "type": "\"integer\""
        },
        {
         "metadata": "{}",
         "name": "avg_trip_distance",
         "type": "\"double\""
        },
        {
         "metadata": "{}",
         "name": "total_fare",
         "type": "\"double\""
        }
       ],
       "type": "table"
      }
     },
     "output_type": "display_data"
    }
   ],
   "source": [
    "%sql\n",
    "SELECT HOUR(tpep_pickup_datetime) AS pickup_hour, AVG(trip_distance) AS avg_trip_distance, SUM(total_amount) AS total_fare\n",
    "FROM taxi_trips\n",
    "GROUP BY HOUR(tpep_pickup_datetime)\n",
    "ORDER BY pickup_hour;\n"
   ]
  },
  {
   "cell_type": "markdown",
   "metadata": {
    "application/vnd.databricks.v1+cell": {
     "cellMetadata": {
      "byteLimit": 2048000,
      "rowLimit": 10000
     },
     "inputWidgets": {},
     "nuid": "055693ac-114f-4cd9-a5a1-02fc6180fa09",
     "showTitle": false,
     "title": ""
    }
   },
   "source": [
    "###Q8. Find the maximum tolls_amount paid for each VendorID and the corresponding trip details."
   ]
  },
  {
   "cell_type": "code",
   "execution_count": 0,
   "metadata": {
    "application/vnd.databricks.v1+cell": {
     "cellMetadata": {
      "byteLimit": 2048000,
      "implicitDf": true,
      "rowLimit": 10000
     },
     "inputWidgets": {},
     "nuid": "32bca54e-2b4d-4f1c-88ab-6760ff7266be",
     "showTitle": false,
     "title": ""
    }
   },
   "outputs": [
    {
     "output_type": "display_data",
     "data": {
      "text/html": [
       "<style scoped>\n",
       "  .table-result-container {\n",
       "    max-height: 300px;\n",
       "    overflow: auto;\n",
       "  }\n",
       "  table, th, td {\n",
       "    border: 1px solid black;\n",
       "    border-collapse: collapse;\n",
       "  }\n",
       "  th, td {\n",
       "    padding: 5px;\n",
       "  }\n",
       "  th {\n",
       "    text-align: left;\n",
       "  }\n",
       "</style><div class='table-result-container'><table class='table-result'><thead style='background-color: white'><tr><th>VendorID</th><th>tpep_pickup_datetime</th><th>tpep_dropoff_datetime</th><th>passenger_count</th><th>trip_distance</th><th>pickup_longitude</th><th>pickup_latitude</th><th>RatecodeID</th><th>store_and_fwd_flag</th><th>dropoff_longitude</th><th>dropoff_latitude</th><th>payment_type</th><th>fare_amount</th><th>extra</th><th>mta_tax</th><th>tip_amount</th><th>tolls_amount</th><th>improvement_surcharge</th><th>total_amount</th></tr></thead><tbody><tr><td>2</td><td>2016-03-10T11:35:11.000+0000</td><td>2016-03-10T12:25:23.000+0000</td><td>1</td><td>32.39</td><td>-73.88532</td><td>40.77311</td><td>3</td><td>N</td><td>-74.183</td><td>40.68792</td><td>1</td><td>103.0</td><td>0.0</td><td>0.0</td><td>10.0</td><td>25.54</td><td>0.3</td><td>138.84</td></tr><tr><td>1</td><td>2016-03-01T02:20:38.000+0000</td><td>2016-03-01T02:36:09.000+0000</td><td>1</td><td>5.9</td><td>-73.97132</td><td>40.757107</td><td>5</td><td>N</td><td>-74.034035</td><td>40.73008</td><td>1</td><td>55.0</td><td>0.0</td><td>0.0</td><td>0.0</td><td>21.0</td><td>0.3</td><td>76.3</td></tr><tr><td>1</td><td>2016-03-01T03:43:09.000+0000</td><td>2016-03-01T04:21:29.000+0000</td><td>1</td><td>20.4</td><td>-73.973114</td><td>40.756805</td><td>3</td><td>N</td><td>-74.17724</td><td>40.695156</td><td>2</td><td>72.5</td><td>0.5</td><td>0.0</td><td>0.0</td><td>21.0</td><td>0.3</td><td>94.3</td></tr><tr><td>1</td><td>2016-03-01T04:52:53.000+0000</td><td>2016-03-01T05:16:20.000+0000</td><td>1</td><td>18.6</td><td>-73.98659</td><td>40.750618</td><td>3</td><td>N</td><td>-74.18183</td><td>40.687687</td><td>1</td><td>67.5</td><td>0.5</td><td>0.0</td><td>10.0</td><td>21.0</td><td>0.3</td><td>99.3</td></tr></tbody></table></div>"
      ]
     },
     "metadata": {
      "application/vnd.databricks.v1+output": {
       "addedWidgets": {},
       "aggData": [],
       "aggError": "",
       "aggOverflow": false,
       "aggSchema": [],
       "aggSeriesLimitReached": false,
       "aggType": "",
       "arguments": {},
       "columnCustomDisplayInfos": {},
       "data": [
        [
         2,
         "2016-03-10T11:35:11.000+0000",
         "2016-03-10T12:25:23.000+0000",
         1,
         32.39,
         -73.88532,
         40.77311,
         3,
         "N",
         -74.183,
         40.68792,
         1,
         103.0,
         0.0,
         0.0,
         10.0,
         25.54,
         0.3,
         138.84
        ],
        [
         1,
         "2016-03-01T02:20:38.000+0000",
         "2016-03-01T02:36:09.000+0000",
         1,
         5.9,
         -73.97132,
         40.757107,
         5,
         "N",
         -74.034035,
         40.73008,
         1,
         55.0,
         0.0,
         0.0,
         0.0,
         21.0,
         0.3,
         76.3
        ],
        [
         1,
         "2016-03-01T03:43:09.000+0000",
         "2016-03-01T04:21:29.000+0000",
         1,
         20.4,
         -73.973114,
         40.756805,
         3,
         "N",
         -74.17724,
         40.695156,
         2,
         72.5,
         0.5,
         0.0,
         0.0,
         21.0,
         0.3,
         94.3
        ],
        [
         1,
         "2016-03-01T04:52:53.000+0000",
         "2016-03-01T05:16:20.000+0000",
         1,
         18.6,
         -73.98659,
         40.750618,
         3,
         "N",
         -74.18183,
         40.687687,
         1,
         67.5,
         0.5,
         0.0,
         10.0,
         21.0,
         0.3,
         99.3
        ]
       ],
       "datasetInfos": [],
       "dbfsResultPath": null,
       "isJsonSchema": true,
       "metadata": {},
       "overflow": false,
       "plotOptions": {
        "customPlotOptions": {},
        "displayType": "table",
        "pivotAggregation": null,
        "pivotColumns": null,
        "xColumns": null,
        "yColumns": null
       },
       "removedWidgets": [],
       "schema": [
        {
         "metadata": "{}",
         "name": "VendorID",
         "type": "\"integer\""
        },
        {
         "metadata": "{}",
         "name": "tpep_pickup_datetime",
         "type": "\"timestamp\""
        },
        {
         "metadata": "{}",
         "name": "tpep_dropoff_datetime",
         "type": "\"timestamp\""
        },
        {
         "metadata": "{}",
         "name": "passenger_count",
         "type": "\"integer\""
        },
        {
         "metadata": "{}",
         "name": "trip_distance",
         "type": "\"float\""
        },
        {
         "metadata": "{}",
         "name": "pickup_longitude",
         "type": "\"float\""
        },
        {
         "metadata": "{}",
         "name": "pickup_latitude",
         "type": "\"float\""
        },
        {
         "metadata": "{}",
         "name": "RatecodeID",
         "type": "\"integer\""
        },
        {
         "metadata": "{}",
         "name": "store_and_fwd_flag",
         "type": "\"string\""
        },
        {
         "metadata": "{}",
         "name": "dropoff_longitude",
         "type": "\"float\""
        },
        {
         "metadata": "{}",
         "name": "dropoff_latitude",
         "type": "\"float\""
        },
        {
         "metadata": "{}",
         "name": "payment_type",
         "type": "\"integer\""
        },
        {
         "metadata": "{}",
         "name": "fare_amount",
         "type": "\"float\""
        },
        {
         "metadata": "{}",
         "name": "extra",
         "type": "\"float\""
        },
        {
         "metadata": "{}",
         "name": "mta_tax",
         "type": "\"float\""
        },
        {
         "metadata": "{}",
         "name": "tip_amount",
         "type": "\"float\""
        },
        {
         "metadata": "{}",
         "name": "tolls_amount",
         "type": "\"float\""
        },
        {
         "metadata": "{}",
         "name": "improvement_surcharge",
         "type": "\"float\""
        },
        {
         "metadata": "{}",
         "name": "total_amount",
         "type": "\"float\""
        }
       ],
       "type": "table"
      }
     },
     "output_type": "display_data"
    }
   ],
   "source": [
    "%sql\n",
    "SELECT a.*\n",
    "FROM taxi_trips a\n",
    "JOIN (\n",
    "  SELECT VendorID, MAX(tolls_amount) AS max_tolls\n",
    "  FROM taxi_trips\n",
    "  GROUP BY VendorID\n",
    ") b\n",
    "ON a.VendorID = b.VendorID AND a.tolls_amount = b.max_tolls;\n"
   ]
  },
  {
   "cell_type": "markdown",
   "metadata": {
    "application/vnd.databricks.v1+cell": {
     "cellMetadata": {
      "byteLimit": 2048000,
      "rowLimit": 10000
     },
     "inputWidgets": {},
     "nuid": "a982640c-0d2e-404a-9edf-71cb2d05e068",
     "showTitle": false,
     "title": ""
    }
   },
   "source": [
    "###Q9. Identify the days of the week (e.g., Monday, Tuesday) with the highest average total_amount."
   ]
  },
  {
   "cell_type": "code",
   "execution_count": 0,
   "metadata": {
    "application/vnd.databricks.v1+cell": {
     "cellMetadata": {
      "byteLimit": 2048000,
      "implicitDf": true,
      "rowLimit": 10000
     },
     "inputWidgets": {},
     "nuid": "ff86dffc-9a55-4c54-882f-54ba44e7d5fe",
     "showTitle": false,
     "title": ""
    }
   },
   "outputs": [
    {
     "output_type": "display_data",
     "data": {
      "text/html": [
       "<style scoped>\n",
       "  .table-result-container {\n",
       "    max-height: 300px;\n",
       "    overflow: auto;\n",
       "  }\n",
       "  table, th, td {\n",
       "    border: 1px solid black;\n",
       "    border-collapse: collapse;\n",
       "  }\n",
       "  th, td {\n",
       "    padding: 5px;\n",
       "  }\n",
       "  th {\n",
       "    text-align: left;\n",
       "  }\n",
       "</style><div class='table-result-container'><table class='table-result'><thead style='background-color: white'><tr><th>day_of_week</th><th>avg_total_amount</th></tr></thead><tbody><tr><td>3</td><td>17.480934487169</td></tr><tr><td>5</td><td>16.061015748153228</td></tr></tbody></table></div>"
      ]
     },
     "metadata": {
      "application/vnd.databricks.v1+output": {
       "addedWidgets": {},
       "aggData": [],
       "aggError": "",
       "aggOverflow": false,
       "aggSchema": [],
       "aggSeriesLimitReached": false,
       "aggType": "",
       "arguments": {},
       "columnCustomDisplayInfos": {},
       "data": [
        [
         3,
         17.480934487169
        ],
        [
         5,
         16.061015748153228
        ]
       ],
       "datasetInfos": [],
       "dbfsResultPath": null,
       "isJsonSchema": true,
       "metadata": {},
       "overflow": false,
       "plotOptions": {
        "customPlotOptions": {},
        "displayType": "table",
        "pivotAggregation": null,
        "pivotColumns": null,
        "xColumns": null,
        "yColumns": null
       },
       "removedWidgets": [],
       "schema": [
        {
         "metadata": "{}",
         "name": "day_of_week",
         "type": "\"integer\""
        },
        {
         "metadata": "{}",
         "name": "avg_total_amount",
         "type": "\"double\""
        }
       ],
       "type": "table"
      }
     },
     "output_type": "display_data"
    }
   ],
   "source": [
    "%sql\n",
    "SELECT DAYOFWEEK(tpep_pickup_datetime) AS day_of_week, AVG(total_amount) AS avg_total_amount\n",
    "FROM taxi_trips\n",
    "GROUP BY DAYOFWEEK(tpep_pickup_datetime)\n",
    "ORDER BY avg_total_amount DESC;\n"
   ]
  },
  {
   "cell_type": "markdown",
   "metadata": {
    "application/vnd.databricks.v1+cell": {
     "cellMetadata": {
      "byteLimit": 2048000,
      "rowLimit": 10000
     },
     "inputWidgets": {},
     "nuid": "b9f7133e-1904-4865-b735-2c1634837fee",
     "showTitle": false,
     "title": ""
    }
   },
   "source": [
    "###Q10. Calculate the average trip_distance and total_amount for each combination of VendorID and RatecodeID."
   ]
  },
  {
   "cell_type": "code",
   "execution_count": 0,
   "metadata": {
    "application/vnd.databricks.v1+cell": {
     "cellMetadata": {
      "byteLimit": 2048000,
      "implicitDf": true,
      "rowLimit": 10000
     },
     "inputWidgets": {},
     "nuid": "28e4ec0c-f424-4945-9056-0cd7087477da",
     "showTitle": false,
     "title": ""
    }
   },
   "outputs": [
    {
     "output_type": "display_data",
     "data": {
      "text/html": [
       "<style scoped>\n",
       "  .table-result-container {\n",
       "    max-height: 300px;\n",
       "    overflow: auto;\n",
       "  }\n",
       "  table, th, td {\n",
       "    border: 1px solid black;\n",
       "    border-collapse: collapse;\n",
       "  }\n",
       "  th, td {\n",
       "    padding: 5px;\n",
       "  }\n",
       "  th {\n",
       "    text-align: left;\n",
       "  }\n",
       "</style><div class='table-result-container'><table class='table-result'><thead style='background-color: white'><tr><th>VendorID</th><th>RatecodeID</th><th>avg_trip_distance</th><th>avg_total_amount</th></tr></thead><tbody><tr><td>1</td><td>1</td><td>3.376783165818986</td><td>15.239184170259898</td></tr><tr><td>1</td><td>2</td><td>17.665765760114063</td><td>64.86062943971193</td></tr><tr><td>1</td><td>3</td><td>14.653658494716737</td><td>79.40731792915159</td></tr><tr><td>1</td><td>4</td><td>28.609090978449043</td><td>133.39090806787664</td></tr><tr><td>1</td><td>5</td><td>4.846478860143205</td><td>65.15408511816615</td></tr><tr><td>1</td><td>6</td><td>0.10000000149011612</td><td>3.299999952316284</td></tr><tr><td>2</td><td>1</td><td>2.5592361277935765</td><td>14.837183957659589</td></tr><tr><td>2</td><td>2</td><td>17.407353267350942</td><td>64.9673799557518</td></tr><tr><td>2</td><td>3</td><td>16.762262409047235</td><td>90.23520467076366</td></tr><tr><td>2</td><td>4</td><td>17.699729597246325</td><td>76.52513534958298</td></tr><tr><td>2</td><td>5</td><td>6.505235867961398</td><td>79.86179293551535</td></tr></tbody></table></div>"
      ]
     },
     "metadata": {
      "application/vnd.databricks.v1+output": {
       "addedWidgets": {},
       "aggData": [],
       "aggError": "",
       "aggOverflow": false,
       "aggSchema": [],
       "aggSeriesLimitReached": false,
       "aggType": "",
       "arguments": {},
       "columnCustomDisplayInfos": {},
       "data": [
        [
         1,
         1,
         3.376783165818986,
         15.239184170259898
        ],
        [
         1,
         2,
         17.665765760114063,
         64.86062943971193
        ],
        [
         1,
         3,
         14.653658494716737,
         79.40731792915159
        ],
        [
         1,
         4,
         28.609090978449043,
         133.39090806787664
        ],
        [
         1,
         5,
         4.846478860143205,
         65.15408511816615
        ],
        [
         1,
         6,
         0.10000000149011612,
         3.299999952316284
        ],
        [
         2,
         1,
         2.5592361277935765,
         14.837183957659589
        ],
        [
         2,
         2,
         17.407353267350942,
         64.9673799557518
        ],
        [
         2,
         3,
         16.762262409047235,
         90.23520467076366
        ],
        [
         2,
         4,
         17.699729597246325,
         76.52513534958298
        ],
        [
         2,
         5,
         6.505235867961398,
         79.86179293551535
        ]
       ],
       "datasetInfos": [],
       "dbfsResultPath": null,
       "isJsonSchema": true,
       "metadata": {},
       "overflow": false,
       "plotOptions": {
        "customPlotOptions": {},
        "displayType": "table",
        "pivotAggregation": null,
        "pivotColumns": null,
        "xColumns": null,
        "yColumns": null
       },
       "removedWidgets": [],
       "schema": [
        {
         "metadata": "{}",
         "name": "VendorID",
         "type": "\"integer\""
        },
        {
         "metadata": "{}",
         "name": "RatecodeID",
         "type": "\"integer\""
        },
        {
         "metadata": "{}",
         "name": "avg_trip_distance",
         "type": "\"double\""
        },
        {
         "metadata": "{}",
         "name": "avg_total_amount",
         "type": "\"double\""
        }
       ],
       "type": "table"
      }
     },
     "output_type": "display_data"
    }
   ],
   "source": [
    "%sql\n",
    "SELECT VendorID, RatecodeID, AVG(trip_distance) AS avg_trip_distance, AVG(total_amount) AS avg_total_amount\n",
    "FROM taxi_trips\n",
    "GROUP BY VendorID, RatecodeID\n",
    "ORDER BY VendorID, RatecodeID;\n",
    "\n"
   ]
  },
  {
   "cell_type": "markdown",
   "metadata": {
    "application/vnd.databricks.v1+cell": {
     "cellMetadata": {
      "byteLimit": 2048000,
      "rowLimit": 10000
     },
     "inputWidgets": {},
     "nuid": "3d6be950-9953-419c-bcd4-63a44a5e1c2f",
     "showTitle": false,
     "title": ""
    }
   },
   "source": [
    "###Q11. Find the trip with the longest duration (tpep_dropoff_datetime - tpep_pickup_datetime) and display the trip details."
   ]
  },
  {
   "cell_type": "code",
   "execution_count": 0,
   "metadata": {
    "application/vnd.databricks.v1+cell": {
     "cellMetadata": {
      "byteLimit": 2048000,
      "implicitDf": true,
      "rowLimit": 10000
     },
     "inputWidgets": {},
     "nuid": "f9097422-5154-4102-90ec-a228f8ca84c2",
     "showTitle": false,
     "title": ""
    }
   },
   "outputs": [
    {
     "output_type": "display_data",
     "data": {
      "text/html": [
       "<style scoped>\n",
       "  .table-result-container {\n",
       "    max-height: 300px;\n",
       "    overflow: auto;\n",
       "  }\n",
       "  table, th, td {\n",
       "    border: 1px solid black;\n",
       "    border-collapse: collapse;\n",
       "  }\n",
       "  th, td {\n",
       "    padding: 5px;\n",
       "  }\n",
       "  th {\n",
       "    text-align: left;\n",
       "  }\n",
       "</style><div class='table-result-container'><table class='table-result'><thead style='background-color: white'><tr><th>VendorID</th><th>tpep_pickup_datetime</th><th>tpep_dropoff_datetime</th><th>passenger_count</th><th>trip_distance</th><th>pickup_longitude</th><th>pickup_latitude</th><th>RatecodeID</th><th>store_and_fwd_flag</th><th>dropoff_longitude</th><th>dropoff_latitude</th><th>payment_type</th><th>fare_amount</th><th>extra</th><th>mta_tax</th><th>tip_amount</th><th>tolls_amount</th><th>improvement_surcharge</th><th>total_amount</th><th>trip_duration</th></tr></thead><tbody><tr><td>2</td><td>2016-03-10T12:20:08.000+0000</td><td>2016-03-11T12:19:31.000+0000</td><td>1</td><td>3.62</td><td>-73.984146</td><td>40.755177</td><td>1</td><td>N</td><td>-74.00814</td><td>40.72996</td><td>1</td><td>21.5</td><td>0.0</td><td>0.5</td><td>0.0</td><td>0.0</td><td>0.3</td><td>22.3</td><td>Map(zero -> false, seconds -> 86363, negative -> false, nano -> 0, units -> List(SECONDS, NANOS))</td></tr></tbody></table></div>"
      ]
     },
     "metadata": {
      "application/vnd.databricks.v1+output": {
       "addedWidgets": {},
       "aggData": [],
       "aggError": "",
       "aggOverflow": false,
       "aggSchema": [],
       "aggSeriesLimitReached": false,
       "aggType": "",
       "arguments": {},
       "columnCustomDisplayInfos": {},
       "data": [
        [
         2,
         "2016-03-10T12:20:08.000+0000",
         "2016-03-11T12:19:31.000+0000",
         1,
         3.62,
         -73.984146,
         40.755177,
         1,
         "N",
         -74.00814,
         40.72996,
         1,
         21.5,
         0.0,
         0.5,
         0.0,
         0.0,
         0.3,
         22.3,
         {
          "nano": 0,
          "negative": false,
          "seconds": 86363,
          "units": [
           "SECONDS",
           "NANOS"
          ],
          "zero": false
         }
        ]
       ],
       "datasetInfos": [],
       "dbfsResultPath": null,
       "isJsonSchema": true,
       "metadata": {},
       "overflow": false,
       "plotOptions": {
        "customPlotOptions": {},
        "displayType": "table",
        "pivotAggregation": null,
        "pivotColumns": null,
        "xColumns": null,
        "yColumns": null
       },
       "removedWidgets": [],
       "schema": [
        {
         "metadata": "{}",
         "name": "VendorID",
         "type": "\"integer\""
        },
        {
         "metadata": "{}",
         "name": "tpep_pickup_datetime",
         "type": "\"timestamp\""
        },
        {
         "metadata": "{}",
         "name": "tpep_dropoff_datetime",
         "type": "\"timestamp\""
        },
        {
         "metadata": "{}",
         "name": "passenger_count",
         "type": "\"integer\""
        },
        {
         "metadata": "{}",
         "name": "trip_distance",
         "type": "\"float\""
        },
        {
         "metadata": "{}",
         "name": "pickup_longitude",
         "type": "\"float\""
        },
        {
         "metadata": "{}",
         "name": "pickup_latitude",
         "type": "\"float\""
        },
        {
         "metadata": "{}",
         "name": "RatecodeID",
         "type": "\"integer\""
        },
        {
         "metadata": "{}",
         "name": "store_and_fwd_flag",
         "type": "\"string\""
        },
        {
         "metadata": "{}",
         "name": "dropoff_longitude",
         "type": "\"float\""
        },
        {
         "metadata": "{}",
         "name": "dropoff_latitude",
         "type": "\"float\""
        },
        {
         "metadata": "{}",
         "name": "payment_type",
         "type": "\"integer\""
        },
        {
         "metadata": "{}",
         "name": "fare_amount",
         "type": "\"float\""
        },
        {
         "metadata": "{}",
         "name": "extra",
         "type": "\"float\""
        },
        {
         "metadata": "{}",
         "name": "mta_tax",
         "type": "\"float\""
        },
        {
         "metadata": "{}",
         "name": "tip_amount",
         "type": "\"float\""
        },
        {
         "metadata": "{}",
         "name": "tolls_amount",
         "type": "\"float\""
        },
        {
         "metadata": "{}",
         "name": "improvement_surcharge",
         "type": "\"float\""
        },
        {
         "metadata": "{}",
         "name": "total_amount",
         "type": "\"float\""
        },
        {
         "metadata": "{}",
         "name": "trip_duration",
         "type": "\"interval day to second\""
        }
       ],
       "type": "table"
      }
     },
     "output_type": "display_data"
    }
   ],
   "source": [
    "%sql\n",
    "SELECT *, \n",
    "       (tpep_dropoff_datetime - tpep_pickup_datetime) AS trip_duration\n",
    "FROM taxi_trips\n",
    "ORDER BY trip_duration DESC\n",
    "LIMIT 1;\n"
   ]
  },
  {
   "cell_type": "markdown",
   "metadata": {
    "application/vnd.databricks.v1+cell": {
     "cellMetadata": {
      "byteLimit": 2048000,
      "rowLimit": 10000
     },
     "inputWidgets": {},
     "nuid": "eff80ff5-5e54-4984-9f97-075179d37122",
     "showTitle": false,
     "title": ""
    }
   },
   "source": [
    "###Q12. Find the average trip distance and total amount for trips that had more than 2 passengers, grouped by payment_type and ordered by average trip distance in descending order."
   ]
  },
  {
   "cell_type": "code",
   "execution_count": 0,
   "metadata": {
    "application/vnd.databricks.v1+cell": {
     "cellMetadata": {
      "byteLimit": 2048000,
      "implicitDf": true,
      "rowLimit": 10000
     },
     "inputWidgets": {},
     "nuid": "7e4eb836-3873-4c4e-b50c-bcda7e908c57",
     "showTitle": false,
     "title": ""
    }
   },
   "outputs": [
    {
     "output_type": "display_data",
     "data": {
      "text/html": [
       "<style scoped>\n",
       "  .table-result-container {\n",
       "    max-height: 300px;\n",
       "    overflow: auto;\n",
       "  }\n",
       "  table, th, td {\n",
       "    border: 1px solid black;\n",
       "    border-collapse: collapse;\n",
       "  }\n",
       "  th, td {\n",
       "    padding: 5px;\n",
       "  }\n",
       "  th {\n",
       "    text-align: left;\n",
       "  }\n",
       "</style><div class='table-result-container'><table class='table-result'><thead style='background-color: white'><tr><th>payment_type</th><th>average_trip_distance</th><th>total_amount</th></tr></thead><tbody><tr><td>1</td><td>3.0786502921782284</td><td>246347.59947824478</td></tr><tr><td>2</td><td>2.5354649620282528</td><td>88042.1201953888</td></tr><tr><td>4</td><td>0.9341666760543982</td><td>-40.21999955177307</td></tr><tr><td>3</td><td>0.8070000041276216</td><td>-12.299999952316284</td></tr></tbody></table></div>"
      ]
     },
     "metadata": {
      "application/vnd.databricks.v1+output": {
       "addedWidgets": {},
       "aggData": [],
       "aggError": "",
       "aggOverflow": false,
       "aggSchema": [],
       "aggSeriesLimitReached": false,
       "aggType": "",
       "arguments": {},
       "columnCustomDisplayInfos": {},
       "data": [
        [
         1,
         3.0786502921782284,
         246347.59947824478
        ],
        [
         2,
         2.5354649620282528,
         88042.1201953888
        ],
        [
         4,
         0.9341666760543982,
         -40.21999955177307
        ],
        [
         3,
         0.8070000041276216,
         -12.299999952316284
        ]
       ],
       "datasetInfos": [],
       "dbfsResultPath": null,
       "isJsonSchema": true,
       "metadata": {},
       "overflow": false,
       "plotOptions": {
        "customPlotOptions": {},
        "displayType": "table",
        "pivotAggregation": null,
        "pivotColumns": null,
        "xColumns": null,
        "yColumns": null
       },
       "removedWidgets": [],
       "schema": [
        {
         "metadata": "{}",
         "name": "payment_type",
         "type": "\"integer\""
        },
        {
         "metadata": "{}",
         "name": "average_trip_distance",
         "type": "\"double\""
        },
        {
         "metadata": "{}",
         "name": "total_amount",
         "type": "\"double\""
        }
       ],
       "type": "table"
      }
     },
     "output_type": "display_data"
    }
   ],
   "source": [
    "%sql\n",
    "SELECT \n",
    "    payment_type,\n",
    "    AVG(trip_distance) AS average_trip_distance,\n",
    "    SUM(total_amount) AS total_amount\n",
    "FROM \n",
    "    taxi_trips\n",
    "WHERE \n",
    "    passenger_count > 2\n",
    "GROUP BY \n",
    "    payment_type\n",
    "ORDER BY \n",
    "    average_trip_distance DESC;\n"
   ]
  },
  {
   "cell_type": "markdown",
   "metadata": {
    "application/vnd.databricks.v1+cell": {
     "cellMetadata": {
      "byteLimit": 2048000,
      "rowLimit": 10000
     },
     "inputWidgets": {},
     "nuid": "8561daf7-4d82-4666-ab81-1fa6da3c3fc4",
     "showTitle": false,
     "title": ""
    }
   },
   "source": [
    "###Q13. Identify the top 5 longest trips (by trip distance) that used a RatecodeID of 1, and display their pickup and dropoff locations, along with the trip distance."
   ]
  },
  {
   "cell_type": "code",
   "execution_count": 0,
   "metadata": {
    "application/vnd.databricks.v1+cell": {
     "cellMetadata": {
      "byteLimit": 2048000,
      "implicitDf": true,
      "rowLimit": 10000
     },
     "inputWidgets": {},
     "nuid": "46d8c1e7-7a50-424e-acd0-24ec5a10ee24",
     "showTitle": false,
     "title": ""
    }
   },
   "outputs": [
    {
     "output_type": "display_data",
     "data": {
      "text/html": [
       "<style scoped>\n",
       "  .table-result-container {\n",
       "    max-height: 300px;\n",
       "    overflow: auto;\n",
       "  }\n",
       "  table, th, td {\n",
       "    border: 1px solid black;\n",
       "    border-collapse: collapse;\n",
       "  }\n",
       "  th, td {\n",
       "    padding: 5px;\n",
       "  }\n",
       "  th {\n",
       "    text-align: left;\n",
       "  }\n",
       "</style><div class='table-result-container'><table class='table-result'><thead style='background-color: white'><tr><th>pickup_longitude</th><th>pickup_latitude</th><th>dropoff_longitude</th><th>dropoff_latitude</th><th>trip_distance</th></tr></thead><tbody><tr><td>-73.94728</td><td>40.78394</td><td>-73.95114</td><td>40.78518</td><td>51.27</td></tr><tr><td>-73.995636</td><td>40.725056</td><td>-73.99563</td><td>40.724884</td><td>49.56</td></tr><tr><td>-73.871254</td><td>40.773945</td><td>-74.33979</td><td>40.519493</td><td>41.55</td></tr><tr><td>-74.009636</td><td>40.72606</td><td>-74.351456</td><td>40.50695</td><td>34.95</td></tr><tr><td>-73.96937</td><td>40.7624</td><td>-73.52637</td><td>40.76681</td><td>33.76</td></tr></tbody></table></div>"
      ]
     },
     "metadata": {
      "application/vnd.databricks.v1+output": {
       "addedWidgets": {},
       "aggData": [],
       "aggError": "",
       "aggOverflow": false,
       "aggSchema": [],
       "aggSeriesLimitReached": false,
       "aggType": "",
       "arguments": {},
       "columnCustomDisplayInfos": {},
       "data": [
        [
         -73.94728,
         40.78394,
         -73.95114,
         40.78518,
         51.27
        ],
        [
         -73.995636,
         40.725056,
         -73.99563,
         40.724884,
         49.56
        ],
        [
         -73.871254,
         40.773945,
         -74.33979,
         40.519493,
         41.55
        ],
        [
         -74.009636,
         40.72606,
         -74.351456,
         40.50695,
         34.95
        ],
        [
         -73.96937,
         40.7624,
         -73.52637,
         40.76681,
         33.76
        ]
       ],
       "datasetInfos": [],
       "dbfsResultPath": null,
       "isJsonSchema": true,
       "metadata": {},
       "overflow": false,
       "plotOptions": {
        "customPlotOptions": {},
        "displayType": "table",
        "pivotAggregation": null,
        "pivotColumns": null,
        "xColumns": null,
        "yColumns": null
       },
       "removedWidgets": [],
       "schema": [
        {
         "metadata": "{}",
         "name": "pickup_longitude",
         "type": "\"float\""
        },
        {
         "metadata": "{}",
         "name": "pickup_latitude",
         "type": "\"float\""
        },
        {
         "metadata": "{}",
         "name": "dropoff_longitude",
         "type": "\"float\""
        },
        {
         "metadata": "{}",
         "name": "dropoff_latitude",
         "type": "\"float\""
        },
        {
         "metadata": "{}",
         "name": "trip_distance",
         "type": "\"float\""
        }
       ],
       "type": "table"
      }
     },
     "output_type": "display_data"
    }
   ],
   "source": [
    "%sql\n",
    "SELECT \n",
    "    pickup_longitude,\n",
    "    pickup_latitude,\n",
    "    dropoff_longitude,\n",
    "    dropoff_latitude,\n",
    "    trip_distance\n",
    "FROM \n",
    "    taxi_trips\n",
    "WHERE \n",
    "    RatecodeID = 1\n",
    "ORDER BY \n",
    "    trip_distance DESC\n",
    "LIMIT 5;\n"
   ]
  },
  {
   "cell_type": "markdown",
   "metadata": {
    "application/vnd.databricks.v1+cell": {
     "cellMetadata": {
      "byteLimit": 2048000,
      "rowLimit": 10000
     },
     "inputWidgets": {},
     "nuid": "5efd53e9-6b00-48d6-849a-5a618760f8aa",
     "showTitle": false,
     "title": ""
    }
   },
   "source": [
    "###Q14. Find the average fare amount, total improvement surcharge, and number of trips for each combination of payment_type and RatecodeID, where the trips had a tip amount greater than $5."
   ]
  },
  {
   "cell_type": "code",
   "execution_count": 0,
   "metadata": {
    "application/vnd.databricks.v1+cell": {
     "cellMetadata": {
      "byteLimit": 2048000,
      "implicitDf": true,
      "rowLimit": 10000
     },
     "inputWidgets": {},
     "nuid": "7bfa7414-6829-465f-ad7c-8fa969be0ba4",
     "showTitle": false,
     "title": ""
    }
   },
   "outputs": [
    {
     "output_type": "display_data",
     "data": {
      "text/html": [
       "<style scoped>\n",
       "  .table-result-container {\n",
       "    max-height: 300px;\n",
       "    overflow: auto;\n",
       "  }\n",
       "  table, th, td {\n",
       "    border: 1px solid black;\n",
       "    border-collapse: collapse;\n",
       "  }\n",
       "  th, td {\n",
       "    padding: 5px;\n",
       "  }\n",
       "  th {\n",
       "    text-align: left;\n",
       "  }\n",
       "</style><div class='table-result-container'><table class='table-result'><thead style='background-color: white'><tr><th>payment_type</th><th>RatecodeID</th><th>average_fare_amount</th><th>total_improvement_surcharge</th><th>number_of_trips</th></tr></thead><tbody><tr><td>1</td><td>2</td><td>52.0</td><td>434.1000172495842</td><td>1447</td></tr><tr><td>1</td><td>1</td><td>31.149317406143346</td><td>1758.0000698566437</td><td>5860</td></tr><tr><td>1</td><td>3</td><td>68.49714285714286</td><td>52.50000208616257</td><td>175</td></tr><tr><td>1</td><td>4</td><td>72.22727272727273</td><td>6.600000262260437</td><td>22</td></tr><tr><td>3</td><td>2</td><td>52.0</td><td>0.30000001192092896</td><td>1</td></tr><tr><td>1</td><td>5</td><td>82.58308321634928</td><td>35.40000140666962</td><td>120</td></tr></tbody></table></div>"
      ]
     },
     "metadata": {
      "application/vnd.databricks.v1+output": {
       "addedWidgets": {},
       "aggData": [],
       "aggError": "",
       "aggOverflow": false,
       "aggSchema": [],
       "aggSeriesLimitReached": false,
       "aggType": "",
       "arguments": {},
       "columnCustomDisplayInfos": {},
       "data": [
        [
         1,
         2,
         52.0,
         434.1000172495842,
         1447
        ],
        [
         1,
         1,
         31.149317406143346,
         1758.0000698566437,
         5860
        ],
        [
         1,
         3,
         68.49714285714286,
         52.50000208616257,
         175
        ],
        [
         1,
         4,
         72.22727272727273,
         6.600000262260437,
         22
        ],
        [
         3,
         2,
         52.0,
         0.30000001192092896,
         1
        ],
        [
         1,
         5,
         82.58308321634928,
         35.40000140666962,
         120
        ]
       ],
       "datasetInfos": [],
       "dbfsResultPath": null,
       "isJsonSchema": true,
       "metadata": {},
       "overflow": false,
       "plotOptions": {
        "customPlotOptions": {},
        "displayType": "table",
        "pivotAggregation": null,
        "pivotColumns": null,
        "xColumns": null,
        "yColumns": null
       },
       "removedWidgets": [],
       "schema": [
        {
         "metadata": "{}",
         "name": "payment_type",
         "type": "\"integer\""
        },
        {
         "metadata": "{}",
         "name": "RatecodeID",
         "type": "\"integer\""
        },
        {
         "metadata": "{}",
         "name": "average_fare_amount",
         "type": "\"double\""
        },
        {
         "metadata": "{}",
         "name": "total_improvement_surcharge",
         "type": "\"double\""
        },
        {
         "metadata": "{}",
         "name": "number_of_trips",
         "type": "\"long\""
        }
       ],
       "type": "table"
      }
     },
     "output_type": "display_data"
    }
   ],
   "source": [
    "%sql\n",
    "SELECT \n",
    "    payment_type,\n",
    "    RatecodeID,\n",
    "    AVG(fare_amount) AS average_fare_amount,\n",
    "    SUM(improvement_surcharge) AS total_improvement_surcharge,\n",
    "    COUNT(*) AS number_of_trips\n",
    "FROM \n",
    "    taxi_trips\n",
    "WHERE \n",
    "    tip_amount > 5\n",
    "GROUP BY \n",
    "    payment_type, \n",
    "    RatecodeID;\n"
   ]
  },
  {
   "cell_type": "markdown",
   "metadata": {
    "application/vnd.databricks.v1+cell": {
     "cellMetadata": {
      "byteLimit": 2048000,
      "rowLimit": 10000
     },
     "inputWidgets": {},
     "nuid": "db34d19d-814b-48ab-85e8-461c9a54652c",
     "showTitle": false,
     "title": ""
    }
   },
   "source": [
    "###Q15. Determine the average trip duration (in minutes) and average total amount for trips that started and ended in the same borough (considering approximate longitudes and latitudes), grouped by passenger_count and ordered by average trip duration in ascending order. Assume pickup and dropoff coordinates are within 0.01 degrees of each other to be considered in the same borough."
   ]
  },
  {
   "cell_type": "code",
   "execution_count": 0,
   "metadata": {
    "application/vnd.databricks.v1+cell": {
     "cellMetadata": {
      "byteLimit": 2048000,
      "implicitDf": true,
      "rowLimit": 10000
     },
     "inputWidgets": {},
     "nuid": "13f5bdd8-45a7-413d-8416-a495967ff667",
     "showTitle": false,
     "title": ""
    }
   },
   "outputs": [
    {
     "output_type": "display_data",
     "data": {
      "text/html": [
       "<style scoped>\n",
       "  .table-result-container {\n",
       "    max-height: 300px;\n",
       "    overflow: auto;\n",
       "  }\n",
       "  table, th, td {\n",
       "    border: 1px solid black;\n",
       "    border-collapse: collapse;\n",
       "  }\n",
       "  th, td {\n",
       "    padding: 5px;\n",
       "  }\n",
       "  th {\n",
       "    text-align: left;\n",
       "  }\n",
       "</style><div class='table-result-container'><table class='table-result'><thead style='background-color: white'><tr><th>passenger_count</th><th>average_trip_duration</th><th>average_total_amount</th></tr></thead><tbody><tr><td>6</td><td>7.9094922737306845</td><td>7.846306201023947</td></tr><tr><td>2</td><td>7.939454424484365</td><td>8.364454520914608</td></tr><tr><td>5</td><td>8.309319899244333</td><td>8.028075656722715</td></tr><tr><td>1</td><td>8.455956025605344</td><td>8.471278966970342</td></tr><tr><td>4</td><td>9.004555808656036</td><td>7.694965921936383</td></tr><tr><td>3</td><td>11.912017167381974</td><td>8.468658881126043</td></tr><tr><td>0</td><td>140.66666666666666</td><td>37.96666590372721</td></tr></tbody></table></div>"
      ]
     },
     "metadata": {
      "application/vnd.databricks.v1+output": {
       "addedWidgets": {},
       "aggData": [],
       "aggError": "",
       "aggOverflow": false,
       "aggSchema": [],
       "aggSeriesLimitReached": false,
       "aggType": "",
       "arguments": {},
       "columnCustomDisplayInfos": {},
       "data": [
        [
         6,
         7.9094922737306845,
         7.846306201023947
        ],
        [
         2,
         7.939454424484365,
         8.364454520914608
        ],
        [
         5,
         8.309319899244333,
         8.028075656722715
        ],
        [
         1,
         8.455956025605344,
         8.471278966970342
        ],
        [
         4,
         9.004555808656036,
         7.694965921936383
        ],
        [
         3,
         11.912017167381974,
         8.468658881126043
        ],
        [
         0,
         140.66666666666666,
         37.96666590372721
        ]
       ],
       "datasetInfos": [],
       "dbfsResultPath": null,
       "isJsonSchema": true,
       "metadata": {},
       "overflow": false,
       "plotOptions": {
        "customPlotOptions": {},
        "displayType": "table",
        "pivotAggregation": null,
        "pivotColumns": null,
        "xColumns": null,
        "yColumns": null
       },
       "removedWidgets": [],
       "schema": [
        {
         "metadata": "{}",
         "name": "passenger_count",
         "type": "\"integer\""
        },
        {
         "metadata": "{}",
         "name": "average_trip_duration",
         "type": "\"double\""
        },
        {
         "metadata": "{}",
         "name": "average_total_amount",
         "type": "\"double\""
        }
       ],
       "type": "table"
      }
     },
     "output_type": "display_data"
    }
   ],
   "source": [
    "%sql\n",
    "SELECT \n",
    "    passenger_count,\n",
    "    AVG(TIMESTAMPDIFF(MINUTE, tpep_pickup_datetime, tpep_dropoff_datetime)) AS average_trip_duration,\n",
    "    AVG(total_amount) AS average_total_amount\n",
    "FROM \n",
    "    taxi_trips\n",
    "WHERE \n",
    "    ABS(pickup_longitude - dropoff_longitude) <= 0.01 AND\n",
    "    ABS(pickup_latitude - dropoff_latitude) <= 0.01\n",
    "GROUP BY \n",
    "    passenger_count\n",
    "ORDER BY \n",
    "    average_trip_duration ASC;\n",
    "\n"
   ]
  },
  {
   "cell_type": "markdown",
   "metadata": {
    "application/vnd.databricks.v1+cell": {
     "cellMetadata": {
      "byteLimit": 2048000,
      "rowLimit": 10000
     },
     "inputWidgets": {},
     "nuid": "a4bc91ea-8cca-4ce7-9905-650ee4dc51e8",
     "showTitle": false,
     "title": ""
    }
   },
   "source": [
    "# Nested Queries"
   ]
  },
  {
   "cell_type": "markdown",
   "metadata": {
    "application/vnd.databricks.v1+cell": {
     "cellMetadata": {
      "byteLimit": 2048000,
      "rowLimit": 10000
     },
     "inputWidgets": {},
     "nuid": "43a66351-e7e9-42c8-b6fe-0a125651a096",
     "showTitle": false,
     "title": ""
    }
   },
   "source": [
    "###Q16. List the top 5 days with the highest total tip amount, along with the total tip amount for those days."
   ]
  },
  {
   "cell_type": "code",
   "execution_count": 0,
   "metadata": {
    "application/vnd.databricks.v1+cell": {
     "cellMetadata": {
      "byteLimit": 2048000,
      "implicitDf": true,
      "rowLimit": 10000
     },
     "inputWidgets": {},
     "nuid": "6267b788-e544-4e91-b68d-c0fec4bc1f20",
     "showTitle": false,
     "title": ""
    }
   },
   "outputs": [
    {
     "output_type": "display_data",
     "data": {
      "text/html": [
       "<style scoped>\n",
       "  .table-result-container {\n",
       "    max-height: 300px;\n",
       "    overflow: auto;\n",
       "  }\n",
       "  table, th, td {\n",
       "    border: 1px solid black;\n",
       "    border-collapse: collapse;\n",
       "  }\n",
       "  th, td {\n",
       "    padding: 5px;\n",
       "  }\n",
       "  th {\n",
       "    text-align: left;\n",
       "  }\n",
       "</style><div class='table-result-container'><table class='table-result'><thead style='background-color: white'><tr><th>pickup_date</th><th>total_tip</th></tr></thead><tbody><tr><td>2016-03-10</td><td>144818.639970541</td></tr><tr><td>2016-03-01</td><td>42434.45999929495</td></tr></tbody></table></div>"
      ]
     },
     "metadata": {
      "application/vnd.databricks.v1+output": {
       "addedWidgets": {},
       "aggData": [],
       "aggError": "",
       "aggOverflow": false,
       "aggSchema": [],
       "aggSeriesLimitReached": false,
       "aggType": "",
       "arguments": {},
       "columnCustomDisplayInfos": {},
       "data": [
        [
         "2016-03-10",
         144818.639970541
        ],
        [
         "2016-03-01",
         42434.45999929495
        ]
       ],
       "datasetInfos": [],
       "dbfsResultPath": null,
       "isJsonSchema": true,
       "metadata": {},
       "overflow": false,
       "plotOptions": {
        "customPlotOptions": {},
        "displayType": "table",
        "pivotAggregation": null,
        "pivotColumns": null,
        "xColumns": null,
        "yColumns": null
       },
       "removedWidgets": [],
       "schema": [
        {
         "metadata": "{}",
         "name": "pickup_date",
         "type": "\"date\""
        },
        {
         "metadata": "{}",
         "name": "total_tip",
         "type": "\"double\""
        }
       ],
       "type": "table"
      }
     },
     "output_type": "display_data"
    }
   ],
   "source": [
    "%sql\n",
    "SELECT pickup_date, total_tip\n",
    "FROM (\n",
    "    SELECT DATE(tpep_pickup_datetime) AS pickup_date, SUM(tip_amount) AS total_tip\n",
    "    FROM taxi_trips\n",
    "    GROUP BY pickup_date\n",
    "    ORDER BY total_tip DESC\n",
    "    LIMIT 5\n",
    ") AS top_tip_days;\n"
   ]
  },
  {
   "cell_type": "markdown",
   "metadata": {
    "application/vnd.databricks.v1+cell": {
     "cellMetadata": {
      "byteLimit": 2048000,
      "rowLimit": 10000
     },
     "inputWidgets": {},
     "nuid": "563ba3f4-f716-4589-8de8-cb2c3348461b",
     "showTitle": false,
     "title": ""
    }
   },
   "source": [
    "###Q17. Find the maximum trip distance for trips where the fare amount is greater than the average fare amount of trips that have a passenger count of 2."
   ]
  },
  {
   "cell_type": "code",
   "execution_count": 0,
   "metadata": {
    "application/vnd.databricks.v1+cell": {
     "cellMetadata": {
      "byteLimit": 2048000,
      "implicitDf": true,
      "rowLimit": 10000
     },
     "inputWidgets": {},
     "nuid": "c87ea82c-d262-4cc6-9ef1-e75fcc9d0b4e",
     "showTitle": false,
     "title": ""
    }
   },
   "outputs": [
    {
     "output_type": "display_data",
     "data": {
      "text/html": [
       "<style scoped>\n",
       "  .table-result-container {\n",
       "    max-height: 300px;\n",
       "    overflow: auto;\n",
       "  }\n",
       "  table, th, td {\n",
       "    border: 1px solid black;\n",
       "    border-collapse: collapse;\n",
       "  }\n",
       "  th, td {\n",
       "    padding: 5px;\n",
       "  }\n",
       "  th {\n",
       "    text-align: left;\n",
       "  }\n",
       "</style><div class='table-result-container'><table class='table-result'><thead style='background-color: white'><tr><th>max_distance</th></tr></thead><tbody><tr><td>184.4</td></tr></tbody></table></div>"
      ]
     },
     "metadata": {
      "application/vnd.databricks.v1+output": {
       "addedWidgets": {},
       "aggData": [],
       "aggError": "",
       "aggOverflow": false,
       "aggSchema": [],
       "aggSeriesLimitReached": false,
       "aggType": "",
       "arguments": {},
       "columnCustomDisplayInfos": {},
       "data": [
        [
         184.4
        ]
       ],
       "datasetInfos": [],
       "dbfsResultPath": null,
       "isJsonSchema": true,
       "metadata": {},
       "overflow": false,
       "plotOptions": {
        "customPlotOptions": {},
        "displayType": "table",
        "pivotAggregation": null,
        "pivotColumns": null,
        "xColumns": null,
        "yColumns": null
       },
       "removedWidgets": [],
       "schema": [
        {
         "metadata": "{}",
         "name": "max_distance",
         "type": "\"float\""
        }
       ],
       "type": "table"
      }
     },
     "output_type": "display_data"
    }
   ],
   "source": [
    "%sql\n",
    "SELECT MAX(trip_distance) AS max_distance\n",
    "FROM taxi_trips\n",
    "WHERE fare_amount > (\n",
    "    SELECT AVG(fare_amount)\n",
    "    FROM taxi_trips\n",
    "    WHERE passenger_count = 2\n",
    ");"
   ]
  },
  {
   "cell_type": "markdown",
   "metadata": {
    "application/vnd.databricks.v1+cell": {
     "cellMetadata": {
      "byteLimit": 2048000,
      "rowLimit": 10000
     },
     "inputWidgets": {},
     "nuid": "1b012529-fb9e-468a-b059-32d9bc9791a4",
     "showTitle": false,
     "title": ""
    }
   },
   "source": [
    "###Q18. Calculate the total amount collected on days when the total number of trips was greater than the average number of trips per day."
   ]
  },
  {
   "cell_type": "code",
   "execution_count": 0,
   "metadata": {
    "application/vnd.databricks.v1+cell": {
     "cellMetadata": {
      "byteLimit": 2048000,
      "implicitDf": true,
      "rowLimit": 10000
     },
     "inputWidgets": {},
     "nuid": "9ba5cc94-3923-4997-ba98-f60180a7c330",
     "showTitle": false,
     "title": ""
    }
   },
   "outputs": [
    {
     "output_type": "display_data",
     "data": {
      "text/html": [
       "<style scoped>\n",
       "  .table-result-container {\n",
       "    max-height: 300px;\n",
       "    overflow: auto;\n",
       "  }\n",
       "  table, th, td {\n",
       "    border: 1px solid black;\n",
       "    border-collapse: collapse;\n",
       "  }\n",
       "  th, td {\n",
       "    padding: 5px;\n",
       "  }\n",
       "  th {\n",
       "    text-align: left;\n",
       "  }\n",
       "</style><div class='table-result-container'><table class='table-result'><thead style='background-color: white'><tr><th>total_collected</th></tr></thead><tbody><tr><td>1233164.7891432047</td></tr></tbody></table></div>"
      ]
     },
     "metadata": {
      "application/vnd.databricks.v1+output": {
       "addedWidgets": {},
       "aggData": [],
       "aggError": "",
       "aggOverflow": false,
       "aggSchema": [],
       "aggSeriesLimitReached": false,
       "aggType": "",
       "arguments": {},
       "columnCustomDisplayInfos": {},
       "data": [
        [
         1233164.7891432047
        ]
       ],
       "datasetInfos": [],
       "dbfsResultPath": null,
       "isJsonSchema": true,
       "metadata": {},
       "overflow": false,
       "plotOptions": {
        "customPlotOptions": {},
        "displayType": "table",
        "pivotAggregation": null,
        "pivotColumns": null,
        "xColumns": null,
        "yColumns": null
       },
       "removedWidgets": [],
       "schema": [
        {
         "metadata": "{}",
         "name": "total_collected",
         "type": "\"double\""
        }
       ],
       "type": "table"
      }
     },
     "output_type": "display_data"
    }
   ],
   "source": [
    "%sql\n",
    "SELECT SUM(total_amount) AS total_collected\n",
    "FROM taxi_trips\n",
    "WHERE DATE(tpep_pickup_datetime) IN (\n",
    "    SELECT trip_date\n",
    "    FROM (\n",
    "        SELECT DATE(tpep_pickup_datetime) AS trip_date, COUNT(*) AS trip_count\n",
    "        FROM taxi_trips\n",
    "        GROUP BY trip_date\n",
    "    ) AS daily_trips\n",
    "    WHERE trip_count > (\n",
    "        SELECT AVG(trip_count)\n",
    "        FROM (\n",
    "            SELECT DATE(tpep_pickup_datetime) AS trip_date, COUNT(*) AS trip_count\n",
    "            FROM taxi_trips\n",
    "            GROUP BY trip_date\n",
    "        ) AS avg_daily_trips\n",
    "    )\n",
    ");\n"
   ]
  },
  {
   "cell_type": "markdown",
   "metadata": {
    "application/vnd.databricks.v1+cell": {
     "cellMetadata": {
      "byteLimit": 2048000,
      "rowLimit": 10000
     },
     "inputWidgets": {},
     "nuid": "a608753f-607d-4bde-9cb5-777420e65792",
     "showTitle": false,
     "title": ""
    }
   },
   "source": [
    "###Q19. Determine the average trip distance for trips that started and ended in different rate zones."
   ]
  },
  {
   "cell_type": "code",
   "execution_count": 0,
   "metadata": {
    "application/vnd.databricks.v1+cell": {
     "cellMetadata": {
      "byteLimit": 2048000,
      "implicitDf": true,
      "rowLimit": 10000
     },
     "inputWidgets": {},
     "nuid": "8adcbfc3-1b95-4948-a147-3ee1190f47dc",
     "showTitle": false,
     "title": ""
    }
   },
   "outputs": [
    {
     "output_type": "display_data",
     "data": {
      "text/html": [
       "<style scoped>\n",
       "  .table-result-container {\n",
       "    max-height: 300px;\n",
       "    overflow: auto;\n",
       "  }\n",
       "  table, th, td {\n",
       "    border: 1px solid black;\n",
       "    border-collapse: collapse;\n",
       "  }\n",
       "  th, td {\n",
       "    padding: 5px;\n",
       "  }\n",
       "  th {\n",
       "    text-align: left;\n",
       "  }\n",
       "</style><div class='table-result-container'><table class='table-result'><thead style='background-color: white'><tr><th>average_distance</th></tr></thead><tbody><tr><td>5.7421390817644955</td></tr></tbody></table></div>"
      ]
     },
     "metadata": {
      "application/vnd.databricks.v1+output": {
       "addedWidgets": {},
       "aggData": [],
       "aggError": "",
       "aggOverflow": false,
       "aggSchema": [],
       "aggSeriesLimitReached": false,
       "aggType": "",
       "arguments": {},
       "columnCustomDisplayInfos": {},
       "data": [
        [
         5.7421390817644955
        ]
       ],
       "datasetInfos": [],
       "dbfsResultPath": null,
       "isJsonSchema": true,
       "metadata": {},
       "overflow": false,
       "plotOptions": {
        "customPlotOptions": {},
        "displayType": "table",
        "pivotAggregation": null,
        "pivotColumns": null,
        "xColumns": null,
        "yColumns": null
       },
       "removedWidgets": [],
       "schema": [
        {
         "metadata": "{}",
         "name": "average_distance",
         "type": "\"double\""
        }
       ],
       "type": "table"
      }
     },
     "output_type": "display_data"
    }
   ],
   "source": [
    "%sql\n",
    "WITH pickup_ratecodes AS (\n",
    "    SELECT tpep_pickup_datetime, RatecodeID AS pickup_ratecode\n",
    "    FROM taxi_trips\n",
    "),\n",
    "dropoff_ratecodes AS (\n",
    "    SELECT tpep_dropoff_datetime, RatecodeID AS dropoff_ratecode\n",
    "    FROM taxi_trips\n",
    ")\n",
    "SELECT AVG(trip_distance) AS average_distance\n",
    "FROM taxi_trips tt\n",
    "JOIN pickup_ratecodes pr ON tt.tpep_pickup_datetime = pr.tpep_pickup_datetime\n",
    "JOIN dropoff_ratecodes dr ON tt.tpep_dropoff_datetime = dr.tpep_dropoff_datetime\n",
    "WHERE pr.pickup_ratecode != dr.dropoff_ratecode;\n",
    "\n"
   ]
  },
  {
   "cell_type": "markdown",
   "metadata": {
    "application/vnd.databricks.v1+cell": {
     "cellMetadata": {
      "byteLimit": 2048000,
      "rowLimit": 10000
     },
     "inputWidgets": {},
     "nuid": "b1760c31-42d9-43a6-aba5-fed862abde32",
     "showTitle": false,
     "title": ""
    }
   },
   "source": [
    "###Q20. Find the top 3 longest trips in terms of distance where the total amount paid was more than twice the average total amount for all trips. List the trip distance, total amount, and the date of the trip."
   ]
  },
  {
   "cell_type": "code",
   "execution_count": 0,
   "metadata": {
    "application/vnd.databricks.v1+cell": {
     "cellMetadata": {
      "byteLimit": 2048000,
      "implicitDf": true,
      "rowLimit": 10000
     },
     "inputWidgets": {},
     "nuid": "a4b9db51-5c22-48ab-a66e-6c0c4db577c1",
     "showTitle": false,
     "title": ""
    }
   },
   "outputs": [
    {
     "output_type": "display_data",
     "data": {
      "text/html": [
       "<style scoped>\n",
       "  .table-result-container {\n",
       "    max-height: 300px;\n",
       "    overflow: auto;\n",
       "  }\n",
       "  table, th, td {\n",
       "    border: 1px solid black;\n",
       "    border-collapse: collapse;\n",
       "  }\n",
       "  th, td {\n",
       "    padding: 5px;\n",
       "  }\n",
       "  th {\n",
       "    text-align: left;\n",
       "  }\n",
       "</style><div class='table-result-container'><table class='table-result'><thead style='background-color: white'><tr><th>trip_distance</th><th>total_amount</th><th>tpep_pickup_datetime</th></tr></thead><tbody><tr><td>184.4</td><td>58.34</td><td>2016-03-01T06:14:14.000+0000</td></tr><tr><td>160.8</td><td>832.8</td><td>2016-03-01T01:02:58.000+0000</td></tr><tr><td>55.01</td><td>205.84</td><td>2016-03-10T13:59:29.000+0000</td></tr></tbody></table></div>"
      ]
     },
     "metadata": {
      "application/vnd.databricks.v1+output": {
       "addedWidgets": {},
       "aggData": [],
       "aggError": "",
       "aggOverflow": false,
       "aggSchema": [],
       "aggSeriesLimitReached": false,
       "aggType": "",
       "arguments": {},
       "columnCustomDisplayInfos": {},
       "data": [
        [
         184.4,
         58.34,
         "2016-03-01T06:14:14.000+0000"
        ],
        [
         160.8,
         832.8,
         "2016-03-01T01:02:58.000+0000"
        ],
        [
         55.01,
         205.84,
         "2016-03-10T13:59:29.000+0000"
        ]
       ],
       "datasetInfos": [],
       "dbfsResultPath": null,
       "isJsonSchema": true,
       "metadata": {},
       "overflow": false,
       "plotOptions": {
        "customPlotOptions": {},
        "displayType": "table",
        "pivotAggregation": null,
        "pivotColumns": null,
        "xColumns": null,
        "yColumns": null
       },
       "removedWidgets": [],
       "schema": [
        {
         "metadata": "{}",
         "name": "trip_distance",
         "type": "\"float\""
        },
        {
         "metadata": "{}",
         "name": "total_amount",
         "type": "\"float\""
        },
        {
         "metadata": "{}",
         "name": "tpep_pickup_datetime",
         "type": "\"timestamp\""
        }
       ],
       "type": "table"
      }
     },
     "output_type": "display_data"
    }
   ],
   "source": [
    "%sql\n",
    "WITH avg_total_amount AS (\n",
    "    SELECT AVG(total_amount) AS avg_amount\n",
    "    FROM taxi_trips\n",
    ")\n",
    "SELECT trip_distance, total_amount, tpep_pickup_datetime\n",
    "FROM taxi_trips\n",
    "WHERE total_amount > 2 * (SELECT avg_amount FROM avg_total_amount)\n",
    "ORDER BY trip_distance DESC\n",
    "LIMIT 3;\n"
   ]
  },
  {
   "cell_type": "markdown",
   "metadata": {
    "application/vnd.databricks.v1+cell": {
     "cellMetadata": {
      "byteLimit": 2048000,
      "rowLimit": 10000
     },
     "inputWidgets": {},
     "nuid": "78597ec4-5021-4baa-b54e-867373b242a4",
     "showTitle": false,
     "title": ""
    }
   },
   "source": [
    "# Window Functions"
   ]
  },
  {
   "cell_type": "markdown",
   "metadata": {
    "application/vnd.databricks.v1+cell": {
     "cellMetadata": {
      "byteLimit": 2048000,
      "rowLimit": 10000
     },
     "inputWidgets": {},
     "nuid": "16c7686a-3006-48f3-a33a-23bd86d1d7bd",
     "showTitle": false,
     "title": ""
    }
   },
   "source": [
    "###Q21. Find the average trip distance for each vendor on a daily basis. Include only those days where the vendor has at least 5 trips.\n",
    "\n"
   ]
  },
  {
   "cell_type": "code",
   "execution_count": 0,
   "metadata": {
    "application/vnd.databricks.v1+cell": {
     "cellMetadata": {
      "byteLimit": 2048000,
      "implicitDf": true,
      "rowLimit": 10000
     },
     "inputWidgets": {},
     "nuid": "d40eb4d1-e483-463c-9ae2-88376b9dd347",
     "showTitle": false,
     "title": ""
    }
   },
   "outputs": [
    {
     "output_type": "display_data",
     "data": {
      "text/html": [
       "<style scoped>\n",
       "  .table-result-container {\n",
       "    max-height: 300px;\n",
       "    overflow: auto;\n",
       "  }\n",
       "  table, th, td {\n",
       "    border: 1px solid black;\n",
       "    border-collapse: collapse;\n",
       "  }\n",
       "  th, td {\n",
       "    padding: 5px;\n",
       "  }\n",
       "  th {\n",
       "    text-align: left;\n",
       "  }\n",
       "</style><div class='table-result-container'><table class='table-result'><thead style='background-color: white'><tr><th>VendorID</th><th>trip_date</th><th>avg_distance</th></tr></thead><tbody><tr><td>2</td><td>2016-03-10</td><td>2.765324823648673</td></tr><tr><td>1</td><td>2016-03-01</td><td>3.8564550658838104</td></tr><tr><td>2</td><td>2016-03-01</td><td>3.9914263471768416</td></tr></tbody></table></div>"
      ]
     },
     "metadata": {
      "application/vnd.databricks.v1+output": {
       "addedWidgets": {},
       "aggData": [],
       "aggError": "",
       "aggOverflow": false,
       "aggSchema": [],
       "aggSeriesLimitReached": false,
       "aggType": "",
       "arguments": {},
       "columnCustomDisplayInfos": {},
       "data": [
        [
         2,
         "2016-03-10",
         2.765324823648673
        ],
        [
         1,
         "2016-03-01",
         3.8564550658838104
        ],
        [
         2,
         "2016-03-01",
         3.9914263471768416
        ]
       ],
       "datasetInfos": [],
       "dbfsResultPath": null,
       "isJsonSchema": true,
       "metadata": {},
       "overflow": false,
       "plotOptions": {
        "customPlotOptions": {},
        "displayType": "table",
        "pivotAggregation": null,
        "pivotColumns": null,
        "xColumns": null,
        "yColumns": null
       },
       "removedWidgets": [],
       "schema": [
        {
         "metadata": "{}",
         "name": "VendorID",
         "type": "\"integer\""
        },
        {
         "metadata": "{}",
         "name": "trip_date",
         "type": "\"date\""
        },
        {
         "metadata": "{}",
         "name": "avg_distance",
         "type": "\"double\""
        }
       ],
       "type": "table"
      }
     },
     "output_type": "display_data"
    }
   ],
   "source": [
    "%sql\n",
    "WITH daily_trip_counts AS (\n",
    "  SELECT \n",
    "    VendorID, \n",
    "    DATE(tpep_pickup_datetime) AS trip_date, \n",
    "    COUNT(*) AS trip_count\n",
    "  FROM taxi_trips\n",
    "  GROUP BY VendorID, DATE(tpep_pickup_datetime)\n",
    "),\n",
    "daily_avg_distance AS (\n",
    "  SELECT \n",
    "    VendorID, \n",
    "    DATE(tpep_pickup_datetime) AS trip_date, \n",
    "    AVG(trip_distance) AS avg_distance\n",
    "  FROM taxi_trips\n",
    "  GROUP BY VendorID, DATE(tpep_pickup_datetime)\n",
    ")\n",
    "SELECT \n",
    "  d.VendorID, \n",
    "  d.trip_date, \n",
    "  d.avg_distance\n",
    "FROM daily_avg_distance d\n",
    "JOIN daily_trip_counts c\n",
    "  ON d.VendorID = c.VendorID AND d.trip_date = c.trip_date\n",
    "WHERE c.trip_count >= 5;\n"
   ]
  },
  {
   "cell_type": "markdown",
   "metadata": {
    "application/vnd.databricks.v1+cell": {
     "cellMetadata": {
      "byteLimit": 2048000,
      "rowLimit": 10000
     },
     "inputWidgets": {},
     "nuid": "67c36b52-0cd6-4b87-acc4-7f6cf47ab5c8",
     "showTitle": false,
     "title": ""
    }
   },
   "source": [
    "###Q22. Calculate the cumulative total fare amount for each vendor, ordered by the pickup datetime."
   ]
  },
  {
   "cell_type": "code",
   "execution_count": 0,
   "metadata": {
    "application/vnd.databricks.v1+cell": {
     "cellMetadata": {
      "byteLimit": 2048000,
      "implicitDf": true,
      "rowLimit": 10000
     },
     "inputWidgets": {},
     "nuid": "7a1e1d3d-1a9f-4249-af1b-b1d2b39730bb",
     "showTitle": false,
     "title": ""
    }
   },
   "outputs": [
    {
     "output_type": "display_data",
     "data": {
      "text/html": [
       "<style scoped>\n",
       "  .table-result-container {\n",
       "    max-height: 300px;\n",
       "    overflow: auto;\n",
       "  }\n",
       "  table, th, td {\n",
       "    border: 1px solid black;\n",
       "    border-collapse: collapse;\n",
       "  }\n",
       "  th, td {\n",
       "    padding: 5px;\n",
       "  }\n",
       "  th {\n",
       "    text-align: left;\n",
       "  }\n",
       "</style><div class='table-result-container'><table class='table-result'><thead style='background-color: white'><tr><th>VendorID</th><th>tpep_pickup_datetime</th><th>fare_amount</th><th>cumulative_fare</th></tr></thead><tbody><tr><td>1</td><td>2016-03-01T00:00:00.000+0000</td><td>9.0</td><td>20.0</td></tr><tr><td>1</td><td>2016-03-01T00:00:00.000+0000</td><td>11.0</td><td>20.0</td></tr><tr><td>1</td><td>2016-03-01T00:00:01.000+0000</td><td>20.5</td><td>46.0</td></tr><tr><td>1</td><td>2016-03-01T00:00:01.000+0000</td><td>5.5</td><td>46.0</td></tr><tr><td>1</td><td>2016-03-01T00:00:02.000+0000</td><td>8.0</td><td>59.5</td></tr><tr><td>1</td><td>2016-03-01T00:00:02.000+0000</td><td>5.5</td><td>59.5</td></tr><tr><td>1</td><td>2016-03-01T00:00:03.000+0000</td><td>11.0</td><td>70.5</td></tr><tr><td>1</td><td>2016-03-01T00:00:04.000+0000</td><td>4.5</td><td>109.0</td></tr><tr><td>1</td><td>2016-03-01T00:00:04.000+0000</td><td>5.5</td><td>109.0</td></tr><tr><td>1</td><td>2016-03-01T00:00:04.000+0000</td><td>28.5</td><td>109.0</td></tr></tbody></table></div>"
      ]
     },
     "metadata": {
      "application/vnd.databricks.v1+output": {
       "addedWidgets": {},
       "aggData": [],
       "aggError": "",
       "aggOverflow": false,
       "aggSchema": [],
       "aggSeriesLimitReached": false,
       "aggType": "",
       "arguments": {},
       "columnCustomDisplayInfos": {},
       "data": [
        [
         1,
         "2016-03-01T00:00:00.000+0000",
         9.0,
         20.0
        ],
        [
         1,
         "2016-03-01T00:00:00.000+0000",
         11.0,
         20.0
        ],
        [
         1,
         "2016-03-01T00:00:01.000+0000",
         20.5,
         46.0
        ],
        [
         1,
         "2016-03-01T00:00:01.000+0000",
         5.5,
         46.0
        ],
        [
         1,
         "2016-03-01T00:00:02.000+0000",
         8.0,
         59.5
        ],
        [
         1,
         "2016-03-01T00:00:02.000+0000",
         5.5,
         59.5
        ],
        [
         1,
         "2016-03-01T00:00:03.000+0000",
         11.0,
         70.5
        ],
        [
         1,
         "2016-03-01T00:00:04.000+0000",
         4.5,
         109.0
        ],
        [
         1,
         "2016-03-01T00:00:04.000+0000",
         5.5,
         109.0
        ],
        [
         1,
         "2016-03-01T00:00:04.000+0000",
         28.5,
         109.0
        ]
       ],
       "datasetInfos": [],
       "dbfsResultPath": null,
       "isJsonSchema": true,
       "metadata": {},
       "overflow": false,
       "plotOptions": {
        "customPlotOptions": {},
        "displayType": "table",
        "pivotAggregation": null,
        "pivotColumns": null,
        "xColumns": null,
        "yColumns": null
       },
       "removedWidgets": [],
       "schema": [
        {
         "metadata": "{}",
         "name": "VendorID",
         "type": "\"integer\""
        },
        {
         "metadata": "{}",
         "name": "tpep_pickup_datetime",
         "type": "\"timestamp\""
        },
        {
         "metadata": "{}",
         "name": "fare_amount",
         "type": "\"float\""
        },
        {
         "metadata": "{}",
         "name": "cumulative_fare",
         "type": "\"double\""
        }
       ],
       "type": "table"
      }
     },
     "output_type": "display_data"
    }
   ],
   "source": [
    "%sql\n",
    "SELECT \n",
    "  VendorID, \n",
    "  tpep_pickup_datetime, \n",
    "  fare_amount, \n",
    "  SUM(fare_amount) OVER (PARTITION BY VendorID ORDER BY tpep_pickup_datetime) AS cumulative_fare\n",
    "FROM taxi_trips\n",
    "LIMIT 10;\n"
   ]
  },
  {
   "cell_type": "markdown",
   "metadata": {
    "application/vnd.databricks.v1+cell": {
     "cellMetadata": {
      "byteLimit": 2048000,
      "rowLimit": 10000
     },
     "inputWidgets": {},
     "nuid": "fc907b21-b509-4e2e-b9f0-9f621f9c6e2e",
     "showTitle": false,
     "title": ""
    }
   },
   "source": [
    "###Q23. Find the rank of each trip based on the total amount spent within each vendor, ordered by pickup datetime. The most expensive trip should have the rank 1."
   ]
  },
  {
   "cell_type": "code",
   "execution_count": 0,
   "metadata": {
    "application/vnd.databricks.v1+cell": {
     "cellMetadata": {
      "byteLimit": 2048000,
      "implicitDf": true,
      "rowLimit": 10000
     },
     "inputWidgets": {},
     "nuid": "87ea7423-ce52-4354-843b-1bcd7a09704b",
     "showTitle": false,
     "title": ""
    }
   },
   "outputs": [
    {
     "output_type": "display_data",
     "data": {
      "text/html": [
       "<style scoped>\n",
       "  .table-result-container {\n",
       "    max-height: 300px;\n",
       "    overflow: auto;\n",
       "  }\n",
       "  table, th, td {\n",
       "    border: 1px solid black;\n",
       "    border-collapse: collapse;\n",
       "  }\n",
       "  th, td {\n",
       "    padding: 5px;\n",
       "  }\n",
       "  th {\n",
       "    text-align: left;\n",
       "  }\n",
       "</style><div class='table-result-container'><table class='table-result'><thead style='background-color: white'><tr><th>VendorID</th><th>tpep_pickup_datetime</th><th>total_amount</th><th>rank</th></tr></thead><tbody><tr><td>1</td><td>2016-03-01T01:02:58.000+0000</td><td>832.8</td><td>1</td></tr><tr><td>1</td><td>2016-03-01T02:10:47.000+0000</td><td>312.85</td><td>2</td></tr><tr><td>1</td><td>2016-03-01T01:45:24.000+0000</td><td>257.79</td><td>3</td></tr><tr><td>1</td><td>2016-03-01T00:47:51.000+0000</td><td>216.8</td><td>4</td></tr><tr><td>1</td><td>2016-03-01T00:10:03.000+0000</td><td>170.3</td><td>5</td></tr><tr><td>1</td><td>2016-03-01T00:38:10.000+0000</td><td>163.3</td><td>6</td></tr><tr><td>1</td><td>2016-03-01T01:35:25.000+0000</td><td>150.3</td><td>7</td></tr><tr><td>1</td><td>2016-03-01T03:58:35.000+0000</td><td>150.3</td><td>8</td></tr><tr><td>1</td><td>2016-03-01T01:09:26.000+0000</td><td>145.3</td><td>9</td></tr><tr><td>1</td><td>2016-03-01T00:18:00.000+0000</td><td>118.34</td><td>10</td></tr></tbody></table></div>"
      ]
     },
     "metadata": {
      "application/vnd.databricks.v1+output": {
       "addedWidgets": {},
       "aggData": [],
       "aggError": "",
       "aggOverflow": false,
       "aggSchema": [],
       "aggSeriesLimitReached": false,
       "aggType": "",
       "arguments": {},
       "columnCustomDisplayInfos": {},
       "data": [
        [
         1,
         "2016-03-01T01:02:58.000+0000",
         832.8,
         1
        ],
        [
         1,
         "2016-03-01T02:10:47.000+0000",
         312.85,
         2
        ],
        [
         1,
         "2016-03-01T01:45:24.000+0000",
         257.79,
         3
        ],
        [
         1,
         "2016-03-01T00:47:51.000+0000",
         216.8,
         4
        ],
        [
         1,
         "2016-03-01T00:10:03.000+0000",
         170.3,
         5
        ],
        [
         1,
         "2016-03-01T00:38:10.000+0000",
         163.3,
         6
        ],
        [
         1,
         "2016-03-01T01:35:25.000+0000",
         150.3,
         7
        ],
        [
         1,
         "2016-03-01T03:58:35.000+0000",
         150.3,
         8
        ],
        [
         1,
         "2016-03-01T01:09:26.000+0000",
         145.3,
         9
        ],
        [
         1,
         "2016-03-01T00:18:00.000+0000",
         118.34,
         10
        ]
       ],
       "datasetInfos": [],
       "dbfsResultPath": null,
       "isJsonSchema": true,
       "metadata": {},
       "overflow": false,
       "plotOptions": {
        "customPlotOptions": {},
        "displayType": "table",
        "pivotAggregation": null,
        "pivotColumns": null,
        "xColumns": null,
        "yColumns": null
       },
       "removedWidgets": [],
       "schema": [
        {
         "metadata": "{}",
         "name": "VendorID",
         "type": "\"integer\""
        },
        {
         "metadata": "{}",
         "name": "tpep_pickup_datetime",
         "type": "\"timestamp\""
        },
        {
         "metadata": "{}",
         "name": "total_amount",
         "type": "\"float\""
        },
        {
         "metadata": "{}",
         "name": "rank",
         "type": "\"integer\""
        }
       ],
       "type": "table"
      }
     },
     "output_type": "display_data"
    }
   ],
   "source": [
    "%sql\n",
    "SELECT \n",
    "  VendorID, \n",
    "  tpep_pickup_datetime, \n",
    "  total_amount,\n",
    "  RANK() OVER (PARTITION BY VendorID ORDER BY total_amount DESC, tpep_pickup_datetime) AS rank\n",
    "FROM taxi_trips\n",
    "LIMIT 10;\n"
   ]
  },
  {
   "cell_type": "markdown",
   "metadata": {
    "application/vnd.databricks.v1+cell": {
     "cellMetadata": {
      "byteLimit": 2048000,
      "rowLimit": 10000
     },
     "inputWidgets": {},
     "nuid": "c4c1d8bc-1394-45a2-90fb-03ed8fe387c1",
     "showTitle": false,
     "title": ""
    }
   },
   "source": [
    "###Q24. Calculate the running average of tip amounts for each vendor over the course of the trips, ordered by pickup datetime."
   ]
  },
  {
   "cell_type": "code",
   "execution_count": 0,
   "metadata": {
    "application/vnd.databricks.v1+cell": {
     "cellMetadata": {
      "byteLimit": 2048000,
      "implicitDf": true,
      "rowLimit": 10000
     },
     "inputWidgets": {},
     "nuid": "90d23311-0c77-4314-b5ad-634a6456b987",
     "showTitle": false,
     "title": ""
    }
   },
   "outputs": [
    {
     "output_type": "display_data",
     "data": {
      "text/html": [
       "<style scoped>\n",
       "  .table-result-container {\n",
       "    max-height: 300px;\n",
       "    overflow: auto;\n",
       "  }\n",
       "  table, th, td {\n",
       "    border: 1px solid black;\n",
       "    border-collapse: collapse;\n",
       "  }\n",
       "  th, td {\n",
       "    padding: 5px;\n",
       "  }\n",
       "  th {\n",
       "    text-align: left;\n",
       "  }\n",
       "</style><div class='table-result-container'><table class='table-result'><thead style='background-color: white'><tr><th>VendorID</th><th>tpep_pickup_datetime</th><th>tip_amount</th><th>running_avg_tip</th></tr></thead><tbody><tr><td>1</td><td>2016-03-01T00:00:00.000+0000</td><td>2.05</td><td>2.049999952316284</td></tr><tr><td>1</td><td>2016-03-01T00:00:00.000+0000</td><td>3.05</td><td>2.549999952316284</td></tr><tr><td>1</td><td>2016-03-01T00:00:01.000+0000</td><td>0.0</td><td>1.6999999682108562</td></tr><tr><td>1</td><td>2016-03-01T00:00:01.000+0000</td><td>2.0</td><td>1.774999976158142</td></tr><tr><td>1</td><td>2016-03-01T00:00:02.000+0000</td><td>0.0</td><td>1.4199999809265136</td></tr><tr><td>1</td><td>2016-03-01T00:00:02.000+0000</td><td>2.2</td><td>1.549999992052714</td></tr><tr><td>1</td><td>2016-03-01T00:00:03.000+0000</td><td>0.0</td><td>1.328571421759469</td></tr><tr><td>1</td><td>2016-03-01T00:00:04.000+0000</td><td>1.15</td><td>1.3062499910593033</td></tr><tr><td>1</td><td>2016-03-01T00:00:04.000+0000</td><td>0.0</td><td>1.161111103163825</td></tr><tr><td>1</td><td>2016-03-01T00:00:04.000+0000</td><td>0.0</td><td>1.0449999928474427</td></tr></tbody></table></div>"
      ]
     },
     "metadata": {
      "application/vnd.databricks.v1+output": {
       "addedWidgets": {},
       "aggData": [],
       "aggError": "",
       "aggOverflow": false,
       "aggSchema": [],
       "aggSeriesLimitReached": false,
       "aggType": "",
       "arguments": {},
       "columnCustomDisplayInfos": {},
       "data": [
        [
         1,
         "2016-03-01T00:00:00.000+0000",
         2.05,
         2.049999952316284
        ],
        [
         1,
         "2016-03-01T00:00:00.000+0000",
         3.05,
         2.549999952316284
        ],
        [
         1,
         "2016-03-01T00:00:01.000+0000",
         0.0,
         1.6999999682108562
        ],
        [
         1,
         "2016-03-01T00:00:01.000+0000",
         2.0,
         1.774999976158142
        ],
        [
         1,
         "2016-03-01T00:00:02.000+0000",
         0.0,
         1.4199999809265136
        ],
        [
         1,
         "2016-03-01T00:00:02.000+0000",
         2.2,
         1.549999992052714
        ],
        [
         1,
         "2016-03-01T00:00:03.000+0000",
         0.0,
         1.328571421759469
        ],
        [
         1,
         "2016-03-01T00:00:04.000+0000",
         1.15,
         1.3062499910593033
        ],
        [
         1,
         "2016-03-01T00:00:04.000+0000",
         0.0,
         1.161111103163825
        ],
        [
         1,
         "2016-03-01T00:00:04.000+0000",
         0.0,
         1.0449999928474427
        ]
       ],
       "datasetInfos": [],
       "dbfsResultPath": null,
       "isJsonSchema": true,
       "metadata": {},
       "overflow": false,
       "plotOptions": {
        "customPlotOptions": {},
        "displayType": "table",
        "pivotAggregation": null,
        "pivotColumns": null,
        "xColumns": null,
        "yColumns": null
       },
       "removedWidgets": [],
       "schema": [
        {
         "metadata": "{}",
         "name": "VendorID",
         "type": "\"integer\""
        },
        {
         "metadata": "{}",
         "name": "tpep_pickup_datetime",
         "type": "\"timestamp\""
        },
        {
         "metadata": "{}",
         "name": "tip_amount",
         "type": "\"float\""
        },
        {
         "metadata": "{}",
         "name": "running_avg_tip",
         "type": "\"double\""
        }
       ],
       "type": "table"
      }
     },
     "output_type": "display_data"
    }
   ],
   "source": [
    "%sql\n",
    "SELECT \n",
    "  VendorID, \n",
    "  tpep_pickup_datetime, \n",
    "  tip_amount,\n",
    "  AVG(tip_amount) OVER (PARTITION BY VendorID ORDER BY tpep_pickup_datetime ROWS BETWEEN UNBOUNDED PRECEDING AND CURRENT ROW) AS running_avg_tip\n",
    "FROM taxi_trips\n",
    "LIMIT 10;\n"
   ]
  },
  {
   "cell_type": "markdown",
   "metadata": {
    "application/vnd.databricks.v1+cell": {
     "cellMetadata": {
      "byteLimit": 2048000,
      "rowLimit": 10000
     },
     "inputWidgets": {},
     "nuid": "d737fff5-925d-4210-865d-ad287636b674",
     "showTitle": false,
     "title": ""
    }
   },
   "source": [
    "###Q25. For each trip, calculate the percentage of the total fare that is made up by the tip amount, partitioned by the day of the trip."
   ]
  },
  {
   "cell_type": "code",
   "execution_count": 0,
   "metadata": {
    "application/vnd.databricks.v1+cell": {
     "cellMetadata": {
      "byteLimit": 2048000,
      "implicitDf": true,
      "rowLimit": 10000
     },
     "inputWidgets": {},
     "nuid": "d6e06bc7-c9da-4136-8144-730a34c4f650",
     "showTitle": false,
     "title": ""
    }
   },
   "outputs": [
    {
     "output_type": "display_data",
     "data": {
      "text/html": [
       "<style scoped>\n",
       "  .table-result-container {\n",
       "    max-height: 300px;\n",
       "    overflow: auto;\n",
       "  }\n",
       "  table, th, td {\n",
       "    border: 1px solid black;\n",
       "    border-collapse: collapse;\n",
       "  }\n",
       "  th, td {\n",
       "    padding: 5px;\n",
       "  }\n",
       "  th {\n",
       "    text-align: left;\n",
       "  }\n",
       "</style><div class='table-result-container'><table class='table-result'><thead style='background-color: white'><tr><th>VendorID</th><th>tpep_pickup_datetime</th><th>total_amount</th><th>tip_amount</th><th>tip_percentage</th><th>daily_avg_tip_percentage</th></tr></thead><tbody><tr><td>1</td><td>2016-03-01T00:01:06.000+0000</td><td>8.8</td><td>0.0</td><td>0.0</td><td>9.281809092060248</td></tr><tr><td>2</td><td>2016-03-01T00:01:06.000+0000</td><td>7.3</td><td>0.0</td><td>0.0</td><td>9.281809092060248</td></tr><tr><td>2</td><td>2016-03-01T00:01:06.000+0000</td><td>70.01</td><td>11.67</td><td>16.66904687930965</td><td>9.281809092060248</td></tr><tr><td>1</td><td>2016-03-01T00:01:07.000+0000</td><td>10.56</td><td>1.76</td><td>16.6666659140828</td><td>9.281809092060248</td></tr><tr><td>1</td><td>2016-03-01T00:01:07.000+0000</td><td>6.95</td><td>1.15</td><td>16.546762700986868</td><td>9.281809092060248</td></tr><tr><td>2</td><td>2016-03-01T00:01:07.000+0000</td><td>8.76</td><td>1.46</td><td>16.666666666666664</td><td>9.281809092060248</td></tr><tr><td>2</td><td>2016-03-01T00:01:07.000+0000</td><td>7.88</td><td>1.58</td><td>20.05076167473437</td><td>9.281809092060248</td></tr><tr><td>2</td><td>2016-03-01T00:01:07.000+0000</td><td>11.8</td><td>1.0</td><td>8.474576134203634</td><td>9.281809092060248</td></tr><tr><td>1</td><td>2016-03-01T00:01:08.000+0000</td><td>59.34</td><td>0.0</td><td>0.0</td><td>9.281809092060248</td></tr><tr><td>1</td><td>2016-03-01T00:01:08.000+0000</td><td>66.33</td><td>7.99</td><td>12.0458307712233</td><td>9.281809092060248</td></tr></tbody></table></div>"
      ]
     },
     "metadata": {
      "application/vnd.databricks.v1+output": {
       "addedWidgets": {},
       "aggData": [],
       "aggError": "",
       "aggOverflow": false,
       "aggSchema": [],
       "aggSeriesLimitReached": false,
       "aggType": "",
       "arguments": {},
       "columnCustomDisplayInfos": {},
       "data": [
        [
         1,
         "2016-03-01T00:01:06.000+0000",
         8.8,
         0.0,
         0.0,
         9.281809092060248
        ],
        [
         2,
         "2016-03-01T00:01:06.000+0000",
         7.3,
         0.0,
         0.0,
         9.281809092060248
        ],
        [
         2,
         "2016-03-01T00:01:06.000+0000",
         70.01,
         11.67,
         16.66904687930965,
         9.281809092060248
        ],
        [
         1,
         "2016-03-01T00:01:07.000+0000",
         10.56,
         1.76,
         16.6666659140828,
         9.281809092060248
        ],
        [
         1,
         "2016-03-01T00:01:07.000+0000",
         6.95,
         1.15,
         16.546762700986868,
         9.281809092060248
        ],
        [
         2,
         "2016-03-01T00:01:07.000+0000",
         8.76,
         1.46,
         16.666666666666664,
         9.281809092060248
        ],
        [
         2,
         "2016-03-01T00:01:07.000+0000",
         7.88,
         1.58,
         20.05076167473437,
         9.281809092060248
        ],
        [
         2,
         "2016-03-01T00:01:07.000+0000",
         11.8,
         1.0,
         8.474576134203634,
         9.281809092060248
        ],
        [
         1,
         "2016-03-01T00:01:08.000+0000",
         59.34,
         0.0,
         0.0,
         9.281809092060248
        ],
        [
         1,
         "2016-03-01T00:01:08.000+0000",
         66.33,
         7.99,
         12.0458307712233,
         9.281809092060248
        ]
       ],
       "datasetInfos": [],
       "dbfsResultPath": null,
       "isJsonSchema": true,
       "metadata": {},
       "overflow": false,
       "plotOptions": {
        "customPlotOptions": {},
        "displayType": "table",
        "pivotAggregation": null,
        "pivotColumns": null,
        "xColumns": null,
        "yColumns": null
       },
       "removedWidgets": [],
       "schema": [
        {
         "metadata": "{}",
         "name": "VendorID",
         "type": "\"integer\""
        },
        {
         "metadata": "{}",
         "name": "tpep_pickup_datetime",
         "type": "\"timestamp\""
        },
        {
         "metadata": "{}",
         "name": "total_amount",
         "type": "\"float\""
        },
        {
         "metadata": "{}",
         "name": "tip_amount",
         "type": "\"float\""
        },
        {
         "metadata": "{}",
         "name": "tip_percentage",
         "type": "\"double\""
        },
        {
         "metadata": "{}",
         "name": "daily_avg_tip_percentage",
         "type": "\"double\""
        }
       ],
       "type": "table"
      }
     },
     "output_type": "display_data"
    }
   ],
   "source": [
    "%sql\n",
    "SELECT \n",
    "  VendorID, \n",
    "  tpep_pickup_datetime, \n",
    "  total_amount, \n",
    "  tip_amount, \n",
    "  (tip_amount / total_amount) * 100 AS tip_percentage,\n",
    "  AVG((tip_amount / total_amount) * 100) OVER (PARTITION BY DATE(tpep_pickup_datetime)) AS daily_avg_tip_percentage\n",
    "FROM taxi_trips\n",
    "LIMIT 10;\n"
   ]
  },
  {
   "cell_type": "markdown",
   "metadata": {
    "application/vnd.databricks.v1+cell": {
     "cellMetadata": {
      "byteLimit": 2048000,
      "rowLimit": 10000
     },
     "inputWidgets": {},
     "nuid": "aed452a7-03d8-492b-a647-28b8bbe4f825",
     "showTitle": false,
     "title": ""
    }
   },
   "source": [
    "# Common Table Expressions"
   ]
  },
  {
   "cell_type": "markdown",
   "metadata": {
    "application/vnd.databricks.v1+cell": {
     "cellMetadata": {
      "byteLimit": 2048000,
      "rowLimit": 10000
     },
     "inputWidgets": {},
     "nuid": "8da3002e-5f05-44fa-b3c7-e90c40a82c2a",
     "showTitle": false,
     "title": ""
    }
   },
   "source": [
    "###Q26. Calculate the Total Revenue per VendorID for Vendors with More than 100 Trips"
   ]
  },
  {
   "cell_type": "code",
   "execution_count": 0,
   "metadata": {
    "application/vnd.databricks.v1+cell": {
     "cellMetadata": {
      "byteLimit": 2048000,
      "implicitDf": true,
      "rowLimit": 10000
     },
     "inputWidgets": {},
     "nuid": "4a9af68a-9205-47c0-b93e-0eb4c2a4beb1",
     "showTitle": false,
     "title": ""
    }
   },
   "outputs": [
    {
     "output_type": "display_data",
     "data": {
      "text/html": [
       "<style scoped>\n",
       "  .table-result-container {\n",
       "    max-height: 300px;\n",
       "    overflow: auto;\n",
       "  }\n",
       "  table, th, td {\n",
       "    border: 1px solid black;\n",
       "    border-collapse: collapse;\n",
       "  }\n",
       "  th, td {\n",
       "    padding: 5px;\n",
       "  }\n",
       "  th {\n",
       "    text-align: left;\n",
       "  }\n",
       "</style><div class='table-result-container'><table class='table-result'><thead style='background-color: white'><tr><th>VendorID</th><th>total_revenue</th></tr></thead><tbody><tr><td>1</td><td>201873.51932424307</td></tr><tr><td>2</td><td>1437198.5686110258</td></tr></tbody></table></div>"
      ]
     },
     "metadata": {
      "application/vnd.databricks.v1+output": {
       "addedWidgets": {},
       "aggData": [],
       "aggError": "",
       "aggOverflow": false,
       "aggSchema": [],
       "aggSeriesLimitReached": false,
       "aggType": "",
       "arguments": {},
       "columnCustomDisplayInfos": {},
       "data": [
        [
         1,
         201873.51932424307
        ],
        [
         2,
         1437198.5686110258
        ]
       ],
       "datasetInfos": [],
       "dbfsResultPath": null,
       "isJsonSchema": true,
       "metadata": {},
       "overflow": false,
       "plotOptions": {
        "customPlotOptions": {},
        "displayType": "table",
        "pivotAggregation": null,
        "pivotColumns": null,
        "xColumns": null,
        "yColumns": null
       },
       "removedWidgets": [],
       "schema": [
        {
         "metadata": "{}",
         "name": "VendorID",
         "type": "\"integer\""
        },
        {
         "metadata": "{}",
         "name": "total_revenue",
         "type": "\"double\""
        }
       ],
       "type": "table"
      }
     },
     "output_type": "display_data"
    }
   ],
   "source": [
    "%sql\n",
    "WITH VendorTripCounts AS (\n",
    "    SELECT VendorID, COUNT(*) AS trip_count\n",
    "    FROM taxi_trips\n",
    "    GROUP BY VendorID\n",
    ")\n",
    "SELECT t.VendorID, SUM(t.total_amount) AS total_revenue\n",
    "FROM taxi_trips t\n",
    "JOIN VendorTripCounts v ON t.VendorID = v.VendorID\n",
    "WHERE v.trip_count > 100\n",
    "GROUP BY t.VendorID;\n"
   ]
  },
  {
   "cell_type": "markdown",
   "metadata": {
    "application/vnd.databricks.v1+cell": {
     "cellMetadata": {
      "byteLimit": 2048000,
      "rowLimit": 10000
     },
     "inputWidgets": {},
     "nuid": "abdd20a5-b3d3-4489-8ced-898015a46f83",
     "showTitle": false,
     "title": ""
    }
   },
   "source": [
    "###Q27. Find the VendorID with the Highest Average Tip Percentage"
   ]
  },
  {
   "cell_type": "code",
   "execution_count": 0,
   "metadata": {
    "application/vnd.databricks.v1+cell": {
     "cellMetadata": {
      "byteLimit": 2048000,
      "implicitDf": true,
      "rowLimit": 10000
     },
     "inputWidgets": {},
     "nuid": "e1f5e288-b898-42b4-802f-7b0d14af62c7",
     "showTitle": false,
     "title": ""
    }
   },
   "outputs": [
    {
     "output_type": "display_data",
     "data": {
      "text/html": [
       "<style scoped>\n",
       "  .table-result-container {\n",
       "    max-height: 300px;\n",
       "    overflow: auto;\n",
       "  }\n",
       "  table, th, td {\n",
       "    border: 1px solid black;\n",
       "    border-collapse: collapse;\n",
       "  }\n",
       "  th, td {\n",
       "    padding: 5px;\n",
       "  }\n",
       "  th {\n",
       "    text-align: left;\n",
       "  }\n",
       "</style><div class='table-result-container'><table class='table-result'><thead style='background-color: white'><tr><th>VendorID</th><th>avg_tip_percentage</th></tr></thead><tbody><tr><td>2</td><td>10.48184183880434</td></tr></tbody></table></div>"
      ]
     },
     "metadata": {
      "application/vnd.databricks.v1+output": {
       "addedWidgets": {},
       "aggData": [],
       "aggError": "",
       "aggOverflow": false,
       "aggSchema": [],
       "aggSeriesLimitReached": false,
       "aggType": "",
       "arguments": {},
       "columnCustomDisplayInfos": {},
       "data": [
        [
         2,
         10.48184183880434
        ]
       ],
       "datasetInfos": [],
       "dbfsResultPath": null,
       "isJsonSchema": true,
       "metadata": {},
       "overflow": false,
       "plotOptions": {
        "customPlotOptions": {},
        "displayType": "table",
        "pivotAggregation": null,
        "pivotColumns": null,
        "xColumns": null,
        "yColumns": null
       },
       "removedWidgets": [],
       "schema": [
        {
         "metadata": "{}",
         "name": "VendorID",
         "type": "\"integer\""
        },
        {
         "metadata": "{}",
         "name": "avg_tip_percentage",
         "type": "\"double\""
        }
       ],
       "type": "table"
      }
     },
     "output_type": "display_data"
    }
   ],
   "source": [
    "%sql\n",
    "WITH TipPercentages AS (\n",
    "    SELECT VendorID, \n",
    "           CASE WHEN total_amount > 0 THEN (tip_amount / total_amount) * 100 ELSE 0 END AS tip_percentage\n",
    "    FROM taxi_trips\n",
    ")\n",
    "SELECT VendorID, AVG(tip_percentage) AS avg_tip_percentage\n",
    "FROM TipPercentages\n",
    "GROUP BY VendorID\n",
    "ORDER BY avg_tip_percentage DESC\n",
    "LIMIT 1;\n"
   ]
  },
  {
   "cell_type": "markdown",
   "metadata": {
    "application/vnd.databricks.v1+cell": {
     "cellMetadata": {
      "byteLimit": 2048000,
      "rowLimit": 10000
     },
     "inputWidgets": {},
     "nuid": "a088ee7c-cc37-411b-b082-89c7ce6bea0f",
     "showTitle": false,
     "title": ""
    }
   },
   "source": [
    "###Q28. dentify the Top 10 Longest Trips (in miles) for Each RatecodeID"
   ]
  },
  {
   "cell_type": "code",
   "execution_count": 0,
   "metadata": {
    "application/vnd.databricks.v1+cell": {
     "cellMetadata": {
      "byteLimit": 2048000,
      "implicitDf": true,
      "rowLimit": 10000
     },
     "inputWidgets": {},
     "nuid": "4a84bec8-9ab7-4136-a706-e580efdafa01",
     "showTitle": false,
     "title": ""
    }
   },
   "outputs": [
    {
     "output_type": "display_data",
     "data": {
      "text/html": [
       "<style scoped>\n",
       "  .table-result-container {\n",
       "    max-height: 300px;\n",
       "    overflow: auto;\n",
       "  }\n",
       "  table, th, td {\n",
       "    border: 1px solid black;\n",
       "    border-collapse: collapse;\n",
       "  }\n",
       "  th, td {\n",
       "    padding: 5px;\n",
       "  }\n",
       "  th {\n",
       "    text-align: left;\n",
       "  }\n",
       "</style><div class='table-result-container'><table class='table-result'><thead style='background-color: white'><tr><th>VendorID</th><th>tpep_pickup_datetime</th><th>tpep_dropoff_datetime</th><th>passenger_count</th><th>trip_distance</th><th>pickup_longitude</th><th>pickup_latitude</th><th>RatecodeID</th><th>store_and_fwd_flag</th><th>dropoff_longitude</th><th>dropoff_latitude</th><th>payment_type</th><th>fare_amount</th><th>extra</th><th>mta_tax</th><th>tip_amount</th><th>tolls_amount</th><th>improvement_surcharge</th><th>total_amount</th><th>trip_rank</th></tr></thead><tbody><tr><td>2</td><td>2016-03-10T10:18:12.000+0000</td><td>2016-03-10T18:32:00.000+0000</td><td>2</td><td>51.27</td><td>-73.94728</td><td>40.78394</td><td>1</td><td>N</td><td>-73.95114</td><td>40.78518</td><td>2</td><td>314.5</td><td>0.0</td><td>0.5</td><td>0.0</td><td>0.0</td><td>0.3</td><td>315.3</td><td>1</td></tr><tr><td>2</td><td>2016-03-10T11:37:01.000+0000</td><td>2016-03-10T13:54:55.000+0000</td><td>1</td><td>49.56</td><td>-73.995636</td><td>40.725056</td><td>1</td><td>N</td><td>-73.99563</td><td>40.724884</td><td>2</td><td>155.0</td><td>0.0</td><td>0.5</td><td>0.0</td><td>11.08</td><td>0.3</td><td>166.88</td><td>2</td></tr><tr><td>2</td><td>2016-03-01T00:13:09.000+0000</td><td>2016-03-01T01:18:39.000+0000</td><td>1</td><td>41.55</td><td>-73.871254</td><td>40.773945</td><td>1</td><td>N</td><td>-74.33979</td><td>40.519493</td><td>1</td><td>110.5</td><td>0.5</td><td>0.5</td><td>38.35</td><td>16.04</td><td>0.3</td><td>166.19</td><td>3</td></tr><tr><td>2</td><td>2016-03-10T09:12:57.000+0000</td><td>2016-03-10T10:10:59.000+0000</td><td>2</td><td>34.95</td><td>-74.009636</td><td>40.72606</td><td>1</td><td>N</td><td>-74.351456</td><td>40.50695</td><td>1</td><td>95.0</td><td>0.0</td><td>0.5</td><td>8.0</td><td>12.5</td><td>0.3</td><td>116.3</td><td>4</td></tr><tr><td>2</td><td>2016-03-01T02:21:50.000+0000</td><td>2016-03-01T03:15:02.000+0000</td><td>2</td><td>33.76</td><td>-73.96937</td><td>40.7624</td><td>1</td><td>N</td><td>-73.52637</td><td>40.76681</td><td>2</td><td>89.5</td><td>0.5</td><td>0.5</td><td>0.0</td><td>0.0</td><td>0.3</td><td>90.8</td><td>5</td></tr><tr><td>2</td><td>2016-03-01T04:48:29.000+0000</td><td>2016-03-01T05:49:40.000+0000</td><td>1</td><td>33.18</td><td>-73.97517</td><td>40.760204</td><td>1</td><td>N</td><td>-73.861694</td><td>40.76835</td><td>1</td><td>92.5</td><td>0.5</td><td>0.5</td><td>0.0</td><td>11.08</td><td>0.3</td><td>104.88</td><td>6</td></tr><tr><td>2</td><td>2016-03-10T13:33:32.000+0000</td><td>2016-03-10T14:44:57.000+0000</td><td>2</td><td>33.11</td><td>-73.86281</td><td>40.76874</td><td>1</td><td>N</td><td>-73.8617</td><td>40.76834</td><td>1</td><td>92.0</td><td>0.0</td><td>0.5</td><td>10.0</td><td>11.08</td><td>0.3</td><td>113.88</td><td>7</td></tr><tr><td>2</td><td>2016-03-10T14:19:47.000+0000</td><td>2016-03-10T15:52:35.000+0000</td><td>1</td><td>32.8</td><td>-73.9877</td><td>40.770226</td><td>1</td><td>N</td><td>-73.73474</td><td>40.62336</td><td>1</td><td>98.0</td><td>0.0</td><td>0.5</td><td>20.87</td><td>5.54</td><td>0.3</td><td>125.21</td><td>8</td></tr><tr><td>1</td><td>2016-03-01T00:10:06.000+0000</td><td>2016-03-01T00:57:57.000+0000</td><td>1</td><td>32.6</td><td>-73.9898</td><td>40.75649</td><td>1</td><td>N</td><td>-74.06666</td><td>41.116085</td><td>2</td><td>86.5</td><td>0.5</td><td>0.5</td><td>0.0</td><td>10.5</td><td>0.3</td><td>98.3</td><td>9</td></tr><tr><td>1</td><td>2016-03-01T00:18:00.000+0000</td><td>2016-03-01T01:01:49.000+0000</td><td>1</td><td>31.6</td><td>-73.79008</td><td>40.643265</td><td>1</td><td>N</td><td>-73.81456</td><td>41.00407</td><td>1</td><td>82.5</td><td>0.5</td><td>0.5</td><td>29.0</td><td>5.54</td><td>0.3</td><td>118.34</td><td>10</td></tr></tbody></table></div>"
      ]
     },
     "metadata": {
      "application/vnd.databricks.v1+output": {
       "addedWidgets": {},
       "aggData": [],
       "aggError": "",
       "aggOverflow": false,
       "aggSchema": [],
       "aggSeriesLimitReached": false,
       "aggType": "",
       "arguments": {},
       "columnCustomDisplayInfos": {},
       "data": [
        [
         2,
         "2016-03-10T10:18:12.000+0000",
         "2016-03-10T18:32:00.000+0000",
         2,
         51.27,
         -73.94728,
         40.78394,
         1,
         "N",
         -73.95114,
         40.78518,
         2,
         314.5,
         0.0,
         0.5,
         0.0,
         0.0,
         0.3,
         315.3,
         1
        ],
        [
         2,
         "2016-03-10T11:37:01.000+0000",
         "2016-03-10T13:54:55.000+0000",
         1,
         49.56,
         -73.995636,
         40.725056,
         1,
         "N",
         -73.99563,
         40.724884,
         2,
         155.0,
         0.0,
         0.5,
         0.0,
         11.08,
         0.3,
         166.88,
         2
        ],
        [
         2,
         "2016-03-01T00:13:09.000+0000",
         "2016-03-01T01:18:39.000+0000",
         1,
         41.55,
         -73.871254,
         40.773945,
         1,
         "N",
         -74.33979,
         40.519493,
         1,
         110.5,
         0.5,
         0.5,
         38.35,
         16.04,
         0.3,
         166.19,
         3
        ],
        [
         2,
         "2016-03-10T09:12:57.000+0000",
         "2016-03-10T10:10:59.000+0000",
         2,
         34.95,
         -74.009636,
         40.72606,
         1,
         "N",
         -74.351456,
         40.50695,
         1,
         95.0,
         0.0,
         0.5,
         8.0,
         12.5,
         0.3,
         116.3,
         4
        ],
        [
         2,
         "2016-03-01T02:21:50.000+0000",
         "2016-03-01T03:15:02.000+0000",
         2,
         33.76,
         -73.96937,
         40.7624,
         1,
         "N",
         -73.52637,
         40.76681,
         2,
         89.5,
         0.5,
         0.5,
         0.0,
         0.0,
         0.3,
         90.8,
         5
        ],
        [
         2,
         "2016-03-01T04:48:29.000+0000",
         "2016-03-01T05:49:40.000+0000",
         1,
         33.18,
         -73.97517,
         40.760204,
         1,
         "N",
         -73.861694,
         40.76835,
         1,
         92.5,
         0.5,
         0.5,
         0.0,
         11.08,
         0.3,
         104.88,
         6
        ],
        [
         2,
         "2016-03-10T13:33:32.000+0000",
         "2016-03-10T14:44:57.000+0000",
         2,
         33.11,
         -73.86281,
         40.76874,
         1,
         "N",
         -73.8617,
         40.76834,
         1,
         92.0,
         0.0,
         0.5,
         10.0,
         11.08,
         0.3,
         113.88,
         7
        ],
        [
         2,
         "2016-03-10T14:19:47.000+0000",
         "2016-03-10T15:52:35.000+0000",
         1,
         32.8,
         -73.9877,
         40.770226,
         1,
         "N",
         -73.73474,
         40.62336,
         1,
         98.0,
         0.0,
         0.5,
         20.87,
         5.54,
         0.3,
         125.21,
         8
        ],
        [
         1,
         "2016-03-01T00:10:06.000+0000",
         "2016-03-01T00:57:57.000+0000",
         1,
         32.6,
         -73.9898,
         40.75649,
         1,
         "N",
         -74.06666,
         41.116085,
         2,
         86.5,
         0.5,
         0.5,
         0.0,
         10.5,
         0.3,
         98.3,
         9
        ],
        [
         1,
         "2016-03-01T00:18:00.000+0000",
         "2016-03-01T01:01:49.000+0000",
         1,
         31.6,
         -73.79008,
         40.643265,
         1,
         "N",
         -73.81456,
         41.00407,
         1,
         82.5,
         0.5,
         0.5,
         29.0,
         5.54,
         0.3,
         118.34,
         10
        ]
       ],
       "datasetInfos": [],
       "dbfsResultPath": null,
       "isJsonSchema": true,
       "metadata": {},
       "overflow": false,
       "plotOptions": {
        "customPlotOptions": {},
        "displayType": "table",
        "pivotAggregation": null,
        "pivotColumns": null,
        "xColumns": null,
        "yColumns": null
       },
       "removedWidgets": [],
       "schema": [
        {
         "metadata": "{}",
         "name": "VendorID",
         "type": "\"integer\""
        },
        {
         "metadata": "{}",
         "name": "tpep_pickup_datetime",
         "type": "\"timestamp\""
        },
        {
         "metadata": "{}",
         "name": "tpep_dropoff_datetime",
         "type": "\"timestamp\""
        },
        {
         "metadata": "{}",
         "name": "passenger_count",
         "type": "\"integer\""
        },
        {
         "metadata": "{}",
         "name": "trip_distance",
         "type": "\"float\""
        },
        {
         "metadata": "{}",
         "name": "pickup_longitude",
         "type": "\"float\""
        },
        {
         "metadata": "{}",
         "name": "pickup_latitude",
         "type": "\"float\""
        },
        {
         "metadata": "{}",
         "name": "RatecodeID",
         "type": "\"integer\""
        },
        {
         "metadata": "{}",
         "name": "store_and_fwd_flag",
         "type": "\"string\""
        },
        {
         "metadata": "{}",
         "name": "dropoff_longitude",
         "type": "\"float\""
        },
        {
         "metadata": "{}",
         "name": "dropoff_latitude",
         "type": "\"float\""
        },
        {
         "metadata": "{}",
         "name": "payment_type",
         "type": "\"integer\""
        },
        {
         "metadata": "{}",
         "name": "fare_amount",
         "type": "\"float\""
        },
        {
         "metadata": "{}",
         "name": "extra",
         "type": "\"float\""
        },
        {
         "metadata": "{}",
         "name": "mta_tax",
         "type": "\"float\""
        },
        {
         "metadata": "{}",
         "name": "tip_amount",
         "type": "\"float\""
        },
        {
         "metadata": "{}",
         "name": "tolls_amount",
         "type": "\"float\""
        },
        {
         "metadata": "{}",
         "name": "improvement_surcharge",
         "type": "\"float\""
        },
        {
         "metadata": "{}",
         "name": "total_amount",
         "type": "\"float\""
        },
        {
         "metadata": "{}",
         "name": "trip_rank",
         "type": "\"integer\""
        }
       ],
       "type": "table"
      }
     },
     "output_type": "display_data"
    }
   ],
   "source": [
    "%sql\n",
    "WITH RankedTrips AS (\n",
    "    SELECT *,\n",
    "           ROW_NUMBER() OVER(PARTITION BY RatecodeID ORDER BY trip_distance DESC) AS trip_rank\n",
    "    FROM taxi_trips\n",
    ")\n",
    "SELECT *\n",
    "FROM RankedTrips\n",
    "WHERE trip_rank <= 10\n",
    "LIMIT 10;\n"
   ]
  },
  {
   "cell_type": "markdown",
   "metadata": {
    "application/vnd.databricks.v1+cell": {
     "cellMetadata": {
      "byteLimit": 2048000,
      "rowLimit": 10000
     },
     "inputWidgets": {},
     "nuid": "5a867df8-b71a-40b8-8d46-447ed9c0d0ca",
     "showTitle": false,
     "title": ""
    }
   },
   "source": [
    "###Q29. Calculate the Hourly Average Fare Amount and Tip Amount Over the Day"
   ]
  },
  {
   "cell_type": "code",
   "execution_count": 0,
   "metadata": {
    "application/vnd.databricks.v1+cell": {
     "cellMetadata": {
      "byteLimit": 2048000,
      "implicitDf": true,
      "rowLimit": 10000
     },
     "inputWidgets": {},
     "nuid": "10a52c2d-dfc3-45b9-9653-f5af2c9cd3f7",
     "showTitle": false,
     "title": ""
    }
   },
   "outputs": [
    {
     "output_type": "display_data",
     "data": {
      "text/html": [
       "<style scoped>\n",
       "  .table-result-container {\n",
       "    max-height: 300px;\n",
       "    overflow: auto;\n",
       "  }\n",
       "  table, th, td {\n",
       "    border: 1px solid black;\n",
       "    border-collapse: collapse;\n",
       "  }\n",
       "  th, td {\n",
       "    padding: 5px;\n",
       "  }\n",
       "  th {\n",
       "    text-align: left;\n",
       "  }\n",
       "</style><div class='table-result-container'><table class='table-result'><thead style='background-color: white'><tr><th>pickup_hour</th><th>avg_fare_amount</th><th>avg_tip_amount</th></tr></thead><tbody><tr><td>2016-03-01T00:00:00.000+0000</td><td>14.008186184430027</td><td>1.906209916669177</td></tr><tr><td>2016-03-01T01:00:00.000+0000</td><td>13.907299903590545</td><td>1.7467695291049907</td></tr><tr><td>2016-03-01T02:00:00.000+0000</td><td>12.901617986164403</td><td>1.4934281322276142</td></tr><tr><td>2016-03-01T03:00:00.000+0000</td><td>14.090516130113473</td><td>1.4285322557774283</td></tr><tr><td>2016-03-01T04:00:00.000+0000</td><td>16.071228616654164</td><td>1.8768636600494368</td></tr><tr><td>2016-03-01T05:00:00.000+0000</td><td>14.440221801460643</td><td>2.0858506889480264</td></tr><tr><td>2016-03-01T06:00:00.000+0000</td><td>13.584519685039252</td><td>2.0052335954791918</td></tr><tr><td>2016-03-10T07:00:00.000+0000</td><td>12.006950785152576</td><td>1.8155089002800862</td></tr><tr><td>2016-03-10T08:00:00.000+0000</td><td>12.213717116485247</td><td>1.8552271950071049</td></tr><tr><td>2016-03-10T09:00:00.000+0000</td><td>12.594820727643068</td><td>1.889086834007368</td></tr><tr><td>2016-03-10T10:00:00.000+0000</td><td>12.97356779218649</td><td>1.9068810390895838</td></tr><tr><td>2016-03-10T11:00:00.000+0000</td><td>13.124655010947082</td><td>1.8379592043366557</td></tr><tr><td>2016-03-10T12:00:00.000+0000</td><td>13.24350646832218</td><td>1.8583599677877471</td></tr><tr><td>2016-03-10T13:00:00.000+0000</td><td>14.002043316395598</td><td>1.9415170526446324</td></tr><tr><td>2016-03-10T14:00:00.000+0000</td><td>14.959385026683046</td><td>2.0909934181870193</td></tr></tbody></table></div>"
      ]
     },
     "metadata": {
      "application/vnd.databricks.v1+output": {
       "addedWidgets": {},
       "aggData": [],
       "aggError": "",
       "aggOverflow": false,
       "aggSchema": [],
       "aggSeriesLimitReached": false,
       "aggType": "",
       "arguments": {},
       "columnCustomDisplayInfos": {},
       "data": [
        [
         "2016-03-01T00:00:00.000+0000",
         14.008186184430027,
         1.906209916669177
        ],
        [
         "2016-03-01T01:00:00.000+0000",
         13.907299903590545,
         1.7467695291049907
        ],
        [
         "2016-03-01T02:00:00.000+0000",
         12.901617986164403,
         1.4934281322276142
        ],
        [
         "2016-03-01T03:00:00.000+0000",
         14.090516130113473,
         1.4285322557774283
        ],
        [
         "2016-03-01T04:00:00.000+0000",
         16.071228616654164,
         1.8768636600494368
        ],
        [
         "2016-03-01T05:00:00.000+0000",
         14.440221801460643,
         2.0858506889480264
        ],
        [
         "2016-03-01T06:00:00.000+0000",
         13.584519685039252,
         2.0052335954791918
        ],
        [
         "2016-03-10T07:00:00.000+0000",
         12.006950785152576,
         1.8155089002800862
        ],
        [
         "2016-03-10T08:00:00.000+0000",
         12.213717116485247,
         1.8552271950071049
        ],
        [
         "2016-03-10T09:00:00.000+0000",
         12.594820727643068,
         1.889086834007368
        ],
        [
         "2016-03-10T10:00:00.000+0000",
         12.97356779218649,
         1.9068810390895838
        ],
        [
         "2016-03-10T11:00:00.000+0000",
         13.124655010947082,
         1.8379592043366557
        ],
        [
         "2016-03-10T12:00:00.000+0000",
         13.24350646832218,
         1.8583599677877471
        ],
        [
         "2016-03-10T13:00:00.000+0000",
         14.002043316395598,
         1.9415170526446324
        ],
        [
         "2016-03-10T14:00:00.000+0000",
         14.959385026683046,
         2.0909934181870193
        ]
       ],
       "datasetInfos": [],
       "dbfsResultPath": null,
       "isJsonSchema": true,
       "metadata": {},
       "overflow": false,
       "plotOptions": {
        "customPlotOptions": {},
        "displayType": "table",
        "pivotAggregation": null,
        "pivotColumns": null,
        "xColumns": null,
        "yColumns": null
       },
       "removedWidgets": [],
       "schema": [
        {
         "metadata": "{}",
         "name": "pickup_hour",
         "type": "\"timestamp\""
        },
        {
         "metadata": "{}",
         "name": "avg_fare_amount",
         "type": "\"double\""
        },
        {
         "metadata": "{}",
         "name": "avg_tip_amount",
         "type": "\"double\""
        }
       ],
       "type": "table"
      }
     },
     "output_type": "display_data"
    }
   ],
   "source": [
    "%sql\n",
    "WITH HourlyAverages AS (\n",
    "    SELECT DATE_TRUNC('hour', tpep_pickup_datetime) AS pickup_hour,\n",
    "           AVG(fare_amount) AS avg_fare_amount,\n",
    "           AVG(tip_amount) AS avg_tip_amount\n",
    "    FROM taxi_trips\n",
    "    GROUP BY pickup_hour\n",
    "    ORDER BY pickup_hour\n",
    ")\n",
    "SELECT pickup_hour,\n",
    "       avg_fare_amount,\n",
    "       avg_tip_amount\n",
    "FROM HourlyAverages;\n"
   ]
  },
  {
   "cell_type": "markdown",
   "metadata": {
    "application/vnd.databricks.v1+cell": {
     "cellMetadata": {
      "byteLimit": 2048000,
      "rowLimit": 10000
     },
     "inputWidgets": {},
     "nuid": "a6601d78-ec2e-461a-8c39-9319122fc226",
     "showTitle": false,
     "title": ""
    }
   },
   "source": [
    "###Q30. Find the Most Common Pickup and Dropoff Locations"
   ]
  },
  {
   "cell_type": "code",
   "execution_count": 0,
   "metadata": {
    "application/vnd.databricks.v1+cell": {
     "cellMetadata": {
      "byteLimit": 2048000,
      "implicitDf": true,
      "rowLimit": 10000
     },
     "inputWidgets": {},
     "nuid": "8599b2bf-49b4-492c-999c-2ef93083a76f",
     "showTitle": false,
     "title": ""
    }
   },
   "outputs": [
    {
     "output_type": "display_data",
     "data": {
      "text/html": [
       "<style scoped>\n",
       "  .table-result-container {\n",
       "    max-height: 300px;\n",
       "    overflow: auto;\n",
       "  }\n",
       "  table, th, td {\n",
       "    border: 1px solid black;\n",
       "    border-collapse: collapse;\n",
       "  }\n",
       "  th, td {\n",
       "    padding: 5px;\n",
       "  }\n",
       "  th {\n",
       "    text-align: left;\n",
       "  }\n",
       "</style><div class='table-result-container'><table class='table-result'><thead style='background-color: white'><tr><th>Most Common Pickup Location:</th><th>pickup_longitude</th><th>pickup_latitude</th><th>pickup_count</th></tr></thead><tbody><tr><td>Most Common Pickup Location:</td><td>0.0</td><td>0.0</td><td>925</td></tr><tr><td>Most Common Dropoff Location:</td><td>0.0</td><td>0.0</td><td>893</td></tr></tbody></table></div>"
      ]
     },
     "metadata": {
      "application/vnd.databricks.v1+output": {
       "addedWidgets": {},
       "aggData": [],
       "aggError": "",
       "aggOverflow": false,
       "aggSchema": [],
       "aggSeriesLimitReached": false,
       "aggType": "",
       "arguments": {},
       "columnCustomDisplayInfos": {},
       "data": [
        [
         "Most Common Pickup Location:",
         0.0,
         0.0,
         925
        ],
        [
         "Most Common Dropoff Location:",
         0.0,
         0.0,
         893
        ]
       ],
       "datasetInfos": [],
       "dbfsResultPath": null,
       "isJsonSchema": true,
       "metadata": {},
       "overflow": false,
       "plotOptions": {
        "customPlotOptions": {},
        "displayType": "table",
        "pivotAggregation": null,
        "pivotColumns": null,
        "xColumns": null,
        "yColumns": null
       },
       "removedWidgets": [],
       "schema": [
        {
         "metadata": "{}",
         "name": "Most Common Pickup Location:",
         "type": "\"string\""
        },
        {
         "metadata": "{}",
         "name": "pickup_longitude",
         "type": "\"float\""
        },
        {
         "metadata": "{}",
         "name": "pickup_latitude",
         "type": "\"float\""
        },
        {
         "metadata": "{}",
         "name": "pickup_count",
         "type": "\"long\""
        }
       ],
       "type": "table"
      }
     },
     "output_type": "display_data"
    }
   ],
   "source": [
    "%sql\n",
    "WITH PickupLocations AS (\n",
    "    SELECT pickup_longitude, pickup_latitude, COUNT(*) AS pickup_count\n",
    "    FROM taxi_trips\n",
    "    GROUP BY pickup_longitude, pickup_latitude\n",
    "    ORDER BY pickup_count DESC\n",
    "    LIMIT 1\n",
    "),\n",
    "DropoffLocations AS (\n",
    "    SELECT dropoff_longitude, dropoff_latitude, COUNT(*) AS dropoff_count\n",
    "    FROM taxi_trips\n",
    "    GROUP BY dropoff_longitude, dropoff_latitude\n",
    "    ORDER BY dropoff_count DESC\n",
    "    LIMIT 1\n",
    ")\n",
    "SELECT 'Most Common Pickup Location:', pickup_longitude, pickup_latitude, pickup_count FROM PickupLocations\n",
    "UNION ALL\n",
    "SELECT 'Most Common Dropoff Location:', dropoff_longitude, dropoff_latitude, dropoff_count FROM DropoffLocations;\n"
   ]
  },
  {
   "cell_type": "markdown",
   "metadata": {
    "application/vnd.databricks.v1+cell": {
     "cellMetadata": {
      "byteLimit": 2048000,
      "rowLimit": 10000
     },
     "inputWidgets": {},
     "nuid": "d4dfbe5a-e2e3-4234-83b1-c6559df78d8d",
     "showTitle": false,
     "title": ""
    }
   },
   "source": [
    "# Creating STAR Schema Dimensional Model"
   ]
  },
  {
   "cell_type": "code",
   "execution_count": 0,
   "metadata": {
    "application/vnd.databricks.v1+cell": {
     "cellMetadata": {
      "byteLimit": 2048000,
      "rowLimit": 10000
     },
     "inputWidgets": {},
     "nuid": "bec692a4-dc32-4bdc-9a6d-463d2105b99e",
     "showTitle": false,
     "title": ""
    }
   },
   "outputs": [
    {
     "output_type": "display_data",
     "data": {
      "text/html": [
       "<img src=\"files/tables/Star_Schema_Dimensional_Model.png\" alt=\"Star Schema Dimensional Model\" style=\"width: 900px;\"/>"
      ]
     },
     "metadata": {
      "application/vnd.databricks.v1+output": {
       "addedWidgets": {},
       "arguments": {},
       "data": "<img src=\"files/tables/Star_Schema_Dimensional_Model.png\" alt=\"Star Schema Dimensional Model\" style=\"width: 900px;\"/>",
       "datasetInfos": [],
       "metadata": {},
       "removedWidgets": [],
       "textData": null,
       "type": "htmlSandbox"
      }
     },
     "output_type": "display_data"
    }
   ],
   "source": [
    "# Define the path to your image\n",
    "image_path = \"/dbfs/FileStore/tables/Star_Schema_Dimensional_Model.png\"\n",
    "\n",
    "# Display the image using displayHTML\n",
    "displayHTML(f'<img src=\"files/tables/Star_Schema_Dimensional_Model.png\" alt=\"Star Schema Dimensional Model\" style=\"width: 900px;\"/>')\n",
    "\n",
    "\n"
   ]
  },
  {
   "cell_type": "markdown",
   "metadata": {
    "application/vnd.databricks.v1+cell": {
     "cellMetadata": {
      "byteLimit": 2048000,
      "rowLimit": 10000
     },
     "inputWidgets": {},
     "nuid": "5607f210-6d98-4506-98f7-091323ac1c50",
     "showTitle": false,
     "title": ""
    }
   },
   "source": [
    "## Creating and Inserting Data into Fact Table"
   ]
  },
  {
   "cell_type": "code",
   "execution_count": 0,
   "metadata": {
    "application/vnd.databricks.v1+cell": {
     "cellMetadata": {
      "byteLimit": 2048000,
      "rowLimit": 10000
     },
     "inputWidgets": {},
     "nuid": "26f4d915-33b7-47eb-b179-a5cd408ec9ae",
     "showTitle": false,
     "title": ""
    }
   },
   "outputs": [
    {
     "output_type": "stream",
     "name": "stdout",
     "output_type": "stream",
     "text": [
      "Out[125]: True"
     ]
    }
   ],
   "source": [
    "dbutils.fs.rm('dbfs:/user/hive/warehouse/fact_taxi_trips', recurse=True)"
   ]
  },
  {
   "cell_type": "code",
   "execution_count": 0,
   "metadata": {
    "application/vnd.databricks.v1+cell": {
     "cellMetadata": {
      "byteLimit": 2048000,
      "implicitDf": true,
      "rowLimit": 10000
     },
     "inputWidgets": {},
     "nuid": "f0c6a978-04c7-426b-bd56-064d8bc131e9",
     "showTitle": false,
     "title": ""
    }
   },
   "outputs": [
    {
     "output_type": "display_data",
     "data": {
      "text/html": [
       "<style scoped>\n",
       "  .table-result-container {\n",
       "    max-height: 300px;\n",
       "    overflow: auto;\n",
       "  }\n",
       "  table, th, td {\n",
       "    border: 1px solid black;\n",
       "    border-collapse: collapse;\n",
       "  }\n",
       "  th, td {\n",
       "    padding: 5px;\n",
       "  }\n",
       "  th {\n",
       "    text-align: left;\n",
       "  }\n",
       "</style><div class='table-result-container'><table class='table-result'><thead style='background-color: white'><tr></tr></thead><tbody></tbody></table></div>"
      ]
     },
     "metadata": {
      "application/vnd.databricks.v1+output": {
       "addedWidgets": {},
       "aggData": [],
       "aggError": "",
       "aggOverflow": false,
       "aggSchema": [],
       "aggSeriesLimitReached": false,
       "aggType": "",
       "arguments": {},
       "columnCustomDisplayInfos": {},
       "data": [],
       "datasetInfos": [],
       "dbfsResultPath": null,
       "isJsonSchema": true,
       "metadata": {},
       "overflow": false,
       "plotOptions": {
        "customPlotOptions": {},
        "displayType": "table",
        "pivotAggregation": null,
        "pivotColumns": null,
        "xColumns": null,
        "yColumns": null
       },
       "removedWidgets": [],
       "schema": [],
       "type": "table"
      }
     },
     "output_type": "display_data"
    }
   ],
   "source": [
    "%sql\n",
    "\n",
    "DROP TABLE IF EXISTS fact_taxi_trips;\n",
    "CREATE TABLE fact_taxi_trips (\n",
    "  trip_id INT,\n",
    "  VendorID INT,\n",
    "  pickup_datetime_id INT,\n",
    "  dropoff_datetime_id INT,\n",
    "  passenger_count INT,\n",
    "  trip_distance FLOAT,\n",
    "  pickup_location_id INT,\n",
    "  dropoff_location_id INT,\n",
    "  RatecodeID INT,\n",
    "  payment_type_id INT,\n",
    "  fare_amount FLOAT,\n",
    "  extra FLOAT,\n",
    "  mta_tax FLOAT,\n",
    "  tip_amount FLOAT,\n",
    "  tolls_amount FLOAT,\n",
    "  improvement_surcharge FLOAT,\n",
    "  total_amount FLOAT\n",
    ");"
   ]
  },
  {
   "cell_type": "code",
   "execution_count": 0,
   "metadata": {
    "application/vnd.databricks.v1+cell": {
     "cellMetadata": {
      "byteLimit": 2048000,
      "implicitDf": true,
      "rowLimit": 10000
     },
     "inputWidgets": {},
     "nuid": "b6687b95-6426-47eb-8f13-fcccc518de67",
     "showTitle": false,
     "title": ""
    }
   },
   "outputs": [
    {
     "output_type": "display_data",
     "data": {
      "text/html": [
       "<style scoped>\n",
       "  .table-result-container {\n",
       "    max-height: 300px;\n",
       "    overflow: auto;\n",
       "  }\n",
       "  table, th, td {\n",
       "    border: 1px solid black;\n",
       "    border-collapse: collapse;\n",
       "  }\n",
       "  th, td {\n",
       "    padding: 5px;\n",
       "  }\n",
       "  th {\n",
       "    text-align: left;\n",
       "  }\n",
       "</style><div class='table-result-container'><table class='table-result'><thead style='background-color: white'><tr><th>num_affected_rows</th><th>num_inserted_rows</th></tr></thead><tbody><tr><td>100000</td><td>100000</td></tr></tbody></table></div>"
      ]
     },
     "metadata": {
      "application/vnd.databricks.v1+output": {
       "addedWidgets": {},
       "aggData": [],
       "aggError": "",
       "aggOverflow": false,
       "aggSchema": [],
       "aggSeriesLimitReached": false,
       "aggType": "",
       "arguments": {},
       "columnCustomDisplayInfos": {},
       "data": [
        [
         100000,
         100000
        ]
       ],
       "datasetInfos": [],
       "dbfsResultPath": null,
       "isJsonSchema": true,
       "metadata": {},
       "overflow": false,
       "plotOptions": {
        "customPlotOptions": {},
        "displayType": "table",
        "pivotAggregation": null,
        "pivotColumns": null,
        "xColumns": null,
        "yColumns": null
       },
       "removedWidgets": [],
       "schema": [
        {
         "metadata": "{}",
         "name": "num_affected_rows",
         "type": "\"long\""
        },
        {
         "metadata": "{}",
         "name": "num_inserted_rows",
         "type": "\"long\""
        }
       ],
       "type": "table"
      }
     },
     "output_type": "display_data"
    }
   ],
   "source": [
    "%sql\n",
    "INSERT INTO fact_taxi_trips (\n",
    "  trip_id,\n",
    "  VendorID,\n",
    "  pickup_datetime_id,\n",
    "  dropoff_datetime_id,\n",
    "  passenger_count,\n",
    "  trip_distance,\n",
    "  pickup_location_id,\n",
    "  dropoff_location_id,\n",
    "  RatecodeID,\n",
    "  payment_type_id,\n",
    "  fare_amount,\n",
    "  extra,\n",
    "  mta_tax,\n",
    "  tip_amount,\n",
    "  tolls_amount,\n",
    "  improvement_surcharge,\n",
    "  total_amount\n",
    ")\n",
    "SELECT \n",
    "  ROW_NUMBER() OVER (ORDER BY tpep_pickup_datetime) AS trip_id,\n",
    "  VendorID,\n",
    "  CAST(UNIX_TIMESTAMP(tpep_pickup_datetime) AS INT) AS pickup_datetime_id,\n",
    "  CAST(UNIX_TIMESTAMP(tpep_dropoff_datetime) AS INT) AS dropoff_datetime_id,\n",
    "  passenger_count,\n",
    "  trip_distance,\n",
    "  CAST(pickup_longitude * 1000000 + pickup_latitude * 1000000 AS INT) AS pickup_location_id,\n",
    "  CAST(dropoff_longitude * 1000000 + dropoff_latitude * 1000000 AS INT) AS dropoff_location_id,\n",
    "  RatecodeID,\n",
    "  payment_type AS payment_type_id,\n",
    "  fare_amount,\n",
    "  extra,\n",
    "  mta_tax,\n",
    "  tip_amount,\n",
    "  tolls_amount,\n",
    "  improvement_surcharge,\n",
    "  total_amount\n",
    "FROM taxi_trips;\n"
   ]
  },
  {
   "cell_type": "markdown",
   "metadata": {
    "application/vnd.databricks.v1+cell": {
     "cellMetadata": {
      "byteLimit": 2048000,
      "rowLimit": 10000
     },
     "inputWidgets": {},
     "nuid": "73578038-a8b2-40e3-90a8-58fb1eac35d8",
     "showTitle": false,
     "title": ""
    }
   },
   "source": [
    "## Creating Dimensions Tables"
   ]
  },
  {
   "cell_type": "code",
   "execution_count": 0,
   "metadata": {
    "application/vnd.databricks.v1+cell": {
     "cellMetadata": {
      "byteLimit": 2048000,
      "implicitDf": true,
      "rowLimit": 10000
     },
     "inputWidgets": {},
     "nuid": "8c8c6829-7e28-4bfa-989b-3d66951e3ff1",
     "showTitle": false,
     "title": ""
    }
   },
   "outputs": [
    {
     "output_type": "display_data",
     "data": {
      "text/html": [
       "<style scoped>\n",
       "  .table-result-container {\n",
       "    max-height: 300px;\n",
       "    overflow: auto;\n",
       "  }\n",
       "  table, th, td {\n",
       "    border: 1px solid black;\n",
       "    border-collapse: collapse;\n",
       "  }\n",
       "  th, td {\n",
       "    padding: 5px;\n",
       "  }\n",
       "  th {\n",
       "    text-align: left;\n",
       "  }\n",
       "</style><div class='table-result-container'><table class='table-result'><thead style='background-color: white'><tr><th>num_affected_rows</th><th>num_inserted_rows</th></tr></thead><tbody><tr><td>47007</td><td>47007</td></tr></tbody></table></div>"
      ]
     },
     "metadata": {
      "application/vnd.databricks.v1+output": {
       "addedWidgets": {},
       "aggData": [],
       "aggError": "",
       "aggOverflow": false,
       "aggSchema": [],
       "aggSeriesLimitReached": false,
       "aggType": "",
       "arguments": {},
       "columnCustomDisplayInfos": {},
       "data": [
        [
         47007,
         47007
        ]
       ],
       "datasetInfos": [],
       "dbfsResultPath": null,
       "isJsonSchema": true,
       "metadata": {},
       "overflow": false,
       "plotOptions": {
        "customPlotOptions": {},
        "displayType": "table",
        "pivotAggregation": null,
        "pivotColumns": null,
        "xColumns": null,
        "yColumns": null
       },
       "removedWidgets": [],
       "schema": [
        {
         "metadata": "{}",
         "name": "num_affected_rows",
         "type": "\"long\""
        },
        {
         "metadata": "{}",
         "name": "num_inserted_rows",
         "type": "\"long\""
        }
       ],
       "type": "table"
      }
     },
     "output_type": "display_data"
    }
   ],
   "source": [
    "%sql\n",
    "DROP TABLE IF EXISTS dim_time;\n",
    "CREATE TABLE dim_time (\n",
    "  time_id INT,\n",
    "  datetime TIMESTAMP,\n",
    "  year INT,\n",
    "  month INT,\n",
    "  day INT,\n",
    "  hour INT,\n",
    "  minute INT,\n",
    "  second INT\n",
    ");\n",
    "\n",
    "-- Extract unique pickup and dropoff datetime values\n",
    "INSERT INTO dim_time (time_id, datetime, year, month, day, hour, minute, second)\n",
    "SELECT DISTINCT\n",
    "  CAST(UNIX_TIMESTAMP(datetime) AS INT) AS time_id,\n",
    "  datetime,\n",
    "  YEAR(datetime) AS year,\n",
    "  MONTH(datetime) AS month,\n",
    "  DAY(datetime) AS day,\n",
    "  HOUR(datetime) AS hour,\n",
    "  MINUTE(datetime) AS minute,\n",
    "  SECOND(datetime) AS second\n",
    "FROM (\n",
    "  SELECT tpep_pickup_datetime AS datetime FROM taxi_trips\n",
    "  UNION\n",
    "  SELECT tpep_dropoff_datetime AS datetime FROM taxi_trips\n",
    ") AS unique_datetimes;\n"
   ]
  },
  {
   "cell_type": "code",
   "execution_count": 0,
   "metadata": {
    "application/vnd.databricks.v1+cell": {
     "cellMetadata": {
      "byteLimit": 2048000,
      "implicitDf": true,
      "rowLimit": 10000
     },
     "inputWidgets": {},
     "nuid": "b79d90fb-c741-4696-8585-fc9ecada9333",
     "showTitle": false,
     "title": ""
    }
   },
   "outputs": [
    {
     "output_type": "display_data",
     "data": {
      "text/html": [
       "<style scoped>\n",
       "  .table-result-container {\n",
       "    max-height: 300px;\n",
       "    overflow: auto;\n",
       "  }\n",
       "  table, th, td {\n",
       "    border: 1px solid black;\n",
       "    border-collapse: collapse;\n",
       "  }\n",
       "  th, td {\n",
       "    padding: 5px;\n",
       "  }\n",
       "  th {\n",
       "    text-align: left;\n",
       "  }\n",
       "</style><div class='table-result-container'><table class='table-result'><thead style='background-color: white'><tr><th>num_affected_rows</th><th>num_inserted_rows</th></tr></thead><tbody><tr><td>194957</td><td>194957</td></tr></tbody></table></div>"
      ]
     },
     "metadata": {
      "application/vnd.databricks.v1+output": {
       "addedWidgets": {},
       "aggData": [],
       "aggError": "",
       "aggOverflow": false,
       "aggSchema": [],
       "aggSeriesLimitReached": false,
       "aggType": "",
       "arguments": {},
       "columnCustomDisplayInfos": {},
       "data": [
        [
         194957,
         194957
        ]
       ],
       "datasetInfos": [],
       "dbfsResultPath": null,
       "isJsonSchema": true,
       "metadata": {},
       "overflow": false,
       "plotOptions": {
        "customPlotOptions": {},
        "displayType": "table",
        "pivotAggregation": null,
        "pivotColumns": null,
        "xColumns": null,
        "yColumns": null
       },
       "removedWidgets": [],
       "schema": [
        {
         "metadata": "{}",
         "name": "num_affected_rows",
         "type": "\"long\""
        },
        {
         "metadata": "{}",
         "name": "num_inserted_rows",
         "type": "\"long\""
        }
       ],
       "type": "table"
      }
     },
     "output_type": "display_data"
    }
   ],
   "source": [
    "%sql\n",
    "DROP TABLE IF EXISTS dim_location;\n",
    "CREATE TABLE dim_location (\n",
    "  location_id INT,\n",
    "  longitude FLOAT,\n",
    "  latitude FLOAT\n",
    ");\n",
    "\n",
    "-- Extract unique pickup and dropoff locations\n",
    "INSERT INTO dim_location (location_id, longitude, latitude)\n",
    "SELECT DISTINCT \n",
    "  CAST(pickup_longitude * 1000000 + pickup_latitude * 1000000 AS INT) AS location_id,\n",
    "  pickup_longitude AS longitude,\n",
    "  pickup_latitude AS latitude\n",
    "FROM taxi_trips\n",
    "UNION\n",
    "SELECT DISTINCT \n",
    "  CAST(dropoff_longitude * 1000000 + dropoff_latitude * 1000000 AS INT) AS location_id,\n",
    "  dropoff_longitude AS longitude,\n",
    "  dropoff_latitude AS latitude\n",
    "FROM taxi_trips;\n"
   ]
  },
  {
   "cell_type": "code",
   "execution_count": 0,
   "metadata": {
    "application/vnd.databricks.v1+cell": {
     "cellMetadata": {
      "byteLimit": 2048000,
      "rowLimit": 10000
     },
     "inputWidgets": {},
     "nuid": "bb249355-38d1-4cab-b296-a1283c66164b",
     "showTitle": false,
     "title": ""
    }
   },
   "outputs": [
    {
     "output_type": "stream",
     "name": "stdout",
     "output_type": "stream",
     "text": [
      "Out[138]: False"
     ]
    }
   ],
   "source": [
    "# Remove the directories if they exist\n",
    "dbutils.fs.rm(\"dbfs:/user/hive/warehouse/rate_code_dim\", recurse=True)\n",
    "dbutils.fs.rm(\"dbfs:/user/hive/warehouse/trip_distance_dim\", recurse=True)\n",
    "dbutils.fs.rm(\"dbfs:/user/hive/warehouse/payment_type_dim\", recurse=True)"
   ]
  },
  {
   "cell_type": "code",
   "execution_count": 0,
   "metadata": {
    "application/vnd.databricks.v1+cell": {
     "cellMetadata": {
      "byteLimit": 2048000,
      "implicitDf": true,
      "rowLimit": 10000
     },
     "inputWidgets": {},
     "nuid": "29839cd9-8b41-42dc-95f3-782a402ca312",
     "showTitle": false,
     "title": ""
    }
   },
   "outputs": [
    {
     "output_type": "display_data",
     "data": {
      "text/html": [
       "<style scoped>\n",
       "  .table-result-container {\n",
       "    max-height: 300px;\n",
       "    overflow: auto;\n",
       "  }\n",
       "  table, th, td {\n",
       "    border: 1px solid black;\n",
       "    border-collapse: collapse;\n",
       "  }\n",
       "  th, td {\n",
       "    padding: 5px;\n",
       "  }\n",
       "  th {\n",
       "    text-align: left;\n",
       "  }\n",
       "</style><div class='table-result-container'><table class='table-result'><thead style='background-color: white'><tr></tr></thead><tbody></tbody></table></div>"
      ]
     },
     "metadata": {
      "application/vnd.databricks.v1+output": {
       "addedWidgets": {},
       "aggData": [],
       "aggError": "",
       "aggOverflow": false,
       "aggSchema": [],
       "aggSeriesLimitReached": false,
       "aggType": "",
       "arguments": {},
       "columnCustomDisplayInfos": {},
       "data": [],
       "datasetInfos": [],
       "dbfsResultPath": null,
       "isJsonSchema": true,
       "metadata": {},
       "overflow": false,
       "plotOptions": {
        "customPlotOptions": {},
        "displayType": "table",
        "pivotAggregation": null,
        "pivotColumns": null,
        "xColumns": null,
        "yColumns": null
       },
       "removedWidgets": [],
       "schema": [],
       "type": "table"
      }
     },
     "output_type": "display_data"
    }
   ],
   "source": [
    "%sql\n",
    "\n",
    "DROP TABLE IF EXISTS trip_distance_dim;\n",
    "DROP TABLE IF EXISTS rate_code_dim;\n",
    "DROP TABLE IF EXISTS payment_type_dim;\n",
    "\n",
    "CREATE TABLE trip_distance_dim (\n",
    "  trip_distance_id INT,\n",
    "  trip_distance FLOAT\n",
    ");\n",
    "\n",
    "\n",
    "CREATE TABLE rate_code_dim (\n",
    "  rate_code_id INT,\n",
    "  rate_code_name STRING\n",
    ");\n",
    "\n",
    "\n",
    "CREATE TABLE payment_type_dim (\n",
    "  payment_type_id INT,\n",
    "  payment_type_name STRING\n",
    ");\n",
    "\n"
   ]
  },
  {
   "cell_type": "code",
   "execution_count": 0,
   "metadata": {
    "application/vnd.databricks.v1+cell": {
     "cellMetadata": {
      "byteLimit": 2048000,
      "implicitDf": true,
      "rowLimit": 10000
     },
     "inputWidgets": {},
     "nuid": "51a864ce-44de-499e-a31a-72da300d5cd4",
     "showTitle": false,
     "title": ""
    }
   },
   "outputs": [
    {
     "output_type": "display_data",
     "data": {
      "text/html": [
       "<style scoped>\n",
       "  .table-result-container {\n",
       "    max-height: 300px;\n",
       "    overflow: auto;\n",
       "  }\n",
       "  table, th, td {\n",
       "    border: 1px solid black;\n",
       "    border-collapse: collapse;\n",
       "  }\n",
       "  th, td {\n",
       "    padding: 5px;\n",
       "  }\n",
       "  th {\n",
       "    text-align: left;\n",
       "  }\n",
       "</style><div class='table-result-container'><table class='table-result'><thead style='background-color: white'><tr><th>num_affected_rows</th><th>num_inserted_rows</th></tr></thead><tbody><tr><td>6</td><td>6</td></tr></tbody></table></div>"
      ]
     },
     "metadata": {
      "application/vnd.databricks.v1+output": {
       "addedWidgets": {},
       "aggData": [],
       "aggError": "",
       "aggOverflow": false,
       "aggSchema": [],
       "aggSeriesLimitReached": false,
       "aggType": "",
       "arguments": {},
       "columnCustomDisplayInfos": {},
       "data": [
        [
         6,
         6
        ]
       ],
       "datasetInfos": [],
       "dbfsResultPath": null,
       "isJsonSchema": true,
       "metadata": {},
       "overflow": false,
       "plotOptions": {
        "customPlotOptions": {},
        "displayType": "table",
        "pivotAggregation": null,
        "pivotColumns": null,
        "xColumns": null,
        "yColumns": null
       },
       "removedWidgets": [],
       "schema": [
        {
         "metadata": "{}",
         "name": "num_affected_rows",
         "type": "\"long\""
        },
        {
         "metadata": "{}",
         "name": "num_inserted_rows",
         "type": "\"long\""
        }
       ],
       "type": "table"
      }
     },
     "output_type": "display_data"
    }
   ],
   "source": [
    "%sql\n",
    "-- Populate trip_distance_dim\n",
    "INSERT INTO trip_distance_dim (trip_distance_id, trip_distance)\n",
    "SELECT DISTINCT NULL, trip_distance\n",
    "FROM fact_taxi_trips;\n",
    "\n",
    "-- Populate rate_code_dim (assuming predefined mappings)\n",
    "INSERT INTO rate_code_dim (rate_code_id, rate_code_name)\n",
    "VALUES\n",
    "  (1, 'Standard Rate'),\n",
    "  (2, 'JFK'),\n",
    "  (3, 'Newark'),\n",
    "  (4, 'Nassau or Westchester'),\n",
    "  (5, 'Negotiated fare'),\n",
    "  (6, 'Group ride');\n",
    "\n",
    "-- Populate payment_type_dim (assuming predefined mappings)\n",
    "INSERT INTO payment_type_dim (payment_type_id, payment_type_name)\n",
    "VALUES\n",
    "  (1, 'Credit card'),\n",
    "  (2, 'Cash'),\n",
    "  (3, 'No charge'),\n",
    "  (4, 'Dispute'),\n",
    "  (5, 'Unknown'),\n",
    "  (6, 'Voided trip');\n"
   ]
  }
 ],
 "metadata": {
  "application/vnd.databricks.v1+notebook": {
   "dashboards": [],
   "environmentMetadata": null,
   "language": "python",
   "notebookMetadata": {
    "mostRecentlyExecutedCommandWithImplicitDF": {
     "commandId": 4413770239861781,
     "dataframes": [
      "_sqldf"
     ]
    },
    "pythonIndentUnit": 4
   },
   "notebookName": "Uber_Project",
   "widgets": {}
  }
 },
 "nbformat": 4,
 "nbformat_minor": 0
}
